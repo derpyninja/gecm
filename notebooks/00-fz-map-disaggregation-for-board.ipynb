{
 "cells": [
  {
   "cell_type": "markdown",
   "source": [
    "# Creating a data-backed playing field\n",
    "Felix Zaussinger | 30.10.2020\n",
    "\n",
    "## Core Analysis Goal(s)\n",
    "\n",
    "1. Find LULC GIS layer and download data.\n",
    "2. Downsampling to ~ 3 lower resolutions/larger cellsizes via rasterio.\n",
    "\n",
    "## Key Insight(s)\n",
    "\n",
    "1. The Historical and present land use dataset (downloaded 30.11.2020 at https://hlamap.org.uk/) useful for our purposes. The only thing that is still missing are forests.\n",
    "2.\n",
    "3.\n",
    "\n",
    "## Arising Todo(s)\n",
    "\n",
    "1. Find forest inventory data and merge with HLA data to get the full picture."
   ],
   "metadata": {
    "collapsed": false
   }
  },
  {
   "cell_type": "code",
   "execution_count": null,
   "outputs": [],
   "source": [
    "import os\n",
    "import sys\n",
    "import logging\n",
    "\n",
    "import numpy as np\n",
    "import scipy as sp\n",
    "import statsmodels.api as sm\n",
    "from statsmodels.formula.api import ols\n",
    "\n",
    "%load_ext autoreload\n",
    "%autoreload 2\n",
    "\n",
    "import matplotlib as mpl\n",
    "import matplotlib.pyplot as plt\n",
    "%matplotlib inline\n",
    "%config InlineBackend.figure_format = 'retina'\n",
    "\n",
    "import seaborn as sns\n",
    "sns.set_context(\"poster\")\n",
    "sns.set(rc={'figure.figsize': (16, 9.)})\n",
    "sns.set_style(\"whitegrid\")\n",
    "\n",
    "import pandas as pd\n",
    "pd.set_option(\"display.max_rows\", 120)\n",
    "pd.set_option(\"display.max_columns\", 120)\n",
    "\n",
    "import geopandas as gpd\n",
    "import rasterio as rio\n",
    "\n",
    "logging.basicConfig(level=logging.INFO, stream=sys.stdout)"
   ],
   "metadata": {
    "collapsed": false,
    "pycharm": {
     "name": "#%%\n"
    }
   }
  },
  {
   "cell_type": "markdown",
   "source": [
    "Promising data sources for GIS layers are summarised here: https://www.environment.gov.scot/maps/other-map-tools/#land.\n",
    "\n",
    "These look really cool:\n",
    "\n",
    "- HabMoS EUNIS Land Cover Scotland (https://map.environment.gov.scot/sewebmap/?layers=eunisLandCoverScotland&extent=-787366,74257,1322365,1708636)\n",
    "- EUNIS Combined Map (https://hub.jncc.gov.uk/assets/2048c042-5d68-46c6-8021-31d177b00ac4)\n",
    "- Benchmark LULC data set ( not for free :( ): https://www.ceh.ac.uk/services/land-cover-map-2015\n",
    "- National Biodiversity Network: https://records.nbnatlas.org/explore/your-area#52.9548|1.1580999999999904|12|ALL_SPECIES\n",
    "- Historical and present land use (downloaded 30.11.2020): https://hlamap.org.uk/\n",
    "- Forest inventory and grant eligibility data: https://open-data-scottishforestry.hub.arcgis.com/search?collection=Dataset\n",
    "- Biosphere Reserves: https://gateway.snh.gov.uk/natural-spaces/dataset.jsp?dsid=BIOSPH\n",
    "- Geodata in general: https://www.spatialdata.gov.scot/geonetwork/srv/eng/catalog.search#/home"
   ],
   "metadata": {
    "collapsed": false
   }
  },
  {
   "cell_type": "markdown",
   "source": [
    "The Historic Land-use Assessment project (HLA) is digitally recording land use across Scotland. It maps both activities like industrial farming or ski areas that are current today, and also land use activities from periods in the past, such as charcoal burning or prehistoric agriculture and settlement. The data has been gathered since 1997 as a partnership between Historic Scotland (HS) and the Royal Commision on the Ancient and Historical Monuments of Scotland and coverage was completed in 2015, a  year that also saw the merging of the two organisations into Historic Environment Scotland."
   ],
   "metadata": {
    "collapsed": false
   }
  },
  {
   "cell_type": "code",
   "execution_count": null,
   "outputs": [],
   "source": [
    "data_raw = os.path.join(\"..\", \"data\", \"raw\")\n",
    "data_processed = os.path.join(\"..\", \"data\", \"processed\")\n",
    "lulc_fpath = os.path.join(data_raw, \"HLAmap\", \"HLA_Dec2017.shp\")\n",
    "\n",
    "lulc = gpd.read_file(lulc_fpath)\n",
    "lulc"
   ],
   "metadata": {
    "collapsed": false,
    "pycharm": {
     "name": "#%%\n"
    }
   }
  },
  {
   "cell_type": "code",
   "execution_count": null,
   "outputs": [],
   "source": [
    "lulc.Period.unique()"
   ],
   "metadata": {
    "collapsed": false,
    "pycharm": {
     "name": "#%%\n"
    }
   }
  },
  {
   "cell_type": "code",
   "execution_count": null,
   "outputs": [],
   "source": [
    "lulc.Historic_L.unique()"
   ],
   "metadata": {
    "collapsed": false,
    "pycharm": {
     "name": "#%%\n"
    }
   }
  },
  {
   "cell_type": "code",
   "execution_count": null,
   "outputs": [],
   "source": [
    "lulc.crs"
   ],
   "metadata": {
    "collapsed": false,
    "pycharm": {
     "name": "#%%\n"
    }
   }
  },
  {
   "cell_type": "code",
   "execution_count": null,
   "outputs": [],
   "source": [
    "lulc.plot(column=\"Type\")"
   ],
   "metadata": {
    "collapsed": false,
    "pycharm": {
     "name": "#%%\n"
    }
   }
  },
  {
   "cell_type": "markdown",
   "source": [
    "Subset Galloway and Southern Ayrshire Biosphere Reserve"
   ],
   "metadata": {
    "collapsed": false
   }
  },
  {
   "cell_type": "code",
   "execution_count": null,
   "outputs": [],
   "source": [
    "parks_fpath = os.path.join(data_raw, \"BIOSPH_SCOTLAND_ESRI\", \"BIOSPH_SCOTLAND.shp\")\n",
    "# lulc_park = gpd.clip(lulc, park_polygon)\n",
    "parks = gpd.read_file(parks_fpath)"
   ],
   "metadata": {
    "collapsed": false,
    "pycharm": {
     "name": "#%%\n"
    }
   }
  },
  {
   "cell_type": "code",
   "execution_count": null,
   "outputs": [],
   "source": [
    "parks.crs"
   ],
   "metadata": {
    "collapsed": false,
    "pycharm": {
     "name": "#%%\n"
    }
   }
  },
  {
   "cell_type": "code",
   "execution_count": null,
   "outputs": [],
   "source": [
    "parks.crs == lulc.crs"
   ],
   "metadata": {
    "collapsed": false,
    "pycharm": {
     "name": "#%%\n"
    }
   }
  },
  {
   "cell_type": "code",
   "execution_count": null,
   "outputs": [],
   "source": [
    "our_park = parks.loc[parks.NAME == parks.NAME.unique()[0]]"
   ],
   "metadata": {
    "collapsed": false,
    "pycharm": {
     "name": "#%%\n"
    }
   }
  },
  {
   "cell_type": "code",
   "execution_count": null,
   "outputs": [],
   "source": [
    "our_park.plot()"
   ],
   "metadata": {
    "collapsed": false,
    "pycharm": {
     "name": "#%%\n"
    }
   }
  },
  {
   "cell_type": "code",
   "execution_count": null,
   "outputs": [],
   "source": [
    "our_park_polygon = our_park.dissolve(by=\"NAME\")\n",
    "our_park_polygon.plot()"
   ],
   "metadata": {
    "collapsed": false,
    "pycharm": {
     "name": "#%%\n"
    }
   }
  },
  {
   "cell_type": "markdown",
   "source": [
    "Decision based on https://hlamap.org.uk/pdfs/HLA%20Glossary.pdf"
   ],
   "metadata": {
    "collapsed": false
   }
  },
  {
   "cell_type": "code",
   "execution_count": null,
   "outputs": [],
   "source": [
    "lulc_modern = lulc.loc[lulc.Period == \"Late 20th Century-Present\"]\n",
    "lulc_modern_valid = lulc_modern.loc[lulc_modern.is_valid]\n",
    "lulc_modern_valid"
   ],
   "metadata": {
    "collapsed": false,
    "pycharm": {
     "name": "#%%\n"
    }
   }
  },
  {
   "cell_type": "code",
   "execution_count": null,
   "outputs": [],
   "source": [
    "park_modern_lulc = gpd.clip(lulc_modern_valid, our_park_polygon.convex_hull.envelope)"
   ],
   "metadata": {
    "collapsed": false,
    "pycharm": {
     "name": "#%%\n"
    }
   }
  },
  {
   "cell_type": "markdown",
   "source": [
    "Based on https://stackoverflow.com/questions/54562069/multi-layer-gdb-files-in-python/54563846"
   ],
   "metadata": {
    "collapsed": false
   }
  },
  {
   "cell_type": "code",
   "execution_count": null,
   "outputs": [],
   "source": [
    "# import fiona\n",
    "# eunis_fpath = os.path.join(data_raw, \"C20191101_EUNIS_L3_CombinedMap.gdb\")\n",
    "# eunis = gpd.read_file(eunis_fpath, layer=fiona.listlayers(eunis_fpath)[0])"
   ],
   "metadata": {
    "collapsed": false,
    "pycharm": {
     "name": "#%%\n"
    }
   }
  },
  {
   "cell_type": "code",
   "execution_count": null,
   "outputs": [],
   "source": [
    "park_modern_lulc.columns"
   ],
   "metadata": {
    "collapsed": false,
    "pycharm": {
     "name": "#%%\n"
    }
   }
  },
  {
   "cell_type": "code",
   "execution_count": null,
   "outputs": [],
   "source": [
    "ax = our_park.plot()\n",
    "park_modern_lulc.plot(\n",
    "    column = \"Type\",\n",
    "    legend = True,\n",
    "    ax=ax\n",
    ")"
   ],
   "metadata": {
    "collapsed": false,
    "pycharm": {
     "name": "#%%\n"
    }
   }
  },
  {
   "cell_type": "code",
   "execution_count": null,
   "outputs": [],
   "source": [
    "park_modern_lulc.Type.unique()"
   ],
   "metadata": {
    "collapsed": false,
    "pycharm": {
     "name": "#%%\n"
    }
   }
  },
  {
   "cell_type": "code",
   "execution_count": null,
   "outputs": [],
   "source": [
    "park_modern_lulc[\"lulc_type_num\"] = 255"
   ],
   "metadata": {
    "collapsed": false,
    "pycharm": {
     "name": "#%%\n"
    }
   }
  },
  {
   "cell_type": "markdown",
   "source": [
    "https://rasterio.readthedocs.io/en/latest/api/rasterio.features.html"
   ],
   "metadata": {
    "collapsed": false
   }
  },
  {
   "cell_type": "code",
   "execution_count": null,
   "outputs": [],
   "source": [
    "mapping = {\n",
    "    'Country Park': 1,\n",
    "    'Motorway and Major Roads': 2,\n",
    "    'Landfill Site': 3,\n",
    "    'Opencast Site': 4,\n",
    "    'Industrial-scale Farming Unit': 5,\n",
    "    'Restored Agricultural Land': 6,\n",
    "    'Unenclosed Improved Pasture': 7,\n",
    "    'Deer Lawn': 8,\n",
    "    'Power Generation': 9,\n",
    "    'Rough Grazing': 10\n",
    "}"
   ],
   "metadata": {
    "collapsed": false,
    "pycharm": {
     "name": "#%%\n"
    }
   }
  },
  {
   "cell_type": "code",
   "execution_count": null,
   "outputs": [],
   "source": [
    "park_modern_lulc[\"lulc_type_num\"] = [mapping[k] for k in park_modern_lulc.Type.values]"
   ],
   "metadata": {
    "collapsed": false,
    "pycharm": {
     "name": "#%%\n"
    }
   }
  },
  {
   "cell_type": "code",
   "execution_count": null,
   "outputs": [],
   "source": [
    "park_modern_lulc[\"lulc_type_num\"] = park_modern_lulc.lulc_type_num.astype(\"int16\")\n"
   ],
   "metadata": {
    "collapsed": false,
    "pycharm": {
     "name": "#%%\n"
    }
   }
  },
  {
   "cell_type": "code",
   "execution_count": null,
   "outputs": [],
   "source": [
    "park_modern_lulc.lulc_type_num"
   ],
   "metadata": {
    "collapsed": false,
    "pycharm": {
     "name": "#%%\n"
    }
   }
  },
  {
   "cell_type": "code",
   "execution_count": null,
   "outputs": [],
   "source": [
    "import rasterio\n",
    "from rasterio import features\n",
    "\n",
    "# raster dims\n",
    "rows = 100\n",
    "cols = 100\n",
    "\n",
    "data_processed = os.path.join(\"..\", \"data\", \"processed\")\n",
    "out_fn = os.path.join(data_processed, 'HLA_rasterized_{}_{}.tif'.format(rows, cols))\n",
    "\n",
    "with rasterio.open(out_fn, 'w+', driver='GTiff', width=cols, height=rows, count=1, dtype=np.int16, nodata=255) as out:\n",
    "    out_arr = out.read(1)\n",
    "    print(out_arr)\n",
    "\n",
    "    # this is where we create a generator of geom, value pairs to use in rasterizing\n",
    "    shapes = ((geom,value) for geom, value in zip(park_modern_lulc.geometry, park_modern_lulc.lulc_type_num.values))\n",
    "    burned = features.rasterize(shapes=shapes, fill=255, out=out_arr, all_touched=False)\n",
    "    out.write_band(1, burned)\n",
    "\n",
    "np.unique(burned)"
   ],
   "metadata": {
    "collapsed": false,
    "pycharm": {
     "name": "#%%\n"
    }
   }
  },
  {
   "cell_type": "code",
   "execution_count": null,
   "outputs": [],
   "source": [],
   "metadata": {
    "collapsed": false,
    "pycharm": {
     "name": "#%%\n"
    }
   }
  }
 ],
 "metadata": {
  "kernelspec": {
   "display_name": "PyCharm (gecm)",
   "language": "python",
   "name": "pycharm-ba196790"
  },
  "language_info": {
   "codemirror_mode": {
    "name": "ipython",
    "version": 3
   },
   "file_extension": ".py",
   "mimetype": "text/x-python",
   "name": "python",
   "nbconvert_exporter": "python",
   "pygments_lexer": "ipython3",
   "version": "3.8.6"
  }
 },
 "nbformat": 4,
 "nbformat_minor": 4
}