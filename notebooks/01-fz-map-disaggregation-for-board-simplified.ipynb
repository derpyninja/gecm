{
 "cells": [
  {
   "cell_type": "markdown",
   "source": [
    "# Creating a data-backed playing field\n",
    "Felix Zaussinger | 30.10.2020\n",
    "\n",
    "## Core Analysis Goal(s)\n",
    "\n",
    "1. Find LULC GIS layer and download data.\n",
    "2. Downsampling to ~ 3 lower resolutions/larger cellsizes via rasterio.\n",
    "\n",
    "## Key Insight(s)\n",
    "\n",
    "1. The Historical and present land use dataset (downloaded 30.11.2020 at https://hlamap.org.uk/) useful for our purposes.\n",
    "\n",
    "## Arising Todo(s)\n",
    "\n",
    "1. Find forest inventory data and merge with HLA data to get the full picture."
   ],
   "metadata": {
    "collapsed": false
   }
  },
  {
   "cell_type": "markdown",
   "source": [
    "#### Package imports"
   ],
   "metadata": {
    "collapsed": false
   }
  },
  {
   "cell_type": "code",
   "execution_count": 1,
   "outputs": [],
   "source": [
    "import os\n",
    "import sys\n",
    "import logging\n",
    "\n",
    "%load_ext autoreload\n",
    "%autoreload 2\n",
    "\n",
    "import numpy as np\n",
    "import rasterio\n",
    "from pprint import pprint\n",
    "from rasterio import features\n",
    "from rasterio.plot import show\n",
    "\n",
    "import matplotlib.pyplot as plt\n",
    "%matplotlib inline\n",
    "%config InlineBackend.figure_format = 'retina'\n",
    "\n",
    "import seaborn as sns\n",
    "sns.set_context(\"poster\")\n",
    "sns.set(rc={'figure.figsize': (16, 9.)})\n",
    "sns.set_style(\"whitegrid\")\n",
    "\n",
    "import pandas as pd\n",
    "pd.set_option(\"display.max_rows\", 120)\n",
    "pd.set_option(\"display.max_columns\", 120)\n",
    "\n",
    "import geopandas as gpd\n",
    "import rasterio as rio\n",
    "\n",
    "logging.basicConfig(level=logging.INFO, stream=sys.stdout)"
   ],
   "metadata": {
    "collapsed": false,
    "pycharm": {
     "name": "#%%\n"
    }
   }
  },
  {
   "cell_type": "markdown",
   "source": [
    "#### Directory settings"
   ],
   "metadata": {
    "collapsed": false
   }
  },
  {
   "cell_type": "code",
   "execution_count": 2,
   "outputs": [],
   "source": [
    "data_raw = os.path.join(\"..\", \"data\", \"raw\")\n",
    "data_processed = os.path.join(\"..\", \"data\", \"processed\")\n",
    "figure_dir = os.path.join(\"..\", \"plots\")"
   ],
   "metadata": {
    "collapsed": false,
    "pycharm": {
     "name": "#%%\n"
    }
   }
  },
  {
   "cell_type": "markdown",
   "source": [
    "#### Define dimensions of output maps"
   ],
   "metadata": {
    "collapsed": false
   }
  },
  {
   "cell_type": "code",
   "execution_count": 3,
   "outputs": [],
   "source": [
    "# raster dims\n",
    "rows = cols = 40"
   ],
   "metadata": {
    "collapsed": false,
    "pycharm": {
     "name": "#%%\n"
    }
   }
  },
  {
   "cell_type": "markdown",
   "source": [
    "#### Whether optional, time-intensive tasks should be run"
   ],
   "metadata": {
    "collapsed": false
   }
  },
  {
   "cell_type": "code",
   "execution_count": 4,
   "outputs": [],
   "source": [
    "run_time_intensive_task = False"
   ],
   "metadata": {
    "collapsed": false,
    "pycharm": {
     "name": "#%%\n"
    }
   }
  },
  {
   "cell_type": "markdown",
   "source": [
    "### Dataset 1: NFI woodland map 2018 \n",
    " \n",
    "The NFI woodland map covers all forest and woodland area over 0.5 hectare with a minimum of 20% canopy cover (or the potential to achieve it) and a minimum width of 20 metres, including areas of new planting, clearfell, windblow and restocked areas.\n",
    "\n",
    "**Category**             \n",
    "\n",
    "1.            Woodland – areas greater than 0.5 hectares that represents the extent of mapped woodland\n",
    "\n",
    "2.            Non woodland – open areas greater than 0.5 hectares completely surrounded by woodland\n",
    "\n",
    "\n",
    "\n",
    "**Interpreted Forest Types (IFT) Woodland areas classification**\n",
    "\n",
    "1.            Conifer - Coniferous woodland often occurs as large plantations with trees in regular rows and the stand edges may be regular and sharply defined. Some broadleaved trees may also be present but greater than 80% of the area will consist of conifers.\n",
    "\n",
    "2.            Broadleaved - The canopy of broadleaved woodland is generally more uneven than that of coniferous woodland being made up of rounded crowns but with variations according to species, age, height, and season. Boundaries with adjacent internal polygons are generally less clearly defined than with conifers and naturally occurring stands may grade into adjacent ones with no sharp division. Some coniferous trees may be present but greater than 80% of the area will consist of broadleaved trees.\n",
    "\n",
    "3.            Mixed Predominantly conifer - The interpretation of Mixed woodland can be very difficult as it exhibits intermediate characteristics between Conifer and Broadleaved woodland. There can be several types of mixed woodland. A plantation of alternate rows of conifer and broadleaves may produce a 'striped' appearance. You may see conifer and broadleaves planted in blocks, and there may be general intersperse woodland. The proportion of the Conifer will be more than 50% of the area and less than 80%.\n",
    "\n",
    "4.            Mixed Predominantly broadleaved - The interpretation of Mixed woodland can be very difficult as it exhibits intermediate characteristics between Conifer and Broadleaved woodland. There can be several types of mixed woodland. A plantation of alternate rows of conifer and broadleaves may produce a 'striped' appearance. You may see conifer and broadleaves planted in blocks, and there may be general intersperse woodland. The proportion of the Broadleaves will be more than 50% of the area and less than 80%.\n",
    "\n",
    "5.            Coppice - The most important characteristic of coppice areas on aerial photography is very even, smooth appearance. The coppice area may be made up of a patchwork of different ages (heights) but all show this very even character. Areas recently cut may appear to have a very clear floor with little felling debris.\n",
    "\n",
    "6.            Coppice-with-Standards - Some areas of coppice also include larger broadleaved trees set in the coppice matrix. These broadleaved trees, often oak, are known as standards and show very clearly over the even coppice as large rounded crowns. The distribution of the standards may also be fairly scattered with approximately 25 per ha.\n",
    "\n",
    "7.            Shrub - This category is intended to include areas that may possibly be woodland, where the growth is close to the ground and shows a rough character but no clear differentiation between Conifer and Broadleaved can yet be made. Areas being colonised by woody species may fall into this category. The cover will be at least 20%.\n",
    "\n",
    "8.            Young Trees - Areas where planting is clearly visible but the trees cannot yet be allocated between Conifer and Broadleaved due to their immaturity. These areas can be on either land new to woodland or where a felled crop has been replaced.\n",
    "\n",
    "9.            Felled - Areas of woodland where the trees have been harvested or felled. Stumps or felled trees may be visible and there may be long heaps of felling debris ('windrows'). Some standing trees within this limit may also be present but should be disregarded. The areas concerned may also have been re-stocked but the new trees are not yet visible.\n",
    "\n",
    "10.          Ground Prepared for New Planting - Land in this category is area recently converted from some other land use to woodland and will show plough furrows or mounding but the new planting (if present) cannot yet be discerned\n",
    "\n",
    "11.          Cloud or Shadow - If cloud or shadow areas obscure woodland detail and it is difficult to allocate one of the above IFTs, and then digitise a new boundary line feature around the area of uncertain forest type.\n",
    "\n",
    "12.          Uncertain - Where the interpreter is uncertain of the IFT/IOA to be used X will be designated. The rate of use of this category should decline over time as operators become more proficient and better at recognising IFT/IOAs. As part of the QA procedures X's will be checked and operators found using this code frequently will be subject to more intensive QA procedures and possibly more training.\n",
    "\n",
    "13.          Low density- This category intended to include areas that have less than 20% canopy cover that might have potential to achieve woodland in the future.  These areas will be monitored in future updates and either updated to reflect forest type or removed from the dataset.\n",
    "\n",
    "14.          Assumed woodland - The supplied grant scheme and FC new planting polygons have been attributed as 'assumed woodland' as these areas have not been checked against the latest images and will be monitored in future updates and either updated to reflect forest type or removed from the dataset.\n",
    "\n",
    "15.          Failed - Areas that show evidence of ground prep over several years and still exhibit no evidence of tress, based on the latest available imagery.\n",
    "\n",
    "16.          Windblow - Areas of woodland where the trees have been uprooting or broken by the wind and which remain uncleared and not regenerated based on the latest available imagery.\n",
    "\n",
    "**Non woodland areas classification**\n",
    "\n",
    "1.            Open water - Normally labelled within OSMM, areas of even colour.\n",
    "\n",
    "2.            Grass - A predominantly grassy area - may be agricultural or not.\n",
    "\n",
    "3.            Agricultural land - May contain a cereal crop or pasture.\n",
    "\n",
    "4.            Urban/Building - Buildings within woodland areas, may include gardens surrounding the building.\n",
    "\n",
    "5.            Forest road, track - Linear feature, often fairly straight with gentle bends or turning circles.\n",
    "\n",
    "6.            River - Linear feature, depending on location can be fairly straight or meander through woodland.\n",
    "\n",
    "7.            Powerline - Possible shadow evidence of poles, pylons or even the cable/lines.\n",
    "\n",
    "8.            Quarry - Show change in vegetation to geology, sand, slate, rock etc. Active quarries could have buildings, heavy plant tracks leading into the quarry.\n",
    "\n",
    "9.            Bare - Bare ground/rock.\n",
    "\n",
    "10.          Windfarm - Possible shadow evidence of turbines, normally in groups.\n",
    "\n",
    "11.          Other vegetation - Not covered by the above, e.g. Gorse, Rhododendron, Bracken, Heather etc.\n",
    "\n",
    "\n",
    "**Notes**\n",
    "\n",
    "a.            Species such as Gorse and Rhododendron are not regarded as woodland and have therefore been excluded.\n",
    "\n",
    "b.            Orchards are not regarded as woodland but have been mapped for carbon accounting purposes. Details can be provided on request.\n",
    "\n",
    "c.             Interpreted Forest Types are only used to classify polygons in the NFI digital woodland map. IFTs are useful when using the map without the sample data, and for smaller geographic areas where the sample data would be inappropriate. However, for larger geographic areas data on forest types collected in the field is considered to be more accurate, and hence is used for reporting purposes."
   ],
   "metadata": {
    "collapsed": false
   }
  },
  {
   "cell_type": "markdown",
   "source": [
    "#### Read simplified NFI file"
   ],
   "metadata": {
    "collapsed": false
   }
  },
  {
   "cell_type": "code",
   "execution_count": 5,
   "outputs": [],
   "source": [
    "nfi_inpath = os.path.join(data_processed, \"NFI_valid_and_clipped.shp\")\n",
    "\n",
    "if os.path.exists(nfi_inpath):\n",
    "    nfi_valid_clipped = gpd.read_file(nfi_inpath)"
   ],
   "metadata": {
    "collapsed": false,
    "pycharm": {
     "name": "#%%\n"
    }
   }
  },
  {
   "cell_type": "code",
   "execution_count": 6,
   "outputs": [
    {
     "data": {
      "text/plain": "array(['Bare area', 'Agriculture land', 'Urban', 'Grassland', 'Quarry',\n       'Road', 'Other vegetation', 'River', 'Open water', 'Windfarm',\n       'Assumed woodland', 'Broadleaved', 'Conifer', 'Felled', 'Failed',\n       'Ground prep', 'Low density', 'Mixed mainly broadleaved',\n       'Mixed mainly conifer', 'Young trees', 'Coppice with standards',\n       'Shrub', 'Windblow'], dtype=object)"
     },
     "execution_count": 6,
     "metadata": {},
     "output_type": "execute_result"
    }
   ],
   "source": [
    "nfi_valid_clipped.IFT_IOA.unique()"
   ],
   "metadata": {
    "collapsed": false,
    "pycharm": {
     "name": "#%%\n"
    }
   }
  },
  {
   "cell_type": "markdown",
   "source": [
    "#### Create mapping for NFI data"
   ],
   "metadata": {
    "collapsed": false
   }
  },
  {
   "cell_type": "code",
   "execution_count": 7,
   "outputs": [
    {
     "data": {
      "text/plain": "{'Bare area': 1,\n 'Agriculture land': 2,\n 'Urban': 3,\n 'Grassland': 4,\n 'Quarry': 5,\n 'Road': 6,\n 'Other vegetation': 7,\n 'River': 8,\n 'Open water': 9,\n 'Windfarm': 10,\n 'Assumed woodland': 11,\n 'Broadleaved': 12,\n 'Conifer': 13,\n 'Felled': 14,\n 'Failed': 15,\n 'Ground prep': 16,\n 'Low density': 17,\n 'Mixed mainly broadleaved': 18,\n 'Mixed mainly conifer': 19,\n 'Young trees': 20,\n 'Coppice with standards': 21,\n 'Shrub': 22,\n 'Windblow': 23}"
     },
     "execution_count": 7,
     "metadata": {},
     "output_type": "execute_result"
    }
   ],
   "source": [
    "nfi_mapping = {}\n",
    "\n",
    "keys = nfi_valid_clipped.IFT_IOA.unique()\n",
    "values = np.arange(1, len(keys) + 1, 1)\n",
    "\n",
    "for k, v in zip(keys, values):\n",
    "    nfi_mapping[k] = v\n",
    "    \n",
    "nfi_mapping"
   ],
   "metadata": {
    "collapsed": false,
    "pycharm": {
     "name": "#%%\n"
    }
   }
  },
  {
   "cell_type": "markdown",
   "source": [
    "#### Convert NFI polygon's to raster (key piece of code)\n",
    "Based on https://rasterio.readthedocs.io/en/latest/api/rasterio.features.html"
   ],
   "metadata": {
    "collapsed": false
   }
  },
  {
   "cell_type": "code",
   "execution_count": 8,
   "outputs": [
    {
     "data": {
      "text/plain": "       OBJECTID_1  OBJECTID      CATEGORY    IFT_IOA   COUNTRY    Shape_Leng  \\\n0               2       883  Non woodland  Bare area  Scotland   1053.621578   \n1               3       884  Non woodland  Bare area  Scotland    355.234345   \n2               4       885  Non woodland  Bare area  Scotland    498.972486   \n3               5       886  Non woodland  Bare area  Scotland    546.104475   \n4               6       887  Non woodland  Bare area  Scotland    380.274117   \n...           ...       ...           ...        ...       ...           ...   \n22220      198828    608919      Woodland   Windblow  Scotland    458.046995   \n22221      198829    608920      Woodland   Windblow  Scotland    444.613416   \n22222      202767    613185      Woodland    Conifer  Scotland  82249.064441   \n22223      202777    613216      Woodland   Windblow  Scotland   1104.512784   \n22224      202778    613217      Woodland   Windblow  Scotland    303.765438   \n\n           Area_ha    Shape__Are    Shape__Len  \\\n0         3.357781  3.357781e+04   1053.621578   \n1         0.666762  6.667620e+03    355.234345   \n2         0.758013  7.580132e+03    498.972486   \n3         1.012414  1.012414e+04    546.104475   \n4         0.831665  8.316648e+03    380.274117   \n...            ...           ...           ...   \n22220     1.059733  1.059733e+04    458.046995   \n22221     1.061602  1.061602e+04    444.613416   \n22222  1048.792329  1.048792e+07  82249.064441   \n22223     3.614690  3.614690e+04   1104.512784   \n22224     0.602940  6.029396e+03    303.765438   \n\n                                                geometry  \n0      POLYGON ((233732.700 549963.900, 233733.001 54...  \n1      POLYGON ((276166.271 552164.696, 276154.718 55...  \n2      POLYGON ((275930.599 552437.627, 275943.884 55...  \n3      POLYGON ((275640.360 552722.940, 275674.840 55...  \n4      POLYGON ((235164.270 553569.222, 235170.598 55...  \n...                                                  ...  \n22220  POLYGON ((277596.771 626770.099, 277561.052 62...  \n22221  POLYGON ((277456.841 626896.597, 277441.902 62...  \n22222  POLYGON ((240927.530 576750.219, 240927.377 57...  \n22223  POLYGON ((241140.500 573257.500, 241137.638 57...  \n22224  POLYGON ((241414.034 573548.165, 241405.236 57...  \n\n[22225 rows x 10 columns]",
      "text/html": "<div>\n<style scoped>\n    .dataframe tbody tr th:only-of-type {\n        vertical-align: middle;\n    }\n\n    .dataframe tbody tr th {\n        vertical-align: top;\n    }\n\n    .dataframe thead th {\n        text-align: right;\n    }\n</style>\n<table border=\"1\" class=\"dataframe\">\n  <thead>\n    <tr style=\"text-align: right;\">\n      <th></th>\n      <th>OBJECTID_1</th>\n      <th>OBJECTID</th>\n      <th>CATEGORY</th>\n      <th>IFT_IOA</th>\n      <th>COUNTRY</th>\n      <th>Shape_Leng</th>\n      <th>Area_ha</th>\n      <th>Shape__Are</th>\n      <th>Shape__Len</th>\n      <th>geometry</th>\n    </tr>\n  </thead>\n  <tbody>\n    <tr>\n      <th>0</th>\n      <td>2</td>\n      <td>883</td>\n      <td>Non woodland</td>\n      <td>Bare area</td>\n      <td>Scotland</td>\n      <td>1053.621578</td>\n      <td>3.357781</td>\n      <td>3.357781e+04</td>\n      <td>1053.621578</td>\n      <td>POLYGON ((233732.700 549963.900, 233733.001 54...</td>\n    </tr>\n    <tr>\n      <th>1</th>\n      <td>3</td>\n      <td>884</td>\n      <td>Non woodland</td>\n      <td>Bare area</td>\n      <td>Scotland</td>\n      <td>355.234345</td>\n      <td>0.666762</td>\n      <td>6.667620e+03</td>\n      <td>355.234345</td>\n      <td>POLYGON ((276166.271 552164.696, 276154.718 55...</td>\n    </tr>\n    <tr>\n      <th>2</th>\n      <td>4</td>\n      <td>885</td>\n      <td>Non woodland</td>\n      <td>Bare area</td>\n      <td>Scotland</td>\n      <td>498.972486</td>\n      <td>0.758013</td>\n      <td>7.580132e+03</td>\n      <td>498.972486</td>\n      <td>POLYGON ((275930.599 552437.627, 275943.884 55...</td>\n    </tr>\n    <tr>\n      <th>3</th>\n      <td>5</td>\n      <td>886</td>\n      <td>Non woodland</td>\n      <td>Bare area</td>\n      <td>Scotland</td>\n      <td>546.104475</td>\n      <td>1.012414</td>\n      <td>1.012414e+04</td>\n      <td>546.104475</td>\n      <td>POLYGON ((275640.360 552722.940, 275674.840 55...</td>\n    </tr>\n    <tr>\n      <th>4</th>\n      <td>6</td>\n      <td>887</td>\n      <td>Non woodland</td>\n      <td>Bare area</td>\n      <td>Scotland</td>\n      <td>380.274117</td>\n      <td>0.831665</td>\n      <td>8.316648e+03</td>\n      <td>380.274117</td>\n      <td>POLYGON ((235164.270 553569.222, 235170.598 55...</td>\n    </tr>\n    <tr>\n      <th>...</th>\n      <td>...</td>\n      <td>...</td>\n      <td>...</td>\n      <td>...</td>\n      <td>...</td>\n      <td>...</td>\n      <td>...</td>\n      <td>...</td>\n      <td>...</td>\n      <td>...</td>\n    </tr>\n    <tr>\n      <th>22220</th>\n      <td>198828</td>\n      <td>608919</td>\n      <td>Woodland</td>\n      <td>Windblow</td>\n      <td>Scotland</td>\n      <td>458.046995</td>\n      <td>1.059733</td>\n      <td>1.059733e+04</td>\n      <td>458.046995</td>\n      <td>POLYGON ((277596.771 626770.099, 277561.052 62...</td>\n    </tr>\n    <tr>\n      <th>22221</th>\n      <td>198829</td>\n      <td>608920</td>\n      <td>Woodland</td>\n      <td>Windblow</td>\n      <td>Scotland</td>\n      <td>444.613416</td>\n      <td>1.061602</td>\n      <td>1.061602e+04</td>\n      <td>444.613416</td>\n      <td>POLYGON ((277456.841 626896.597, 277441.902 62...</td>\n    </tr>\n    <tr>\n      <th>22222</th>\n      <td>202767</td>\n      <td>613185</td>\n      <td>Woodland</td>\n      <td>Conifer</td>\n      <td>Scotland</td>\n      <td>82249.064441</td>\n      <td>1048.792329</td>\n      <td>1.048792e+07</td>\n      <td>82249.064441</td>\n      <td>POLYGON ((240927.530 576750.219, 240927.377 57...</td>\n    </tr>\n    <tr>\n      <th>22223</th>\n      <td>202777</td>\n      <td>613216</td>\n      <td>Woodland</td>\n      <td>Windblow</td>\n      <td>Scotland</td>\n      <td>1104.512784</td>\n      <td>3.614690</td>\n      <td>3.614690e+04</td>\n      <td>1104.512784</td>\n      <td>POLYGON ((241140.500 573257.500, 241137.638 57...</td>\n    </tr>\n    <tr>\n      <th>22224</th>\n      <td>202778</td>\n      <td>613217</td>\n      <td>Woodland</td>\n      <td>Windblow</td>\n      <td>Scotland</td>\n      <td>303.765438</td>\n      <td>0.602940</td>\n      <td>6.029396e+03</td>\n      <td>303.765438</td>\n      <td>POLYGON ((241414.034 573548.165, 241405.236 57...</td>\n    </tr>\n  </tbody>\n</table>\n<p>22225 rows × 10 columns</p>\n</div>"
     },
     "execution_count": 8,
     "metadata": {},
     "output_type": "execute_result"
    }
   ],
   "source": [
    "nfi_valid_clipped"
   ],
   "metadata": {
    "collapsed": false,
    "pycharm": {
     "name": "#%%\n"
    }
   }
  },
  {
   "cell_type": "code",
   "execution_count": 9,
   "outputs": [
    {
     "data": {
      "text/plain": "{'Bare area': 1,\n 'Agriculture land': 2,\n 'Urban': 3,\n 'Grassland': 4,\n 'Quarry': 5,\n 'Road': 6,\n 'Other vegetation': 7,\n 'River': 8,\n 'Open water': 9,\n 'Windfarm': 10,\n 'Assumed woodland': 11,\n 'Broadleaved': 12,\n 'Conifer': 13,\n 'Felled': 14,\n 'Failed': 15,\n 'Ground prep': 16,\n 'Low density': 17,\n 'Mixed mainly broadleaved': 18,\n 'Mixed mainly conifer': 19,\n 'Young trees': 20,\n 'Coppice with standards': 21,\n 'Shrub': 22,\n 'Windblow': 23}"
     },
     "execution_count": 9,
     "metadata": {},
     "output_type": "execute_result"
    }
   ],
   "source": [
    "nfi_mapping"
   ],
   "metadata": {
    "collapsed": false,
    "pycharm": {
     "name": "#%%\n"
    }
   }
  },
  {
   "cell_type": "code",
   "execution_count": 10,
   "outputs": [],
   "source": [
    "nfi_valid_clipped[\"IFT_IOA_num\"] = [nfi_mapping[k] for k in nfi_valid_clipped.IFT_IOA.values]\n",
    "nfi_valid_clipped[\"IFT_IOA_num\"] = nfi_valid_clipped.IFT_IOA_num.astype(\"int16\")"
   ],
   "metadata": {
    "collapsed": false,
    "pycharm": {
     "name": "#%%\n"
    }
   }
  },
  {
   "cell_type": "code",
   "execution_count": 11,
   "outputs": [],
   "source": [
    "nfi_valid_clipped = nfi_valid_clipped.infer_objects()"
   ],
   "metadata": {
    "collapsed": false,
    "pycharm": {
     "name": "#%%\n"
    }
   }
  },
  {
   "cell_type": "code",
   "execution_count": 12,
   "outputs": [
    {
     "name": "stdout",
     "output_type": "stream",
     "text": [
      "array([[ 11,   4],\n",
      "       [ 12,  29],\n",
      "       [ 13,  50],\n",
      "       [ 14,  45],\n",
      "       [ 15,   3],\n",
      "       [ 16,  13],\n",
      "       [ 17,   4],\n",
      "       [ 18,  46],\n",
      "       [ 19,  72],\n",
      "       [ 20, 431],\n",
      "       [ 22, 248],\n",
      "       [ 23, 270],\n",
      "       [255, 385]])\n"
     ]
    },
    {
     "data": {
      "text/plain": "<Figure size 1152x648 with 1 Axes>",
      "image/png": "[encoded data removed]"
     },
     "metadata": {
      "image/png": {
       "width": 646,
       "height": 637
      }
     },
     "output_type": "display_data"
    }
   ],
   "source": [
    "# 0) define geodataframe\n",
    "gdf = nfi_valid_clipped\n",
    "\n",
    "# 1) set bounds\n",
    "# -----------------------------------------------------------------------------\n",
    "\n",
    "# read park shape file\n",
    "parks_fpath = os.path.join(data_processed, \"BIOSPH_SCOTLAND_ESRI\", \"BIOSPH_SCOTLAND.shp\")\n",
    "parks = gpd.read_file(parks_fpath)\n",
    "\n",
    "# filter for our park\n",
    "our_park = parks.loc[parks.NAME == parks.NAME.unique()[0]]\n",
    "\n",
    "# spatial dissolve\n",
    "our_park_polygon = our_park.dissolve(by=\"NAME\")\n",
    "\n",
    "# define bounds\n",
    "bounds = our_park_polygon.convex_hull.envelope.bounds\n",
    "\n",
    "# 2) define transform\n",
    "coordinate_transform = rasterio.transform.from_bounds(\n",
    "    west = bounds.minx.values[0], \n",
    "    south = bounds.miny.values[0], \n",
    "    east = bounds.maxx.values[0], \n",
    "    north = bounds.maxy.values[0], \n",
    "    width = cols, \n",
    "    height = rows\n",
    ")\n",
    "\n",
    "# 3) define path of output raster data\n",
    "raster_fpath = os.path.join(data_processed, 'NFI_rasterized_{}_{}.tif'.format(rows, cols))\n",
    "\n",
    "# 4) run burn-in algorithm\n",
    "# -----------------------------------------------------------------------------\n",
    "with rasterio.Env():\n",
    "    \n",
    "    # create array of (shape, value) tuples\n",
    "    shapes = [(geom,value) for geom, value in zip(gdf.geometry.values, gdf.IFT_IOA_num.values)]\n",
    "    \n",
    "    # rasterize\n",
    "    burned = features.rasterize(\n",
    "        shapes=shapes, \n",
    "        out_shape=(rows, cols), \n",
    "        fill=255, \n",
    "        transform=coordinate_transform,\n",
    "        all_touched=True\n",
    "    )\n",
    "    \n",
    "    # value counts\n",
    "    unique, counts = np.unique(burned, return_counts=True)\n",
    "    pprint(np.asarray((unique, counts)).T)\n",
    "    \n",
    "    # count bands\n",
    "    band_count = len(unique)\n",
    "    \n",
    "    # save as geotiff\n",
    "    with rasterio.open(\n",
    "            raster_fpath,\n",
    "            'w+', # Open the file in read/write mode\n",
    "            driver='GTiff',\n",
    "            width=cols,\n",
    "            height=rows,\n",
    "            count=1,\n",
    "            dtype=rasterio.uint8,\n",
    "            nodata=255,\n",
    "            transform=coordinate_transform,\n",
    "            compress='lzw',\n",
    "            crs={'init': \"EPSG:4326\"}) as out:\n",
    "        \n",
    "        # write bands\n",
    "        out.write(burned.astype(rasterio.uint8), indexes=1)\n",
    "\n",
    "# 5) re-read the saved geotiff as a test and read the first layer of the map\n",
    "src = rasterio.open(raster_fpath)\n",
    "game_map = src.read(1, masked=True)\n",
    "\n",
    "# 6) create a plot of the resulting map\n",
    "fig, ax = plt.subplots()\n",
    "show(game_map, ax=ax, transform=src.transform, cmap=\"Paired\")\n",
    "\n",
    "ax.set_title(\"Map size: {} x {}\".format(rows, cols))\n",
    "plt.tight_layout()\n",
    "\n",
    "plt.savefig(\n",
    "    os.path.join(figure_dir, \"NFI_map_{}_{}.png\".format(rows, cols)),\n",
    "    dpi=150,\n",
    "    format=\"png\"\n",
    ")"
   ],
   "metadata": {
    "collapsed": false,
    "pycharm": {
     "name": "#%%\n"
    }
   }
  }
 ],
 "metadata": {
  "kernelspec": {
   "name": "pycharm-ba196790",
   "language": "python",
   "display_name": "PyCharm (gecm)"
  },
  "language_info": {
   "codemirror_mode": {
    "name": "ipython",
    "version": 3
   },
   "file_extension": ".py",
   "mimetype": "text/x-python",
   "name": "python",
   "nbconvert_exporter": "python",
   "pygments_lexer": "ipython3",
   "version": "3.8.6"
  }
 },
 "nbformat": 4,
 "nbformat_minor": 4
}