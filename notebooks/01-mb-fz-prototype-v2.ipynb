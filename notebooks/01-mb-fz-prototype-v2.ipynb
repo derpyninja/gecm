{
 "cells": [
  {
   "cell_type": "markdown",
   "metadata": {
    "pycharm": {
     "name": "#%% md\n"
    }
   },
   "source": [
    "# Game Prototype of Team Scotland 2\n",
    "Felix Zaussinger, Martina Buck | 18.11.2020, 15:30\n",
    "\n",
    "## Goals\n",
    "1. give a first impression of what the game looks like\n",
    "\n",
    "2. demonstrate simple game-mechanism"
   ]
  },
  {
   "cell_type": "markdown",
   "metadata": {},
   "source": [
    "**Magic commands**"
   ]
  },
  {
   "cell_type": "code",
   "execution_count": 1,
   "metadata": {},
   "outputs": [],
   "source": [
    "%load_ext autoreload\n",
    "%autoreload 2\n",
    "\n",
    "%matplotlib inline\n",
    "%config InlineBackend.figure_format = 'retina'"
   ]
  },
  {
   "cell_type": "markdown",
   "metadata": {},
   "source": [
    "**External imports**"
   ]
  },
  {
   "cell_type": "code",
   "execution_count": 2,
   "metadata": {},
   "outputs": [],
   "source": [
    "import os\n",
    "import sys\n",
    "import numpy as np\n",
    "import pandas as pd\n",
    "import seaborn as sns\n",
    "import configparser\n",
    "from pathlib import Path\n",
    "import matplotlib.pyplot as plt\n",
    "from matplotlib.colors import ListedColormap"
   ]
  },
  {
   "cell_type": "markdown",
   "metadata": {},
   "source": [
    "**Figure properties**"
   ]
  },
  {
   "cell_type": "code",
   "execution_count": 3,
   "metadata": {},
   "outputs": [],
   "source": [
    "sns.set_context(\"poster\")\n",
    "sns.set(rc={'figure.figsize': (8, 5)})\n",
    "sns.set_style(\"ticks\")"
   ]
  },
  {
   "cell_type": "markdown",
   "metadata": {},
   "source": [
    "**Directory structure**"
   ]
  },
  {
   "cell_type": "code",
   "execution_count": 4,
   "metadata": {},
   "outputs": [
    {
     "data": {
      "text/plain": [
       "'/Users/felix/ETH/code/gecm'"
      ]
     },
     "execution_count": 4,
     "metadata": {},
     "output_type": "execute_result"
    }
   ],
   "source": [
    "# project directory\n",
    "abspath = os.path.abspath('')\n",
    "project_dir = str(Path(abspath).parents[0])\n",
    "\n",
    "# sub-directories\n",
    "data_raw = os.path.join(project_dir, \"data\", \"raw\")\n",
    "data_processed = os.path.join(project_dir, \"data\", \"processed\")\n",
    "figure_dir = os.path.join(project_dir, \"plots\")\n",
    "project_dir"
   ]
  },
  {
   "cell_type": "markdown",
   "metadata": {},
   "source": [
    "**Append project directory to PYTHONPATH via sys (!)**\n",
    "\n",
    "Source: https://stackoverflow.com/questions/39299838/how-do-i-import-module-in-jupyter-notebook-directory-into-notebooks-in-lower-dir"
   ]
  },
  {
   "cell_type": "code",
   "execution_count": 5,
   "metadata": {},
   "outputs": [],
   "source": [
    "if project_dir not in sys.path:\n",
    "    sys.path.append(project_dir)"
   ]
  },
  {
   "cell_type": "markdown",
   "metadata": {
    "pycharm": {
     "name": "#%% md\n"
    }
   },
   "source": [
    "**Only now we can import our own code from src**"
   ]
  },
  {
   "cell_type": "code",
   "execution_count": 6,
   "metadata": {
    "collapsed": false,
    "jupyter": {
     "outputs_hidden": false
    },
    "pycharm": {
     "name": "#%%\n"
    }
   },
   "outputs": [],
   "source": [
    "from src.gecm import model, vis, io, game, base, dicts\n",
    "from src.gecm.field import Map\n",
    "from src.gecm.dicts import (\n",
    "        original_lulc_mapping,\n",
    "        lulc_remapping,\n",
    "        simplified_lulc_mapping,\n",
    "        simplified_lulc_mapping_colors\n",
    "    )"
   ]
  },
  {
   "cell_type": "markdown",
   "metadata": {},
   "source": [
    "**Set game parameters**"
   ]
  },
  {
   "cell_type": "code",
   "execution_count": 7,
   "metadata": {
    "collapsed": false,
    "jupyter": {
     "outputs_hidden": false
    },
    "pycharm": {
     "name": "#%%\n"
    }
   },
   "outputs": [],
   "source": [
    "# size of playing field in pixels\n",
    "n_pixels = 40\n",
    "\n",
    "# complexity of playing field (only granularity = 1 works for now)\n",
    "granularity = 1"
   ]
  },
  {
   "cell_type": "markdown",
   "metadata": {
    "pycharm": {
     "name": "#%% md\n"
    }
   },
   "source": [
    "**Other definitions and imports which are needed**"
   ]
  },
  {
   "cell_type": "code",
   "execution_count": 8,
   "metadata": {
    "collapsed": false,
    "jupyter": {
     "outputs_hidden": false
    },
    "pycharm": {
     "name": "#%%\n"
    }
   },
   "outputs": [],
   "source": [
    "# colormap\n",
    "simplified_lulc_cm = ListedColormap(\n",
    "    [simplified_lulc_mapping_colors[x] for x in simplified_lulc_mapping_colors.keys()]\n",
    ")\n",
    "\n",
    "# path to raster data file (must be a geotiff)\n",
    "fpath_map = os.path.join(\n",
    "    data_processed, \"NFI_rasterized_{}_{}.tif\".format(n_pixels, n_pixels)\n",
    ")"
   ]
  },
  {
   "cell_type": "markdown",
   "metadata": {},
   "source": [
    "**Establish connection to Google Drive documents**"
   ]
  },
  {
   "cell_type": "code",
   "execution_count": 9,
   "metadata": {},
   "outputs": [
    {
     "data": {
      "text/plain": [
       "['/Users/felix/ETH/code/gecm/config.ini']"
      ]
     },
     "execution_count": 9,
     "metadata": {},
     "output_type": "execute_result"
    }
   ],
   "source": [
    "# init config file parser. methods: config.getboolean, config.getint, ... .\n",
    "config = configparser.ConfigParser()\n",
    "fpath_cf = os.path.join(project_dir, 'config.ini')\n",
    "config.read(fpath_cf)"
   ]
  },
  {
   "cell_type": "markdown",
   "metadata": {},
   "source": [
    "**Show configuration file sections**"
   ]
  },
  {
   "cell_type": "code",
   "execution_count": 10,
   "metadata": {},
   "outputs": [
    {
     "name": "stdout",
     "output_type": "stream",
     "text": [
      "\n",
      "--- default ---\n",
      "credentials: 'google_api_credentials.json'\n",
      "scopes: https://www.googleapis.com/auth/spreadsheets.readonly\n",
      "\n",
      "--- gdrive_spreadsheet_ids ---\n",
      "spreadsheet_id_farmers: 1kEEcKdP__1XbYKe5-nVlxzAD_P5-EQx-23IAw9SXOoc\n",
      "spreadsheet_id_foresters: 1ir8WkfKpyEGkamASbd0pf9IDAE74M4Q1fsHYl4r9F34\n",
      "spreadsheet_id_tourism: 1EA_mCM9Pp_URb_JavM-mMIqixTvZewSkGC2b-wDa1ns\n",
      "spreadsheet_id_model: 1CVdDndGD1S8ab3D1KlXYcBcnjK8sBPl68Eth0KMgaEQ\n",
      "\n",
      "--- gdrive_sheet_names ---\n",
      "sheet_names_farmers: Farmer_1, Farmer_2\n",
      "sheet_names_foresters: Forester_1, Forester_2\n",
      "sheet_names_tourism: SSDA\n",
      "sheet_names_parameters: model_parameters\n",
      "sheet_names_calculations: model_calculations\n"
     ]
    }
   ],
   "source": [
    "io.config_describe(config)"
   ]
  },
  {
   "cell_type": "markdown",
   "metadata": {},
   "source": [
    "**Parse management decisions** --> As a first example, read the farmer's decisions."
   ]
  },
  {
   "cell_type": "markdown",
   "metadata": {},
   "source": [
    "Parameter settings"
   ]
  },
  {
   "cell_type": "code",
   "execution_count": 11,
   "metadata": {},
   "outputs": [],
   "source": [
    "# If modifying these scopes, delete the file token.pickle.\n",
    "SCOPES = [config.get(section=\"default\", option=\"scopes\")]\n",
    "\n",
    "# <Your spreadsheet ID>\n",
    "# SPREADSHEET_ID = config.get(section=\"gdrive_spreadsheet_ids\", option=\"spreadsheet_id_farmers\")\n",
    "\n",
    "# <Your worksheet names>\n",
    "# SHEETS_STRING = config.get(section=\"gdrive_sheet_names\", option=\"sheet_names_farmers\")\n",
    "# SHEETS = io.parse_list(config_string=SHEETS_STRING)\n",
    "\n",
    "# API credentials\n",
    "credentials_fpath = os.path.join(project_dir, 'google_api_credentials.json')"
   ]
  },
  {
   "cell_type": "markdown",
   "metadata": {
    "pycharm": {
     "name": "#%% md\n"
    }
   },
   "source": [
    "**Define the playing field**"
   ]
  },
  {
   "cell_type": "markdown",
   "metadata": {},
   "source": [
    "load map"
   ]
  },
  {
   "cell_type": "code",
   "execution_count": 12,
   "metadata": {
    "collapsed": false,
    "jupyter": {
     "outputs_hidden": false
    },
    "pycharm": {
     "name": "#%%\n"
    }
   },
   "outputs": [],
   "source": [
    "playing_field = Map(\n",
    "    fpath=fpath_map,\n",
    "    original_lulc_mapping=original_lulc_mapping,\n",
    "    simplified_lulc_mapping=simplified_lulc_mapping,\n",
    "    lulc_remapping=lulc_remapping,\n",
    "    cmap=simplified_lulc_cm\n",
    ")"
   ]
  },
  {
   "cell_type": "markdown",
   "metadata": {},
   "source": [
    "**initialise playing field (crucial, else nothing works!)**"
   ]
  },
  {
   "cell_type": "code",
   "execution_count": 13,
   "metadata": {},
   "outputs": [],
   "source": [
    "playing_field.initialise(granularity=1)"
   ]
  },
  {
   "cell_type": "markdown",
   "metadata": {},
   "source": [
    "**sanity check on current round**"
   ]
  },
  {
   "cell_type": "code",
   "execution_count": 14,
   "metadata": {},
   "outputs": [],
   "source": [
    "assert playing_field.current_round == 1"
   ]
  },
  {
   "cell_type": "markdown",
   "metadata": {},
   "source": [
    "# Fancy game name\n",
    "\n",
    "## First game instructions\n",
    " \n",
    "- Landscape is an ever changing thing. But those changes don't always happen without conflicts. \n",
    "- In the following game, you will be part of a group of stakeholders. \n",
    "- You can take the role of being foresters, farmers or tourism association representatives.\n",
    "- To start a new game and distribute all roles, fill in the numbers of players (3 to 6). --> only \"number_of_players = 6\" works so far!"
   ]
  },
  {
   "cell_type": "code",
   "execution_count": 15,
   "metadata": {},
   "outputs": [
    {
     "name": "stdout",
     "output_type": "stream",
     "text": [
      "There are 6 roles for each player, Farmer 1 and 2, Forester 1 and 2 and Tourism association (SSDA) representatives 1 and 2. Please distribute each role among yourselves\n"
     ]
    }
   ],
   "source": [
    "number_of_players = 6\n",
    "game.roles(number_of_players)"
   ]
  },
  {
   "cell_type": "markdown",
   "metadata": {},
   "source": [
    "- To play the game, every player fills out his decisions on what to do with his land on the google sheet for his role (maybe we could put here a link but then everyone has acces to everyones decisions...). A map of the area changes based on your decisions."
   ]
  },
  {
   "cell_type": "markdown",
   "metadata": {},
   "source": [
    "## Starting point\n",
    "\n",
    "Now have a look at playing field.\n",
    "\n",
    "You find yourselves in Scottland in the area of Galloway and Southern Ayrshire Biosphere. The government decided that more forest area in Scottland is needed to help combate climate change. At the same time, the people of Scottland need steady jobs with a decent pay. You find yourself either managing Farmland, Forest or tourism industry (SSDA) representative.\n",
    "\n",
    "As a farmer, you can make money by selling agricultural products. As a forester, you can make money by selling timber. As a tourism industry (SSDA) representative, you represent the interests of the local tourism industry, which primarily consist of micro-businesses (less than 10 employees)."
   ]
  },
  {
   "cell_type": "code",
   "execution_count": 16,
   "metadata": {},
   "outputs": [
    {
     "data": {
      "text/plain": [
       "<AxesSubplot:xlabel='Percent of total area (%)'>"
      ]
     },
     "execution_count": 16,
     "metadata": {},
     "output_type": "execute_result"
    },
    {
     "data": {
      "image/png": "[encoded data removed]",
      "text/plain": [
       "<Figure size 432x432 with 1 Axes>"
      ]
     },
     "metadata": {
      "image/png": {
       "height": 421,
       "width": 400
      }
     },
     "output_type": "display_data"
    },
    {
     "data": {
      "image/png": "[encoded data removed]",
      "text/plain": [
       "<Figure size 360x360 with 1 Axes>"
      ]
     },
     "metadata": {
      "image/png": {
       "height": 349,
       "width": 348
      }
     },
     "output_type": "display_data"
    }
   ],
   "source": [
    "%reload_ext autoreload\n",
    "playing_field.show(figure_size=(6,6))\n",
    "playing_field.show_bar(figure_size=(5,5))"
   ]
  },
  {
   "cell_type": "markdown",
   "metadata": {},
   "source": [
    "## Round 1"
   ]
  },
  {
   "cell_type": "markdown",
   "metadata": {},
   "source": [
    "Please wait a moment while we are accessing your management decisions ..."
   ]
  },
  {
   "cell_type": "code",
   "execution_count": 17,
   "metadata": {},
   "outputs": [
    {
     "name": "stdout",
     "output_type": "stream",
     "text": [
      "Farmer_1\n",
      "Farmer_2\n",
      "Forester_1\n",
      "Forester_2\n",
      "SSDA\n",
      "CPU times: user 864 ms, sys: 217 ms, total: 1.08 s\n",
      "Wall time: 6.92 s\n"
     ]
    }
   ],
   "source": [
    "%%time\n",
    "dict_of_mgmt_decisions_dfs = {}\n",
    "\n",
    "for stakeholder_group in [\"farmers\", \"foresters\", \"tourism\"]:\n",
    "    dict_of_mgmt_decisions_dfs[stakeholder_group] = io.parse_mgmt_decisions(\n",
    "        spreadsheet_id=config.get(section=\"gdrive_spreadsheet_ids\", option=\"spreadsheet_id_{}\".format(stakeholder_group)), \n",
    "        sheets=io.parse_list(config_string=config.get(section=\"gdrive_sheet_names\", option=\"sheet_names_{}\".format(stakeholder_group))),\n",
    "        credentials_fpath=credentials_fpath, \n",
    "        scopes=SCOPES, \n",
    "        unstack_data=False\n",
    "    )"
   ]
  },
  {
   "cell_type": "code",
   "execution_count": 18,
   "metadata": {},
   "outputs": [],
   "source": [
    "# combine\n",
    "df_mgmt_decisions = pd.concat(dict_of_mgmt_decisions_dfs.values(), keys=dict_of_mgmt_decisions_dfs.keys())\n",
    "df_mgmt_decisions.index.rename(\"stakeholder\", level=0, inplace=True)\n",
    "df_mgmt_decisions_long = df_mgmt_decisions.reset_index()\n",
    "df_mgmt_decisions_long[\"id\"] = df_mgmt_decisions_long.index.values"
   ]
  },
  {
   "cell_type": "code",
   "execution_count": 19,
   "metadata": {},
   "outputs": [
    {
     "data": {
      "text/html": [
       "<div>\n",
       "<style scoped>\n",
       "    .dataframe tbody tr th:only-of-type {\n",
       "        vertical-align: middle;\n",
       "    }\n",
       "\n",
       "    .dataframe tbody tr th {\n",
       "        vertical-align: top;\n",
       "    }\n",
       "\n",
       "    .dataframe thead th {\n",
       "        text-align: right;\n",
       "    }\n",
       "</style>\n",
       "<table border=\"1\" class=\"dataframe\">\n",
       "  <thead>\n",
       "    <tr style=\"text-align: right;\">\n",
       "      <th></th>\n",
       "      <th>stakeholder</th>\n",
       "      <th>round</th>\n",
       "      <th>player</th>\n",
       "      <th>Plot</th>\n",
       "      <th>Sheep</th>\n",
       "      <th>Cattle</th>\n",
       "      <th>Native Forest</th>\n",
       "      <th>Teamwork</th>\n",
       "      <th>Commercial Forest</th>\n",
       "      <th>SSDA</th>\n",
       "      <th>id</th>\n",
       "    </tr>\n",
       "  </thead>\n",
       "  <tbody>\n",
       "    <tr>\n",
       "      <th>0</th>\n",
       "      <td>farmers</td>\n",
       "      <td>1</td>\n",
       "      <td>Farmer_1</td>\n",
       "      <td>13.0</td>\n",
       "      <td>30.0</td>\n",
       "      <td>0.0</td>\n",
       "      <td>-30.0</td>\n",
       "      <td>NaN</td>\n",
       "      <td>NaN</td>\n",
       "      <td>NaN</td>\n",
       "      <td>0</td>\n",
       "    </tr>\n",
       "    <tr>\n",
       "      <th>1</th>\n",
       "      <td>farmers</td>\n",
       "      <td>1</td>\n",
       "      <td>Farmer_2</td>\n",
       "      <td>14.0</td>\n",
       "      <td>-30.0</td>\n",
       "      <td>0.0</td>\n",
       "      <td>30.0</td>\n",
       "      <td>NaN</td>\n",
       "      <td>NaN</td>\n",
       "      <td>NaN</td>\n",
       "      <td>1</td>\n",
       "    </tr>\n",
       "    <tr>\n",
       "      <th>2</th>\n",
       "      <td>farmers</td>\n",
       "      <td>2</td>\n",
       "      <td>Farmer_1</td>\n",
       "      <td>12.0</td>\n",
       "      <td>10.0</td>\n",
       "      <td>0.0</td>\n",
       "      <td>-10.0</td>\n",
       "      <td>NaN</td>\n",
       "      <td>NaN</td>\n",
       "      <td>NaN</td>\n",
       "      <td>2</td>\n",
       "    </tr>\n",
       "    <tr>\n",
       "      <th>3</th>\n",
       "      <td>farmers</td>\n",
       "      <td>2</td>\n",
       "      <td>Farmer_2</td>\n",
       "      <td>NaN</td>\n",
       "      <td>-50.0</td>\n",
       "      <td>0.0</td>\n",
       "      <td>50.0</td>\n",
       "      <td>NaN</td>\n",
       "      <td>NaN</td>\n",
       "      <td>NaN</td>\n",
       "      <td>3</td>\n",
       "    </tr>\n",
       "    <tr>\n",
       "      <th>4</th>\n",
       "      <td>farmers</td>\n",
       "      <td>3</td>\n",
       "      <td>Farmer_1</td>\n",
       "      <td>NaN</td>\n",
       "      <td>50.0</td>\n",
       "      <td>0.0</td>\n",
       "      <td>-50.0</td>\n",
       "      <td>NaN</td>\n",
       "      <td>NaN</td>\n",
       "      <td>NaN</td>\n",
       "      <td>4</td>\n",
       "    </tr>\n",
       "  </tbody>\n",
       "</table>\n",
       "</div>"
      ],
      "text/plain": [
       "  stakeholder  round    player  Plot  Sheep  Cattle  Native Forest  Teamwork  \\\n",
       "0     farmers      1  Farmer_1  13.0   30.0     0.0          -30.0       NaN   \n",
       "1     farmers      1  Farmer_2  14.0  -30.0     0.0           30.0       NaN   \n",
       "2     farmers      2  Farmer_1  12.0   10.0     0.0          -10.0       NaN   \n",
       "3     farmers      2  Farmer_2   NaN  -50.0     0.0           50.0       NaN   \n",
       "4     farmers      3  Farmer_1   NaN   50.0     0.0          -50.0       NaN   \n",
       "\n",
       "   Commercial Forest  SSDA  id  \n",
       "0                NaN   NaN   0  \n",
       "1                NaN   NaN   1  \n",
       "2                NaN   NaN   2  \n",
       "3                NaN   NaN   3  \n",
       "4                NaN   NaN   4  "
      ]
     },
     "execution_count": 19,
     "metadata": {},
     "output_type": "execute_result"
    }
   ],
   "source": [
    "df_mgmt_decisions_long.head()"
   ]
  },
  {
   "cell_type": "code",
   "execution_count": 20,
   "metadata": {},
   "outputs": [
    {
     "data": {
      "text/html": [
       "<div>\n",
       "<style scoped>\n",
       "    .dataframe tbody tr th:only-of-type {\n",
       "        vertical-align: middle;\n",
       "    }\n",
       "\n",
       "    .dataframe tbody tr th {\n",
       "        vertical-align: top;\n",
       "    }\n",
       "\n",
       "    .dataframe thead th {\n",
       "        text-align: right;\n",
       "    }\n",
       "</style>\n",
       "<table border=\"1\" class=\"dataframe\">\n",
       "  <thead>\n",
       "    <tr style=\"text-align: right;\">\n",
       "      <th></th>\n",
       "      <th>stakeholder</th>\n",
       "      <th>round</th>\n",
       "      <th>player</th>\n",
       "      <th>Plot</th>\n",
       "      <th>Teamwork</th>\n",
       "      <th>variable</th>\n",
       "      <th>value</th>\n",
       "    </tr>\n",
       "  </thead>\n",
       "  <tbody>\n",
       "    <tr>\n",
       "      <th>0</th>\n",
       "      <td>farmers</td>\n",
       "      <td>1</td>\n",
       "      <td>Farmer_1</td>\n",
       "      <td>13.0</td>\n",
       "      <td>NaN</td>\n",
       "      <td>Sheep</td>\n",
       "      <td>30.0</td>\n",
       "    </tr>\n",
       "    <tr>\n",
       "      <th>1</th>\n",
       "      <td>farmers</td>\n",
       "      <td>1</td>\n",
       "      <td>Farmer_2</td>\n",
       "      <td>14.0</td>\n",
       "      <td>NaN</td>\n",
       "      <td>Sheep</td>\n",
       "      <td>-30.0</td>\n",
       "    </tr>\n",
       "    <tr>\n",
       "      <th>2</th>\n",
       "      <td>farmers</td>\n",
       "      <td>2</td>\n",
       "      <td>Farmer_1</td>\n",
       "      <td>12.0</td>\n",
       "      <td>NaN</td>\n",
       "      <td>Sheep</td>\n",
       "      <td>10.0</td>\n",
       "    </tr>\n",
       "    <tr>\n",
       "      <th>3</th>\n",
       "      <td>farmers</td>\n",
       "      <td>2</td>\n",
       "      <td>Farmer_2</td>\n",
       "      <td>NaN</td>\n",
       "      <td>NaN</td>\n",
       "      <td>Sheep</td>\n",
       "      <td>-50.0</td>\n",
       "    </tr>\n",
       "    <tr>\n",
       "      <th>4</th>\n",
       "      <td>farmers</td>\n",
       "      <td>3</td>\n",
       "      <td>Farmer_1</td>\n",
       "      <td>NaN</td>\n",
       "      <td>NaN</td>\n",
       "      <td>Sheep</td>\n",
       "      <td>50.0</td>\n",
       "    </tr>\n",
       "  </tbody>\n",
       "</table>\n",
       "</div>"
      ],
      "text/plain": [
       "  stakeholder  round    player  Plot  Teamwork variable  value\n",
       "0     farmers      1  Farmer_1  13.0       NaN    Sheep   30.0\n",
       "1     farmers      1  Farmer_2  14.0       NaN    Sheep  -30.0\n",
       "2     farmers      2  Farmer_1  12.0       NaN    Sheep   10.0\n",
       "3     farmers      2  Farmer_2   NaN       NaN    Sheep  -50.0\n",
       "4     farmers      3  Farmer_1   NaN       NaN    Sheep   50.0"
      ]
     },
     "execution_count": 20,
     "metadata": {},
     "output_type": "execute_result"
    }
   ],
   "source": [
    "id_vars = [\"stakeholder\", \"round\", \"player\", \"Plot\", \"Teamwork\"]\n",
    "value_vars = [\"Sheep\", \"Cattle\", \"Native Forest\", \"Commercial Forest\"]\n",
    "df_mgmt_decisions_melted = df_mgmt_decisions_long.melt(id_vars=id_vars, value_vars=value_vars)\n",
    "df_mgmt_decisions_melted.head()"
   ]
  },
  {
   "cell_type": "markdown",
   "metadata": {},
   "source": [
    "https://seaborn.pydata.org/tutorial/relational.html: seaborn supports semantics of hue, size, and style"
   ]
  },
  {
   "cell_type": "code",
   "execution_count": 21,
   "metadata": {},
   "outputs": [
    {
     "data": {
      "text/plain": [
       "<seaborn.axisgrid.FacetGrid at 0x7ff59042d5b0>"
      ]
     },
     "execution_count": 21,
     "metadata": {},
     "output_type": "execute_result"
    },
    {
     "data": {
      "image/png": "[encoded data removed]",
      "text/plain": [
       "<Figure size 780.85x360 with 3 Axes>"
      ]
     },
     "metadata": {
      "image/png": {
       "height": 349,
       "width": 790
      }
     },
     "output_type": "display_data"
    }
   ],
   "source": [
    "g = sns.catplot(x=\"round\", y=\"value\", hue=\"variable\", col=\"stakeholder\", kind=\"bar\", data=df_mgmt_decisions_melted, saturation=.5, ci=None, aspect=.6)\n",
    "\n",
    "(g.set_axis_labels(\"\", \"Management Decision (%)\")\n",
    " #.set_xticklabels([\"round\", \"round\", \"round\"])\n",
    " #.set_titles(\"{col_name} {col_var}\")\n",
    " .set(ylim=(-100, 100)).despine(left=False))"
   ]
  },
  {
   "cell_type": "markdown",
   "metadata": {},
   "source": [
    "Done! Please wait a final moment while we are updating the playing field based on your management decisions.\n",
    "\n",
    "**TODO [high]: update map based on conceptual model**"
   ]
  },
  {
   "cell_type": "code",
   "execution_count": 22,
   "metadata": {},
   "outputs": [
    {
     "data": {
      "text/plain": [
       "{'Sheep Farming': 1,\n",
       " 'Native Forest': 2,\n",
       " 'Commercial Forest': 3,\n",
       " 'Cattle Farming': 4}"
      ]
     },
     "execution_count": 22,
     "metadata": {},
     "output_type": "execute_result"
    }
   ],
   "source": [
    "playing_field.simplified_lulc_mapping"
   ]
  },
  {
   "cell_type": "code",
   "execution_count": 23,
   "metadata": {},
   "outputs": [
    {
     "data": {
      "text/plain": [
       "masked_array(\n",
       "  data=[[--, --, --, ..., --, --, --],\n",
       "        [--, --, --, ..., --, --, --],\n",
       "        [--, --, --, ..., --, --, --],\n",
       "        ...,\n",
       "        [--, --, --, ..., --, --, --],\n",
       "        [--, --, --, ..., --, --, --],\n",
       "        [--, --, --, ..., --, --, --]],\n",
       "  mask=[[ True,  True,  True, ...,  True,  True,  True],\n",
       "        [ True,  True,  True, ...,  True,  True,  True],\n",
       "        [ True,  True,  True, ...,  True,  True,  True],\n",
       "        ...,\n",
       "        [ True,  True,  True, ...,  True,  True,  True],\n",
       "        [ True,  True,  True, ...,  True,  True,  True],\n",
       "        [ True,  True,  True, ...,  True,  True,  True]],\n",
       "  fill_value=255,\n",
       "  dtype=uint8)"
      ]
     },
     "execution_count": 23,
     "metadata": {},
     "output_type": "execute_result"
    }
   ],
   "source": [
    "playing_field.map_simplified"
   ]
  },
  {
   "cell_type": "code",
   "execution_count": 24,
   "metadata": {},
   "outputs": [],
   "source": [
    "%reload_ext autoreload\n",
    "global_yield = model.calculate_yield(\n",
    "    field=playing_field.map_simplified,\n",
    "    lulc_mapping=playing_field.simplified_lulc_mapping,\n",
    "    relative=False\n",
    ")\n",
    "list(playing_field.simplified_lulc_mapping.keys())\n",
    "\n",
    "global_yield_remapped = dict(zip(playing_field.simplified_lulc_mapping.keys(), list(global_yield.values())))"
   ]
  },
  {
   "cell_type": "code",
   "execution_count": 25,
   "metadata": {},
   "outputs": [],
   "source": [
    "df_global_yield_remapped = pd.DataFrame(global_yield_remapped, index=[\"yield\"]).transpose()"
   ]
  },
  {
   "cell_type": "code",
   "execution_count": 26,
   "metadata": {},
   "outputs": [
    {
     "data": {
      "text/plain": [
       "<AxesSubplot:>"
      ]
     },
     "execution_count": 26,
     "metadata": {},
     "output_type": "execute_result"
    },
    {
     "data": {
      "image/png": "[encoded data removed]",
      "text/plain": [
       "<Figure size 576x360 with 1 Axes>"
      ]
     },
     "metadata": {
      "image/png": {
       "height": 388,
       "width": 488
      }
     },
     "output_type": "display_data"
    }
   ],
   "source": [
    "df_global_yield_remapped.plot.bar()"
   ]
  },
  {
   "cell_type": "markdown",
   "metadata": {},
   "source": [
    "Let's evaluate the impact of your first management decisions on the landscape ..."
   ]
  },
  {
   "cell_type": "code",
   "execution_count": 27,
   "metadata": {},
   "outputs": [],
   "source": [
    "# TODO: display updated map and bar-charts with LULC changes"
   ]
  },
  {
   "cell_type": "markdown",
   "metadata": {},
   "source": [
    "... and on regional GDP & employment:"
   ]
  },
  {
   "cell_type": "code",
   "execution_count": 28,
   "metadata": {},
   "outputs": [],
   "source": [
    "# TODO: display the state of GDP and employment"
   ]
  },
  {
   "cell_type": "markdown",
   "metadata": {},
   "source": [
    "## Round 2"
   ]
  },
  {
   "cell_type": "code",
   "execution_count": null,
   "metadata": {},
   "outputs": [],
   "source": []
  },
  {
   "cell_type": "markdown",
   "metadata": {},
   "source": [
    "## Round 3"
   ]
  },
  {
   "cell_type": "code",
   "execution_count": null,
   "metadata": {},
   "outputs": [],
   "source": []
  }
 ],
 "metadata": {
  "kernelspec": {
   "display_name": "PyCharm (gecm)",
   "language": "python",
   "name": "pycharm-ba196790"
  },
  "language_info": {
   "codemirror_mode": {
    "name": "ipython",
    "version": 3
   },
   "file_extension": ".py",
   "mimetype": "text/x-python",
   "name": "python",
   "nbconvert_exporter": "python",
   "pygments_lexer": "ipython3",
   "version": "3.8.6"
  }
 },
 "nbformat": 4,
 "nbformat_minor": 4
}
