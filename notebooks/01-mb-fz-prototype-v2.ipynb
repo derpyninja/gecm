{
 "cells": [
  {
   "cell_type": "markdown",
   "metadata": {
    "pycharm": {
     "name": "#%% md\n"
    }
   },
   "source": [
    "# Game Prototype of Team Scotland 2\n",
    "Felix Zaussinger, Martina Buck | 18.11.2020, 15:30\n",
    "\n",
    "## Goals\n",
    "1. give a first impression of what the game looks like\n",
    "\n",
    "2. demonstrate simple game mechanisms"
   ]
  },
  {
   "cell_type": "markdown",
   "metadata": {},
   "source": [
    "**Magic commands**"
   ]
  },
  {
   "cell_type": "code",
   "execution_count": 1,
   "metadata": {},
   "outputs": [],
   "source": [
    "%load_ext autoreload\n",
    "%autoreload 2\n",
    "\n",
    "%matplotlib inline\n",
    "%config InlineBackend.figure_format = 'retina'"
   ]
  },
  {
   "cell_type": "markdown",
   "metadata": {},
   "source": [
    "**External imports**"
   ]
  },
  {
   "cell_type": "code",
   "execution_count": 2,
   "metadata": {},
   "outputs": [],
   "source": [
    "import os\n",
    "import sys\n",
    "import numpy as np\n",
    "import pandas as pd\n",
    "import seaborn as sns\n",
    "import configparser\n",
    "from pathlib import Path\n",
    "import matplotlib.pyplot as plt\n",
    "from matplotlib.colors import ListedColormap"
   ]
  },
  {
   "cell_type": "markdown",
   "metadata": {},
   "source": [
    "**Figure properties**"
   ]
  },
  {
   "cell_type": "code",
   "execution_count": 3,
   "metadata": {},
   "outputs": [],
   "source": [
    "sns.set_context(\"poster\")\n",
    "sns.set(rc={'figure.figsize': (8, 5)})\n",
    "sns.set_style(\"ticks\")"
   ]
  },
  {
   "cell_type": "markdown",
   "metadata": {},
   "source": [
    "**Directory structure**"
   ]
  },
  {
   "cell_type": "code",
   "execution_count": 4,
   "metadata": {},
   "outputs": [
    {
     "data": {
      "text/plain": [
       "'/Users/felix/ETH/code/gecm'"
      ]
     },
     "execution_count": 4,
     "metadata": {},
     "output_type": "execute_result"
    }
   ],
   "source": [
    "# project directory\n",
    "abspath = os.path.abspath('')\n",
    "project_dir = str(Path(abspath).parents[0])\n",
    "\n",
    "# sub-directories\n",
    "data_raw = os.path.join(project_dir, \"data\", \"raw\")\n",
    "data_processed = os.path.join(project_dir, \"data\", \"processed\")\n",
    "figure_dir = os.path.join(project_dir, \"plots\")\n",
    "project_dir"
   ]
  },
  {
   "cell_type": "markdown",
   "metadata": {},
   "source": [
    "**Append project directory to PYTHONPATH via sys (!)**\n",
    "\n",
    "Source: https://stackoverflow.com/questions/39299838/how-do-i-import-module-in-jupyter-notebook-directory-into-notebooks-in-lower-dir"
   ]
  },
  {
   "cell_type": "code",
   "execution_count": 5,
   "metadata": {},
   "outputs": [],
   "source": [
    "if project_dir not in sys.path:\n",
    "    sys.path.append(project_dir)"
   ]
  },
  {
   "cell_type": "markdown",
   "metadata": {
    "pycharm": {
     "name": "#%% md\n"
    }
   },
   "source": [
    "**Only now we can import our own code from src**"
   ]
  },
  {
   "cell_type": "code",
   "execution_count": 6,
   "metadata": {
    "collapsed": false,
    "jupyter": {
     "outputs_hidden": false
    },
    "pycharm": {
     "name": "#%%\n"
    }
   },
   "outputs": [],
   "source": [
    "from src.gecm import model, vis, io, game, base, dicts\n",
    "from src.gecm.field import Map\n",
    "from src.gecm.dicts import (\n",
    "        original_lulc_mapping,\n",
    "        lulc_remapping,\n",
    "        simplified_lulc_mapping,\n",
    "        simplified_lulc_mapping_colors\n",
    "    )"
   ]
  },
  {
   "cell_type": "markdown",
   "metadata": {},
   "source": [
    "**Set game parameters**"
   ]
  },
  {
   "cell_type": "code",
   "execution_count": 7,
   "metadata": {
    "collapsed": false,
    "jupyter": {
     "outputs_hidden": false
    },
    "pycharm": {
     "name": "#%%\n"
    }
   },
   "outputs": [],
   "source": [
    "# size of playing field in pixels\n",
    "n_pixels = 40\n",
    "\n",
    "# complexity of playing field (only granularity = 1 works for now)\n",
    "granularity = 1"
   ]
  },
  {
   "cell_type": "markdown",
   "metadata": {
    "pycharm": {
     "name": "#%% md\n"
    }
   },
   "source": [
    "**Other definitions and imports which are needed**"
   ]
  },
  {
   "cell_type": "code",
   "execution_count": 8,
   "metadata": {
    "collapsed": false,
    "jupyter": {
     "outputs_hidden": false
    },
    "pycharm": {
     "name": "#%%\n"
    }
   },
   "outputs": [],
   "source": [
    "# colormap\n",
    "simplified_lulc_cm = ListedColormap(\n",
    "    [simplified_lulc_mapping_colors[x] for x in simplified_lulc_mapping_colors.keys()]\n",
    ")\n",
    "\n",
    "# path to raster data file (must be a geotiff)\n",
    "fpath_map = os.path.join(\n",
    "    data_processed, \"NFI_rasterized_{}_{}.tif\".format(n_pixels, n_pixels)\n",
    ")"
   ]
  },
  {
   "cell_type": "markdown",
   "metadata": {},
   "source": [
    "**Establish connection to Google Drive documents**"
   ]
  },
  {
   "cell_type": "code",
   "execution_count": 9,
   "metadata": {},
   "outputs": [
    {
     "data": {
      "text/plain": [
       "['/Users/felix/ETH/code/gecm/config.ini']"
      ]
     },
     "execution_count": 9,
     "metadata": {},
     "output_type": "execute_result"
    }
   ],
   "source": [
    "# init config file parser. methods: config.getboolean, config.getint, ... .\n",
    "config = configparser.ConfigParser()\n",
    "fpath_cf = os.path.join(project_dir, 'config.ini')\n",
    "config.read(fpath_cf)"
   ]
  },
  {
   "cell_type": "markdown",
   "metadata": {},
   "source": [
    "**Show configuration file sections**"
   ]
  },
  {
   "cell_type": "code",
   "execution_count": 10,
   "metadata": {},
   "outputs": [
    {
     "name": "stdout",
     "output_type": "stream",
     "text": [
      "\n",
      "--- default ---\n",
      "credentials: 'google_api_credentials.json'\n",
      "scopes: https://www.googleapis.com/auth/spreadsheets.readonly\n",
      "\n",
      "--- gdrive_spreadsheet_ids ---\n",
      "spreadsheet_id_farmers: 1kEEcKdP__1XbYKe5-nVlxzAD_P5-EQx-23IAw9SXOoc\n",
      "spreadsheet_id_foresters: 1ir8WkfKpyEGkamASbd0pf9IDAE74M4Q1fsHYl4r9F34\n",
      "spreadsheet_id_tourism: 1EA_mCM9Pp_URb_JavM-mMIqixTvZewSkGC2b-wDa1ns\n",
      "spreadsheet_id_model: 1CVdDndGD1S8ab3D1KlXYcBcnjK8sBPl68Eth0KMgaEQ\n",
      "\n",
      "--- gdrive_sheet_names ---\n",
      "sheet_names_farmers: Farmer_1, Farmer_2\n",
      "sheet_names_foresters: Forester_1, Forester_2\n",
      "sheet_names_tourism: SSDA\n",
      "sheet_names_model: model_parameters, model_calculations\n"
     ]
    }
   ],
   "source": [
    "io.config_describe(config)"
   ]
  },
  {
   "cell_type": "markdown",
   "metadata": {},
   "source": [
    "**Parse management decisions** --> As a first example, read the farmer's decisions."
   ]
  },
  {
   "cell_type": "markdown",
   "metadata": {},
   "source": [
    "Parameter settings"
   ]
  },
  {
   "cell_type": "code",
   "execution_count": 11,
   "metadata": {},
   "outputs": [],
   "source": [
    "# If modifying these scopes, delete the file token.pickle.\n",
    "SCOPES = [config.get(section=\"default\", option=\"scopes\")]\n",
    "\n",
    "# <Your spreadsheet ID>\n",
    "# SPREADSHEET_ID = config.get(section=\"gdrive_spreadsheet_ids\", option=\"spreadsheet_id_farmers\")\n",
    "\n",
    "# <Your worksheet names>\n",
    "# SHEETS_STRING = config.get(section=\"gdrive_sheet_names\", option=\"sheet_names_farmers\")\n",
    "# SHEETS = io.parse_list(config_string=SHEETS_STRING)\n",
    "\n",
    "# API credentials\n",
    "credentials_fpath = os.path.join(project_dir, 'google_api_credentials.json')"
   ]
  },
  {
   "cell_type": "markdown",
   "metadata": {
    "pycharm": {
     "name": "#%% md\n"
    }
   },
   "source": [
    "**Define the playing field**"
   ]
  },
  {
   "cell_type": "markdown",
   "metadata": {},
   "source": [
    "load map"
   ]
  },
  {
   "cell_type": "code",
   "execution_count": 12,
   "metadata": {
    "collapsed": false,
    "jupyter": {
     "outputs_hidden": false
    },
    "pycharm": {
     "name": "#%%\n"
    }
   },
   "outputs": [],
   "source": [
    "playing_field = Map(\n",
    "    fpath=fpath_map,\n",
    "    original_lulc_mapping=original_lulc_mapping,\n",
    "    simplified_lulc_mapping=simplified_lulc_mapping,\n",
    "    lulc_remapping=lulc_remapping,\n",
    "    cmap=simplified_lulc_cm\n",
    ")"
   ]
  },
  {
   "cell_type": "markdown",
   "metadata": {},
   "source": [
    "**initialise playing field (crucial, else nothing works!)**"
   ]
  },
  {
   "cell_type": "code",
   "execution_count": 13,
   "metadata": {},
   "outputs": [],
   "source": [
    "playing_field.initialise(granularity=1)"
   ]
  },
  {
   "cell_type": "markdown",
   "metadata": {},
   "source": [
    "**sanity check on current round**"
   ]
  },
  {
   "cell_type": "code",
   "execution_count": 14,
   "metadata": {},
   "outputs": [],
   "source": [
    "assert playing_field.current_round == 0"
   ]
  },
  {
   "cell_type": "markdown",
   "metadata": {},
   "source": [
    "#### Parse model parameters and formulas"
   ]
  },
  {
   "cell_type": "code",
   "execution_count": 15,
   "metadata": {},
   "outputs": [
    {
     "name": "stdout",
     "output_type": "stream",
     "text": [
      "model_parameters\n",
      "model_calculations\n"
     ]
    }
   ],
   "source": [
    "%reload_ext autoreload\n",
    "model_settings_dict = io.parse_sheets(\n",
    "        spreadsheet_id=config.get(section=\"gdrive_spreadsheet_ids\", option=\"spreadsheet_id_model\"), \n",
    "        sheets=io.parse_list(config_string=config.get(section=\"gdrive_sheet_names\", option=\"sheet_names_model\")),\n",
    "        credentials_fpath=credentials_fpath, \n",
    "        scopes=SCOPES,\n",
    "        to_numeric=True\n",
    "    )"
   ]
  },
  {
   "cell_type": "markdown",
   "metadata": {},
   "source": [
    "#### Parametrise the conceptual model"
   ]
  },
  {
   "cell_type": "code",
   "execution_count": 16,
   "metadata": {},
   "outputs": [],
   "source": [
    "%reload_ext autoreload\n",
    "game_model = model.ConceptualModel(\n",
    "    model_parameters=model_settings_dict[\"model_parameters\"],\n",
    "    model_calculations=model_settings_dict[\"model_calculations\"]\n",
    ")"
   ]
  },
  {
   "cell_type": "code",
   "execution_count": 17,
   "metadata": {},
   "outputs": [
    {
     "data": {
      "text/html": [
       "<div>\n",
       "<style scoped>\n",
       "    .dataframe tbody tr th:only-of-type {\n",
       "        vertical-align: middle;\n",
       "    }\n",
       "\n",
       "    .dataframe tbody tr th {\n",
       "        vertical-align: top;\n",
       "    }\n",
       "\n",
       "    .dataframe thead th {\n",
       "        text-align: right;\n",
       "    }\n",
       "</style>\n",
       "<table border=\"1\" class=\"dataframe\">\n",
       "  <thead>\n",
       "    <tr style=\"text-align: right;\">\n",
       "      <th></th>\n",
       "      <th>description</th>\n",
       "      <th>variable</th>\n",
       "      <th>value</th>\n",
       "      <th>unit</th>\n",
       "      <th>Source 1</th>\n",
       "      <th>Source 2</th>\n",
       "      <th>Comment</th>\n",
       "    </tr>\n",
       "  </thead>\n",
       "  <tbody>\n",
       "    <tr>\n",
       "      <th>0</th>\n",
       "      <td>Farmland: sheep</td>\n",
       "      <td>income_farmland_sheep</td>\n",
       "      <td>30.000</td>\n",
       "      <td>pound/ha/yr</td>\n",
       "      <td>https://www.gov.scot/publications/farm-busines...</td>\n",
       "      <td>https://www.gov.scot/publications/total-income...</td>\n",
       "      <td>Southern Scotland seems to have good profitabi...</td>\n",
       "    </tr>\n",
       "    <tr>\n",
       "      <th>1</th>\n",
       "      <td>Farmland: cattle</td>\n",
       "      <td>income_farmland_cattle</td>\n",
       "      <td>100.000</td>\n",
       "      <td>pound/ha/yr</td>\n",
       "      <td>NaN</td>\n",
       "      <td>NaN</td>\n",
       "      <td>NaN</td>\n",
       "    </tr>\n",
       "    <tr>\n",
       "      <th>2</th>\n",
       "      <td>Commercial forest</td>\n",
       "      <td>income_forest_commercial</td>\n",
       "      <td>200.000</td>\n",
       "      <td>pound/ha/yr</td>\n",
       "      <td>https://www.isurv.com/info/390/features/11524/...</td>\n",
       "      <td></td>\n",
       "      <td>Ella-Mona: wood from the Biosphere commercial ...</td>\n",
       "    </tr>\n",
       "    <tr>\n",
       "      <th>3</th>\n",
       "      <td>Native forest</td>\n",
       "      <td>income_forest_native</td>\n",
       "      <td>50.000</td>\n",
       "      <td>pound/ha/yr</td>\n",
       "      <td>from minor timber usage</td>\n",
       "      <td></td>\n",
       "      <td>What shall we put in here? Carbon offsetting (...</td>\n",
       "    </tr>\n",
       "    <tr>\n",
       "      <th>4</th>\n",
       "      <td>Tourism</td>\n",
       "      <td>gdp_tourism</td>\n",
       "      <td>43.952</td>\n",
       "      <td>percentage (multiplier)</td>\n",
       "      <td>https://www.gov.scot/publications/tourism-scot...</td>\n",
       "      <td></td>\n",
       "      <td>percentage of GDP</td>\n",
       "    </tr>\n",
       "    <tr>\n",
       "      <th>5</th>\n",
       "      <td>GDP pro capita (Scotland)</td>\n",
       "      <td>gdp_pc_scotland</td>\n",
       "      <td>29.600</td>\n",
       "      <td>pound/yr</td>\n",
       "      <td>https://www.ons.gov.uk/economy/grossdomesticpr...</td>\n",
       "      <td>NaN</td>\n",
       "      <td>NaN</td>\n",
       "    </tr>\n",
       "    <tr>\n",
       "      <th>6</th>\n",
       "      <td>Average Farm Income (Scotland)</td>\n",
       "      <td>income_farm</td>\n",
       "      <td>39.000</td>\n",
       "      <td>pound/yr</td>\n",
       "      <td>NaN</td>\n",
       "      <td>NaN</td>\n",
       "      <td>NaN</td>\n",
       "    </tr>\n",
       "    <tr>\n",
       "      <th>7</th>\n",
       "      <td>Unemployment rate Scotland</td>\n",
       "      <td>unempl_rate_scotland</td>\n",
       "      <td>5.000</td>\n",
       "      <td>percentage of unemployment</td>\n",
       "      <td>GSA Socioecomomic Study</td>\n",
       "      <td>NaN</td>\n",
       "      <td>NaN</td>\n",
       "    </tr>\n",
       "    <tr>\n",
       "      <th>8</th>\n",
       "      <td>Unemployment rate Southern West</td>\n",
       "      <td>unempl_rate_scotland_west</td>\n",
       "      <td>5.000</td>\n",
       "      <td>percentage of unemployment</td>\n",
       "      <td>GSA Socioecomomic Study</td>\n",
       "      <td></td>\n",
       "      <td>However in the Socioeconomic study was highlig...</td>\n",
       "    </tr>\n",
       "    <tr>\n",
       "      <th>9</th>\n",
       "      <td>Bankaccount Farmer 1</td>\n",
       "      <td>bank_account_farmer_1</td>\n",
       "      <td>10.000</td>\n",
       "      <td>pound</td>\n",
       "      <td>NaN</td>\n",
       "      <td>NaN</td>\n",
       "      <td>NaN</td>\n",
       "    </tr>\n",
       "    <tr>\n",
       "      <th>10</th>\n",
       "      <td>Bankaccount Farmer 2</td>\n",
       "      <td>bank_account_farmer_2</td>\n",
       "      <td>10.000</td>\n",
       "      <td>pound</td>\n",
       "      <td>NaN</td>\n",
       "      <td>NaN</td>\n",
       "      <td>NaN</td>\n",
       "    </tr>\n",
       "    <tr>\n",
       "      <th>11</th>\n",
       "      <td>Bankaccount  Forestry 1</td>\n",
       "      <td>bank_account_forestry_1</td>\n",
       "      <td>10.000</td>\n",
       "      <td>pound</td>\n",
       "      <td>NaN</td>\n",
       "      <td>NaN</td>\n",
       "      <td>NaN</td>\n",
       "    </tr>\n",
       "    <tr>\n",
       "      <th>12</th>\n",
       "      <td>Bankaccount Forestry 2</td>\n",
       "      <td>bank_account_forestry_2</td>\n",
       "      <td>10.000</td>\n",
       "      <td>pound</td>\n",
       "      <td>NaN</td>\n",
       "      <td>NaN</td>\n",
       "      <td>NaN</td>\n",
       "    </tr>\n",
       "    <tr>\n",
       "      <th>13</th>\n",
       "      <td>Farmland: sheep subsidies UK</td>\n",
       "      <td>uk_farmland_sheep</td>\n",
       "      <td>20.000</td>\n",
       "      <td>pound/ha/yr</td>\n",
       "      <td>educated guesses</td>\n",
       "      <td>NaN</td>\n",
       "      <td>NaN</td>\n",
       "    </tr>\n",
       "    <tr>\n",
       "      <th>14</th>\n",
       "      <td>Farmland: cattle subsidies UK</td>\n",
       "      <td>uk_farmland_cattle</td>\n",
       "      <td>15.000</td>\n",
       "      <td>pound/ha/yr</td>\n",
       "      <td>educated guesses</td>\n",
       "      <td>NaN</td>\n",
       "      <td>NaN</td>\n",
       "    </tr>\n",
       "    <tr>\n",
       "      <th>15</th>\n",
       "      <td>Farmland: sheep subsidies CAP</td>\n",
       "      <td>cap_farmland_sheep</td>\n",
       "      <td>60.000</td>\n",
       "      <td>pound/ha/yr</td>\n",
       "      <td>educated guesses</td>\n",
       "      <td>NaN</td>\n",
       "      <td>NaN</td>\n",
       "    </tr>\n",
       "    <tr>\n",
       "      <th>16</th>\n",
       "      <td>Farmland: cattle subsidies CAP</td>\n",
       "      <td>cap_farmland_cattle</td>\n",
       "      <td>40.000</td>\n",
       "      <td>pound/ha/yr</td>\n",
       "      <td>educated guesses</td>\n",
       "      <td>NaN</td>\n",
       "      <td>NaN</td>\n",
       "    </tr>\n",
       "    <tr>\n",
       "      <th>17</th>\n",
       "      <td>Usage farmers</td>\n",
       "      <td>use_farmer</td>\n",
       "      <td>30.000</td>\n",
       "      <td>pound/yr</td>\n",
       "      <td>educated guesses</td>\n",
       "      <td>NaN</td>\n",
       "      <td>NaN</td>\n",
       "    </tr>\n",
       "    <tr>\n",
       "      <th>18</th>\n",
       "      <td>Usage forester</td>\n",
       "      <td>use_forester</td>\n",
       "      <td>30.000</td>\n",
       "      <td>pound/yr</td>\n",
       "      <td>educated guesses</td>\n",
       "      <td>NaN</td>\n",
       "      <td>NaN</td>\n",
       "    </tr>\n",
       "    <tr>\n",
       "      <th>19</th>\n",
       "      <td>Commercial forest after Brexit</td>\n",
       "      <td>income_forest_commercial_brexit</td>\n",
       "      <td>240.000</td>\n",
       "      <td>pound/ha/yr</td>\n",
       "      <td>educated guesses</td>\n",
       "      <td>NaN</td>\n",
       "      <td>NaN</td>\n",
       "    </tr>\n",
       "    <tr>\n",
       "      <th>20</th>\n",
       "      <td>Native forest after Brexit</td>\n",
       "      <td>income_forest_native_brexit</td>\n",
       "      <td>60.000</td>\n",
       "      <td>pound/ha/yr</td>\n",
       "      <td>NaN</td>\n",
       "      <td>NaN</td>\n",
       "      <td>NaN</td>\n",
       "    </tr>\n",
       "    <tr>\n",
       "      <th>21</th>\n",
       "      <td>Tax below survival limit of 30k</td>\n",
       "      <td>tax_below_survival30k</td>\n",
       "      <td>0.000</td>\n",
       "      <td>percentage of income</td>\n",
       "      <td>https://www.mygov.scot/income-tax-rates-and-pe...</td>\n",
       "      <td>NaN</td>\n",
       "      <td>NaN</td>\n",
       "    </tr>\n",
       "    <tr>\n",
       "      <th>22</th>\n",
       "      <td>Tax from 30k to 45k</td>\n",
       "      <td>tax_till45k</td>\n",
       "      <td>21.000</td>\n",
       "      <td>percentage of income</td>\n",
       "      <td>https://www.mygov.scot/income-tax-rates-and-pe...</td>\n",
       "      <td>NaN</td>\n",
       "      <td>NaN</td>\n",
       "    </tr>\n",
       "    <tr>\n",
       "      <th>23</th>\n",
       "      <td>Tax from 45k to 150k</td>\n",
       "      <td>tax_till150k</td>\n",
       "      <td>41.000</td>\n",
       "      <td>percentage of income</td>\n",
       "      <td>https://www.mygov.scot/income-tax-rates-and-pe...</td>\n",
       "      <td>NaN</td>\n",
       "      <td>NaN</td>\n",
       "    </tr>\n",
       "    <tr>\n",
       "      <th>24</th>\n",
       "      <td>Tax above 150k</td>\n",
       "      <td>tax_above150k</td>\n",
       "      <td>46.000</td>\n",
       "      <td>percentage of income</td>\n",
       "      <td>https://www.mygov.scot/income-tax-rates-and-pe...</td>\n",
       "      <td>NaN</td>\n",
       "      <td>NaN</td>\n",
       "    </tr>\n",
       "  </tbody>\n",
       "</table>\n",
       "</div>"
      ],
      "text/plain": [
       "                        description                         variable    value  \\\n",
       "0                   Farmland: sheep            income_farmland_sheep   30.000   \n",
       "1                  Farmland: cattle           income_farmland_cattle  100.000   \n",
       "2                 Commercial forest         income_forest_commercial  200.000   \n",
       "3                     Native forest             income_forest_native   50.000   \n",
       "4                           Tourism                      gdp_tourism   43.952   \n",
       "5         GDP pro capita (Scotland)                  gdp_pc_scotland   29.600   \n",
       "6    Average Farm Income (Scotland)                      income_farm   39.000   \n",
       "7        Unemployment rate Scotland             unempl_rate_scotland    5.000   \n",
       "8   Unemployment rate Southern West        unempl_rate_scotland_west    5.000   \n",
       "9              Bankaccount Farmer 1            bank_account_farmer_1   10.000   \n",
       "10             Bankaccount Farmer 2            bank_account_farmer_2   10.000   \n",
       "11          Bankaccount  Forestry 1          bank_account_forestry_1   10.000   \n",
       "12           Bankaccount Forestry 2          bank_account_forestry_2   10.000   \n",
       "13     Farmland: sheep subsidies UK                uk_farmland_sheep   20.000   \n",
       "14    Farmland: cattle subsidies UK               uk_farmland_cattle   15.000   \n",
       "15    Farmland: sheep subsidies CAP               cap_farmland_sheep   60.000   \n",
       "16   Farmland: cattle subsidies CAP              cap_farmland_cattle   40.000   \n",
       "17                    Usage farmers                       use_farmer   30.000   \n",
       "18                   Usage forester                     use_forester   30.000   \n",
       "19   Commercial forest after Brexit  income_forest_commercial_brexit  240.000   \n",
       "20       Native forest after Brexit      income_forest_native_brexit   60.000   \n",
       "21  Tax below survival limit of 30k            tax_below_survival30k    0.000   \n",
       "22              Tax from 30k to 45k                      tax_till45k   21.000   \n",
       "23             Tax from 45k to 150k                     tax_till150k   41.000   \n",
       "24                   Tax above 150k                    tax_above150k   46.000   \n",
       "\n",
       "                          unit  \\\n",
       "0                  pound/ha/yr   \n",
       "1                  pound/ha/yr   \n",
       "2                  pound/ha/yr   \n",
       "3                  pound/ha/yr   \n",
       "4      percentage (multiplier)   \n",
       "5                     pound/yr   \n",
       "6                     pound/yr   \n",
       "7   percentage of unemployment   \n",
       "8   percentage of unemployment   \n",
       "9                        pound   \n",
       "10                       pound   \n",
       "11                       pound   \n",
       "12                       pound   \n",
       "13                 pound/ha/yr   \n",
       "14                 pound/ha/yr   \n",
       "15                 pound/ha/yr   \n",
       "16                 pound/ha/yr   \n",
       "17                    pound/yr   \n",
       "18                    pound/yr   \n",
       "19                 pound/ha/yr   \n",
       "20                 pound/ha/yr   \n",
       "21        percentage of income   \n",
       "22        percentage of income   \n",
       "23        percentage of income   \n",
       "24        percentage of income   \n",
       "\n",
       "                                             Source 1  \\\n",
       "0   https://www.gov.scot/publications/farm-busines...   \n",
       "1                                                 NaN   \n",
       "2   https://www.isurv.com/info/390/features/11524/...   \n",
       "3                             from minor timber usage   \n",
       "4   https://www.gov.scot/publications/tourism-scot...   \n",
       "5   https://www.ons.gov.uk/economy/grossdomesticpr...   \n",
       "6                                                 NaN   \n",
       "7                             GSA Socioecomomic Study   \n",
       "8                             GSA Socioecomomic Study   \n",
       "9                                                 NaN   \n",
       "10                                                NaN   \n",
       "11                                                NaN   \n",
       "12                                                NaN   \n",
       "13                                   educated guesses   \n",
       "14                                   educated guesses   \n",
       "15                                   educated guesses   \n",
       "16                                   educated guesses   \n",
       "17                                   educated guesses   \n",
       "18                                   educated guesses   \n",
       "19                                   educated guesses   \n",
       "20                                                NaN   \n",
       "21  https://www.mygov.scot/income-tax-rates-and-pe...   \n",
       "22  https://www.mygov.scot/income-tax-rates-and-pe...   \n",
       "23  https://www.mygov.scot/income-tax-rates-and-pe...   \n",
       "24  https://www.mygov.scot/income-tax-rates-and-pe...   \n",
       "\n",
       "                                             Source 2  \\\n",
       "0   https://www.gov.scot/publications/total-income...   \n",
       "1                                                 NaN   \n",
       "2                                                       \n",
       "3                                                       \n",
       "4                                                       \n",
       "5                                                 NaN   \n",
       "6                                                 NaN   \n",
       "7                                                 NaN   \n",
       "8                                                       \n",
       "9                                                 NaN   \n",
       "10                                                NaN   \n",
       "11                                                NaN   \n",
       "12                                                NaN   \n",
       "13                                                NaN   \n",
       "14                                                NaN   \n",
       "15                                                NaN   \n",
       "16                                                NaN   \n",
       "17                                                NaN   \n",
       "18                                                NaN   \n",
       "19                                                NaN   \n",
       "20                                                NaN   \n",
       "21                                                NaN   \n",
       "22                                                NaN   \n",
       "23                                                NaN   \n",
       "24                                                NaN   \n",
       "\n",
       "                                              Comment  \n",
       "0   Southern Scotland seems to have good profitabi...  \n",
       "1                                                 NaN  \n",
       "2   Ella-Mona: wood from the Biosphere commercial ...  \n",
       "3   What shall we put in here? Carbon offsetting (...  \n",
       "4                                   percentage of GDP  \n",
       "5                                                 NaN  \n",
       "6                                                 NaN  \n",
       "7                                                 NaN  \n",
       "8   However in the Socioeconomic study was highlig...  \n",
       "9                                                 NaN  \n",
       "10                                                NaN  \n",
       "11                                                NaN  \n",
       "12                                                NaN  \n",
       "13                                                NaN  \n",
       "14                                                NaN  \n",
       "15                                                NaN  \n",
       "16                                                NaN  \n",
       "17                                                NaN  \n",
       "18                                                NaN  \n",
       "19                                                NaN  \n",
       "20                                                NaN  \n",
       "21                                                NaN  \n",
       "22                                                NaN  \n",
       "23                                                NaN  \n",
       "24                                                NaN  "
      ]
     },
     "execution_count": 17,
     "metadata": {},
     "output_type": "execute_result"
    }
   ],
   "source": [
    "game_model.model_parameters"
   ]
  },
  {
   "cell_type": "markdown",
   "metadata": {},
   "source": [
    "# Fancy game name\n",
    "\n",
    "## First game instructions\n",
    " \n",
    "- Landscape is an ever changing thing. But those changes don't always happen without conflicts. \n",
    "- In the following game, you will be part of a group of stakeholders. \n",
    "- You can take the role of being foresters, farmers or tourism association representatives.\n",
    "- To start a new game and distribute all roles, fill in the numbers of players (3 to 6). --> only \"number_of_players = 6\" works so far!"
   ]
  },
  {
   "cell_type": "code",
   "execution_count": 18,
   "metadata": {},
   "outputs": [
    {
     "name": "stdout",
     "output_type": "stream",
     "text": [
      "There are 6 roles for each player, Farmer 1 and 2, Forester 1 and 2 and Tourism association (SSDA) representatives 1 and 2. Please distribute each role among yourselves\n"
     ]
    }
   ],
   "source": [
    "number_of_players = 6\n",
    "game.roles(number_of_players)"
   ]
  },
  {
   "cell_type": "markdown",
   "metadata": {},
   "source": [
    "- To play the game, every player fills out his decisions on what to do with his land on the google sheet for his role (maybe we could put here a link but then everyone has acces to everyones decisions...). A map of the area changes based on your decisions."
   ]
  },
  {
   "cell_type": "markdown",
   "metadata": {},
   "source": [
    "## Starting point\n",
    "\n",
    "Now have a look at playing field.\n",
    "\n",
    "You find yourselves in Scottland in the area of Galloway and Southern Ayrshire Biosphere. The government decided that more forest area in Scottland is needed to help combate climate change. At the same time, the people of Scottland need steady jobs with a decent pay. You find yourself either managing Farmland, Forest or tourism industry (SSDA) representative.\n",
    "\n",
    "As a farmer, you can make money by selling agricultural products. As a forester, you can make money by selling timber. As a tourism industry (SSDA) representative, you represent the interests of the local tourism industry, which primarily consist of micro-businesses (less than 10 employees)."
   ]
  },
  {
   "cell_type": "markdown",
   "metadata": {},
   "source": [
    "#### Show Game Dashboard"
   ]
  },
  {
   "cell_type": "code",
   "execution_count": 19,
   "metadata": {},
   "outputs": [
    {
     "data": {
      "image/png": "[encoded data removed]",
      "text/plain": [
       "<Figure size 936x576 with 4 Axes>"
      ]
     },
     "metadata": {
      "image/png": {
       "height": 565,
       "width": 917
      }
     },
     "output_type": "display_data"
    }
   ],
   "source": [
    "%reload_ext autoreload\n",
    "playing_field.show_dashboard(figure_size=(13,8))"
   ]
  },
  {
   "cell_type": "markdown",
   "metadata": {},
   "source": [
    "## Round 1"
   ]
  },
  {
   "cell_type": "markdown",
   "metadata": {},
   "source": [
    "Please wait a moment while we are accessing your management decisions ..."
   ]
  },
  {
   "cell_type": "code",
   "execution_count": 20,
   "metadata": {},
   "outputs": [
    {
     "name": "stdout",
     "output_type": "stream",
     "text": [
      "Farmer_1\n",
      "Farmer_2\n",
      "Forester_1\n",
      "Forester_2\n",
      "SSDA\n",
      "CPU times: user 871 ms, sys: 232 ms, total: 1.1 s\n",
      "Wall time: 10.5 s\n"
     ]
    }
   ],
   "source": [
    "%%time\n",
    "dict_of_mgmt_decisions_dfs = {}\n",
    "\n",
    "for stakeholder_group in [\"farmers\", \"foresters\", \"tourism\"]:\n",
    "    dict_of_mgmt_decisions_dfs[stakeholder_group] = io.parse_mgmt_decisions(\n",
    "        spreadsheet_id=config.get(section=\"gdrive_spreadsheet_ids\", option=\"spreadsheet_id_{}\".format(stakeholder_group)), \n",
    "        sheets=io.parse_list(config_string=config.get(section=\"gdrive_sheet_names\", option=\"sheet_names_{}\".format(stakeholder_group))),\n",
    "        credentials_fpath=credentials_fpath, \n",
    "        scopes=SCOPES, \n",
    "        unstack_data=False\n",
    "    )"
   ]
  },
  {
   "cell_type": "code",
   "execution_count": 21,
   "metadata": {},
   "outputs": [],
   "source": [
    "# combine data\n",
    "df_mgmt_decisions = pd.concat(dict_of_mgmt_decisions_dfs.values(), keys=dict_of_mgmt_decisions_dfs.keys())\n",
    "df_mgmt_decisions.index.rename(\"stakeholder\", level=0, inplace=True)\n",
    "df_mgmt_decisions_long = df_mgmt_decisions.reset_index()\n",
    "df_mgmt_decisions_long[\"id\"] = df_mgmt_decisions_long.index.values\n",
    "\n",
    "# melt\n",
    "id_vars = [\"stakeholder\", \"round\", \"player\", \"Plot\", \"Teamwork\"]\n",
    "value_vars = [\"Sheep\", \"Cattle\", \"Native Forest\", \"Commercial Forest\"]\n",
    "df_mgmt_decisions_melted = df_mgmt_decisions_long.melt(id_vars=id_vars, value_vars=value_vars)"
   ]
  },
  {
   "cell_type": "markdown",
   "metadata": {},
   "source": [
    "https://seaborn.pydata.org/tutorial/relational.html: seaborn supports semantics of hue, size, and style"
   ]
  },
  {
   "cell_type": "code",
   "execution_count": 22,
   "metadata": {},
   "outputs": [
    {
     "data": {
      "text/plain": [
       "<seaborn.axisgrid.FacetGrid at 0x7fe92e588100>"
      ]
     },
     "execution_count": 22,
     "metadata": {},
     "output_type": "execute_result"
    },
    {
     "data": {
      "image/png": "[encoded data removed]",
      "text/plain": [
       "<Figure size 780.85x360 with 3 Axes>"
      ]
     },
     "metadata": {
      "image/png": {
       "height": 349,
       "width": 790
      }
     },
     "output_type": "display_data"
    }
   ],
   "source": [
    "# plot mgmt decisions\n",
    "g = sns.catplot(x=\"round\", y=\"value\", hue=\"variable\", col=\"stakeholder\", kind=\"bar\", data=df_mgmt_decisions_melted, saturation=.5, ci=None, aspect=.6)\n",
    "\n",
    "(g.set_axis_labels(\"\", \"Management Decision (%)\")\n",
    " #.set_xticklabels([\"round\", \"round\", \"round\"])\n",
    " #.set_titles(\"{col_name} {col_var}\")\n",
    " .set(ylim=(-100, 100)).despine(left=False))"
   ]
  },
  {
   "cell_type": "markdown",
   "metadata": {},
   "source": [
    "Done! Please wait a final moment while we are updating the playing field based on your management decisions.\n",
    "\n",
    "**TODO [high]: update map based on conceptual model**"
   ]
  },
  {
   "cell_type": "code",
   "execution_count": 23,
   "metadata": {},
   "outputs": [
    {
     "data": {
      "text/plain": [
       "masked_array(\n",
       "  data=[[--, --, --, ..., --, --, --],\n",
       "        [--, --, --, ..., --, --, --],\n",
       "        [--, --, --, ..., --, --, --],\n",
       "        ...,\n",
       "        [--, --, --, ..., --, --, --],\n",
       "        [--, --, --, ..., --, --, --],\n",
       "        [--, --, --, ..., --, --, --]],\n",
       "  mask=[[ True,  True,  True, ...,  True,  True,  True],\n",
       "        [ True,  True,  True, ...,  True,  True,  True],\n",
       "        [ True,  True,  True, ...,  True,  True,  True],\n",
       "        ...,\n",
       "        [ True,  True,  True, ...,  True,  True,  True],\n",
       "        [ True,  True,  True, ...,  True,  True,  True],\n",
       "        [ True,  True,  True, ...,  True,  True,  True]],\n",
       "  fill_value=255,\n",
       "  dtype=uint8)"
      ]
     },
     "execution_count": 23,
     "metadata": {},
     "output_type": "execute_result"
    }
   ],
   "source": [
    "playing_field.map_simplified"
   ]
  },
  {
   "cell_type": "markdown",
   "metadata": {},
   "source": [
    "#### calculate yield \n",
    "TODO: delete as already implemented in the *show_bar* method"
   ]
  },
  {
   "cell_type": "code",
   "execution_count": 24,
   "metadata": {},
   "outputs": [],
   "source": [
    "%reload_ext autoreload\n",
    "# calc number of pixels per stakeholder\n",
    "global_yield = model.calculate_yield(\n",
    "    field=playing_field.map_simplified,\n",
    "    lulc_mapping=playing_field.simplified_lulc_mapping,\n",
    "    relative=False\n",
    ")\n",
    "\n",
    "# transform data\n",
    "global_yield_remapped = dict(zip(playing_field.simplified_lulc_mapping.keys(), list(global_yield.values())))\n",
    "df_global_yield_remapped = pd.DataFrame(global_yield_remapped, index=[\"yield\"]).transpose()\n",
    "\n",
    "# plot\n",
    "# df_global_yield_remapped.plot.bar()"
   ]
  },
  {
   "cell_type": "markdown",
   "metadata": {},
   "source": [
    "#### update bank accounts"
   ]
  },
  {
   "cell_type": "code",
   "execution_count": 25,
   "metadata": {},
   "outputs": [],
   "source": [
    "%reload_ext autoreload\n",
    "game_model.bank_account_farmers1[\"round_1\"] = 3000\n",
    "game_model.bank_account_farmers1[\"round_2\"] = 7000"
   ]
  },
  {
   "cell_type": "markdown",
   "metadata": {},
   "source": [
    "#### Impact of management decisions"
   ]
  },
  {
   "cell_type": "code",
   "execution_count": 26,
   "metadata": {},
   "outputs": [],
   "source": [
    "# TODO: display updated map and bar-charts with LULC changes"
   ]
  },
  {
   "cell_type": "code",
   "execution_count": 27,
   "metadata": {},
   "outputs": [],
   "source": [
    "# TODO: display the state of GDP and employment"
   ]
  },
  {
   "cell_type": "markdown",
   "metadata": {},
   "source": [
    "#### round number update"
   ]
  },
  {
   "cell_type": "code",
   "execution_count": 28,
   "metadata": {},
   "outputs": [],
   "source": [
    "%reload_ext autoreload\n",
    "playing_field.update_round_number()"
   ]
  },
  {
   "cell_type": "markdown",
   "metadata": {},
   "source": [
    "## Round 2"
   ]
  },
  {
   "cell_type": "code",
   "execution_count": 29,
   "metadata": {},
   "outputs": [],
   "source": [
    "%reload_ext autoreload\n",
    "assert playing_field.get_rounds(True) == 1"
   ]
  },
  {
   "cell_type": "markdown",
   "metadata": {},
   "source": [
    "## Round 3"
   ]
  },
  {
   "cell_type": "code",
   "execution_count": null,
   "metadata": {},
   "outputs": [],
   "source": []
  }
 ],
 "metadata": {
  "kernelspec": {
   "display_name": "PyCharm (gecm)",
   "language": "python",
   "name": "pycharm-ba196790"
  },
  "language_info": {
   "codemirror_mode": {
    "name": "ipython",
    "version": 3
   },
   "file_extension": ".py",
   "mimetype": "text/x-python",
   "name": "python",
   "nbconvert_exporter": "python",
   "pygments_lexer": "ipython3",
   "version": "3.8.6"
  }
 },
 "nbformat": 4,
 "nbformat_minor": 4
}
