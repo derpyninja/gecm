{
 "cells": [
  {
   "cell_type": "markdown",
   "metadata": {},
   "source": [
    "# Auto-connect to google sheets documents\n",
    "\n",
    "Based on\n",
    "\n",
    "1. https://towardsdatascience.com/how-to-access-google-sheet-data-using-the-python-api-and-convert-to-pandas-dataframe-5ec020564f0e \n",
    "2. https://developers.google.com/sheets/api/quickstart/python."
   ]
  },
  {
   "cell_type": "markdown",
   "metadata": {},
   "source": [
    "### Our Data Sheet\n",
    "\n",
    "https://docs.google.com/spreadsheets/d/1T6V1F8HP01w-yVQ-Ji95bIFnIeWvqfvS8YDxqozp6CI/edit#gid=0"
   ]
  },
  {
   "cell_type": "code",
   "execution_count": 125,
   "metadata": {},
   "outputs": [],
   "source": [
    "from __future__ import print_function\n",
    "\n",
    "import os\n",
    "import pickle\n",
    "import os.path\n",
    "import numpy as np\n",
    "import pandas as pd\n",
    "from pathlib import Path\n",
    "\n",
    "from googleapiclient.discovery import build\n",
    "from google_auth_oauthlib.flow import InstalledAppFlow\n",
    "from google.auth.transport.requests import Request"
   ]
  },
  {
   "cell_type": "markdown",
   "source": [
    "#### Function"
   ],
   "metadata": {
    "collapsed": false,
    "pycharm": {
     "name": "#%% md\n"
    }
   }
  },
  {
   "cell_type": "code",
   "execution_count": 126,
   "outputs": [],
   "source": [
    "def get_google_sheet(spreadsheet_id, range_name, credentials):\n",
    "    \"\"\"Shows basic usage of the Sheets API.\n",
    "    Prints values from a sample spreadsheet.\n",
    "    \"\"\"\n",
    "    creds = None\n",
    "    # The file token.pickle stores the user's access and refresh tokens, and is\n",
    "    # created automatically when the authorization flow completes for the first\n",
    "    # time.\n",
    "    if os.path.exists('token.pickle'):\n",
    "        with open('token.pickle', 'rb') as token:\n",
    "            creds = pickle.load(token)\n",
    "\n",
    "    # If there are no (valid) credentials available, let the user log in.\n",
    "    if not creds or not creds.valid:\n",
    "        if creds and creds.expired and creds.refresh_token:\n",
    "            creds.refresh(Request())\n",
    "        else:\n",
    "            flow = InstalledAppFlow.from_client_secrets_file(\n",
    "                credentials, SCOPES)\n",
    "            creds = flow.run_local_server(port=0)\n",
    "\n",
    "        # Save the credentials for the next run\n",
    "        with open('token.pickle', 'wb') as token:\n",
    "            pickle.dump(creds, token)\n",
    "\n",
    "    service = build('sheets', 'v4', credentials=creds)\n",
    "\n",
    "    # Call the Sheets API\n",
    "    return service.spreadsheets().values().get(spreadsheetId=spreadsheet_id, range=range_name).execute()\n",
    "\n",
    "\n",
    "def gsheet2df(gsheet, header=0, stop=None):\n",
    "    \"\"\" Converts Google sheet data to a Pandas DataFrame.\n",
    "    Note: This script assumes that your data contains a header file on the first row!\n",
    "    Also note that the Google API returns 'none' from empty cells - in order for the code\n",
    "    below to work, you'll need to make sure your sheet doesn't contain empty cells,\n",
    "    or update the code to account for such instances.\n",
    "    \"\"\"\n",
    "    data_idx = header + 1\n",
    "    header = gsheet.get('values', [])[header]   # Assumes first line is header!\n",
    "    values = gsheet.get('values', [])[data_idx:stop]  # Everything else is data.\n",
    "    n_vals = len(values)\n",
    "\n",
    "    if not values:\n",
    "        print('No data found.')\n",
    "    else:\n",
    "        all_data = []\n",
    "        for col_id, col_name in enumerate(header):\n",
    "            column_data = []\n",
    "\n",
    "            for row in values:\n",
    "                try:\n",
    "                    s = row[col_id]\n",
    "                except IndexError as msg:\n",
    "                    s = np.nan\n",
    "                column_data.append(s)\n",
    "            ds = pd.Series(data=column_data, name=col_name)\n",
    "            all_data.append(ds)\n",
    "        df = pd.concat(all_data, axis=1)\n",
    "        return df"
   ],
   "metadata": {
    "collapsed": false,
    "pycharm": {
     "name": "#%%\n"
    }
   }
  },
  {
   "cell_type": "markdown",
   "metadata": {},
   "source": [
    "#### Define paths"
   ]
  },
  {
   "cell_type": "code",
   "execution_count": 127,
   "metadata": {},
   "outputs": [],
   "source": [
    "abspath = os.path.abspath('')\n",
    "project_dir = str(Path(abspath).parents[0])\n",
    "\n",
    "data_raw = os.path.join(project_dir, \"data\", \"raw\")\n",
    "data_processed = os.path.join(project_dir, \"data\", \"processed\")"
   ]
  },
  {
   "cell_type": "markdown",
   "metadata": {},
   "source": [
    "#### Authentification"
   ]
  },
  {
   "cell_type": "code",
   "execution_count": 128,
   "metadata": {},
   "outputs": [],
   "source": [
    "# If modifying these scopes, delete the file token.pickle.\n",
    "SCOPES = ['https://www.googleapis.com/auth/spreadsheets.readonly']\n",
    "\n",
    "# <Your spreadsheet ID>\n",
    "SPREADSHEET_ID = \"1CVdDndGD1S8ab3D1KlXYcBcnjK8sBPl68Eth0KMgaEQ\"\n",
    "\n",
    "# <Your worksheet name>\n",
    "RANGE_NAME = \"Farmer 1\"\n",
    "\n",
    "# <Your worksheet names>\n",
    "RANGE_NAMES = [\"Farmer 1\", \"Farmer 2\", \"Forester 1\", \"Forester 1\"]\n",
    "\n",
    "# API credentials\n",
    "credentials_fpath = os.path.join(project_dir, 'google_api_credentials.json')"
   ]
  },
  {
   "cell_type": "markdown",
   "metadata": {},
   "source": [
    "#### Download"
   ]
  },
  {
   "cell_type": "code",
   "execution_count": 129,
   "metadata": {
    "pycharm": {
     "name": "#%%\n"
    }
   },
   "outputs": [
    {
     "name": "stdout",
     "output_type": "stream",
     "text": [
      "Farmer 1\n",
      "Farmer 2\n",
      "Forester 1\n",
      "Forester 1\n"
     ]
    }
   ],
   "source": [
    "sheet_dict = {}\n",
    "\n",
    "for i, sheet_name in enumerate(RANGE_NAMES):\n",
    "    print(sheet_name)\n",
    "\n",
    "    # 1) fetch data\n",
    "    data_dict = get_google_sheet(\n",
    "        credentials=credentials_fpath,\n",
    "        spreadsheet_id=SPREADSHEET_ID,\n",
    "        range_name=sheet_name\n",
    "    )\n",
    "\n",
    "    # 2) convert to data frame\n",
    "    df_raw = gsheet2df(data_dict, header=0, stop=11)\n",
    "    df_raw = df_raw.set_index(\"Round\")\n",
    "\n",
    "    # 3) convert to numeric\n",
    "    df = df_raw.copy()\n",
    "    for col in df.columns:\n",
    "        df[col] = pd.to_numeric(df[col], errors=\"ignore\")\n",
    "\n",
    "    # 4) append to dict\n",
    "    sheet_dict[sheet_name] = df"
   ]
  },
  {
   "cell_type": "code",
   "execution_count": 130,
   "outputs": [],
   "source": [
    "df_all = pd.concat(sheet_dict.values(), keys=sheet_dict.keys())\n",
    "df_all.index = df_all.index.set_names([\"player\", \"round\"])\n",
    "df_all = df_all.reset_index()\n",
    "\n",
    "df_sheets = df_all.copy()\n",
    "for col in df_sheets.columns:\n",
    "    df_sheets[col] = pd.to_numeric(df_sheets[col], errors=\"ignore\")"
   ],
   "metadata": {
    "collapsed": false,
    "pycharm": {
     "name": "#%%\n"
    }
   }
  },
  {
   "cell_type": "code",
   "execution_count": 131,
   "outputs": [
    {
     "data": {
      "text/plain": "                 Plot  Native Forest  Farmland  Actions:   native forest  \\\nround player                                                               \n1     Farmer 1     A1           50.0     -50.0        NaN            NaN   \n      Farmer 2    NaN            NaN       NaN        NaN            NaN   \n      Forester 1  NaN            NaN       NaN        NaN            NaN   \n2     Farmer 1    NaN            NaN       NaN        NaN            NaN   \n      Farmer 2    NaN            NaN       NaN        NaN            NaN   \n      Forester 1  NaN            NaN       NaN        NaN            NaN   \n3     Farmer 1    NaN            NaN       NaN        NaN            NaN   \n      Farmer 2    NaN            NaN       NaN        NaN            NaN   \n      Forester 1  NaN            NaN       NaN        NaN            NaN   \n4     Farmer 1    NaN            NaN       NaN        NaN            NaN   \n      Farmer 2    NaN            NaN       NaN        NaN            NaN   \n      Forester 1  NaN            NaN       NaN        NaN            NaN   \n5     Farmer 1    NaN            NaN       NaN        NaN            NaN   \n      Farmer 2    NaN            NaN       NaN        NaN            NaN   \n      Forester 1  NaN            NaN       NaN        NaN            NaN   \n6     Farmer 1    NaN            NaN       NaN        NaN            NaN   \n      Farmer 2    NaN            NaN       NaN        NaN            NaN   \n      Forester 1  NaN            NaN       NaN        NaN            NaN   \n7     Farmer 1    NaN            NaN       NaN        NaN            NaN   \n      Farmer 2    NaN            NaN       NaN        NaN            NaN   \n      Forester 1  NaN            NaN       NaN        NaN            NaN   \n8     Farmer 1    NaN            NaN       NaN        NaN            NaN   \n      Farmer 2    NaN            NaN       NaN        NaN            NaN   \n      Forester 1  NaN            NaN       NaN        NaN            NaN   \n9     Farmer 1    NaN            NaN       NaN        NaN            NaN   \n      Farmer 2    NaN            NaN       NaN        NaN            NaN   \n      Forester 1  NaN            NaN       NaN        NaN            NaN   \n10    Farmer 1    NaN            NaN       NaN        NaN            NaN   \n      Farmer 2    NaN            NaN       NaN        NaN            NaN   \n      Forester 1  NaN            NaN       NaN        NaN            NaN   \n\n                  farmland  keep everything  commercial forest  \nround player                                                    \n1     Farmer 1         NaN              NaN                NaN  \n      Farmer 2         NaN              NaN                NaN  \n      Forester 1       NaN              NaN                NaN  \n2     Farmer 1         NaN              NaN                NaN  \n      Farmer 2         NaN              NaN                NaN  \n      Forester 1       NaN              NaN                NaN  \n3     Farmer 1         NaN              NaN                NaN  \n      Farmer 2         NaN              NaN                NaN  \n      Forester 1       NaN              NaN                NaN  \n4     Farmer 1         NaN              NaN                NaN  \n      Farmer 2         NaN              NaN                NaN  \n      Forester 1       NaN              NaN                NaN  \n5     Farmer 1         NaN              NaN                NaN  \n      Farmer 2         NaN              NaN                NaN  \n      Forester 1       NaN              NaN                NaN  \n6     Farmer 1         NaN              NaN                NaN  \n      Farmer 2         NaN              NaN                NaN  \n      Forester 1       NaN              NaN                NaN  \n7     Farmer 1         NaN              NaN                NaN  \n      Farmer 2         NaN              NaN                NaN  \n      Forester 1       NaN              NaN                NaN  \n8     Farmer 1         NaN              NaN                NaN  \n      Farmer 2         NaN              NaN                NaN  \n      Forester 1       NaN              NaN                NaN  \n9     Farmer 1         NaN              NaN                NaN  \n      Farmer 2         NaN              NaN                NaN  \n      Forester 1       NaN              NaN                NaN  \n10    Farmer 1         NaN              NaN                NaN  \n      Farmer 2         NaN              NaN                NaN  \n      Forester 1       NaN              NaN                NaN  ",
      "text/html": "<div>\n<style scoped>\n    .dataframe tbody tr th:only-of-type {\n        vertical-align: middle;\n    }\n\n    .dataframe tbody tr th {\n        vertical-align: top;\n    }\n\n    .dataframe thead th {\n        text-align: right;\n    }\n</style>\n<table border=\"1\" class=\"dataframe\">\n  <thead>\n    <tr style=\"text-align: right;\">\n      <th></th>\n      <th></th>\n      <th>Plot</th>\n      <th>Native Forest</th>\n      <th>Farmland</th>\n      <th>Actions:</th>\n      <th>native forest</th>\n      <th>farmland</th>\n      <th>keep everything</th>\n      <th>commercial forest</th>\n    </tr>\n    <tr>\n      <th>round</th>\n      <th>player</th>\n      <th></th>\n      <th></th>\n      <th></th>\n      <th></th>\n      <th></th>\n      <th></th>\n      <th></th>\n      <th></th>\n    </tr>\n  </thead>\n  <tbody>\n    <tr>\n      <th rowspan=\"3\" valign=\"top\">1</th>\n      <th>Farmer 1</th>\n      <td>A1</td>\n      <td>50.0</td>\n      <td>-50.0</td>\n      <td>NaN</td>\n      <td>NaN</td>\n      <td>NaN</td>\n      <td>NaN</td>\n      <td>NaN</td>\n    </tr>\n    <tr>\n      <th>Farmer 2</th>\n      <td>NaN</td>\n      <td>NaN</td>\n      <td>NaN</td>\n      <td>NaN</td>\n      <td>NaN</td>\n      <td>NaN</td>\n      <td>NaN</td>\n      <td>NaN</td>\n    </tr>\n    <tr>\n      <th>Forester 1</th>\n      <td>NaN</td>\n      <td>NaN</td>\n      <td>NaN</td>\n      <td>NaN</td>\n      <td>NaN</td>\n      <td>NaN</td>\n      <td>NaN</td>\n      <td>NaN</td>\n    </tr>\n    <tr>\n      <th rowspan=\"3\" valign=\"top\">2</th>\n      <th>Farmer 1</th>\n      <td>NaN</td>\n      <td>NaN</td>\n      <td>NaN</td>\n      <td>NaN</td>\n      <td>NaN</td>\n      <td>NaN</td>\n      <td>NaN</td>\n      <td>NaN</td>\n    </tr>\n    <tr>\n      <th>Farmer 2</th>\n      <td>NaN</td>\n      <td>NaN</td>\n      <td>NaN</td>\n      <td>NaN</td>\n      <td>NaN</td>\n      <td>NaN</td>\n      <td>NaN</td>\n      <td>NaN</td>\n    </tr>\n    <tr>\n      <th>Forester 1</th>\n      <td>NaN</td>\n      <td>NaN</td>\n      <td>NaN</td>\n      <td>NaN</td>\n      <td>NaN</td>\n      <td>NaN</td>\n      <td>NaN</td>\n      <td>NaN</td>\n    </tr>\n    <tr>\n      <th rowspan=\"3\" valign=\"top\">3</th>\n      <th>Farmer 1</th>\n      <td>NaN</td>\n      <td>NaN</td>\n      <td>NaN</td>\n      <td>NaN</td>\n      <td>NaN</td>\n      <td>NaN</td>\n      <td>NaN</td>\n      <td>NaN</td>\n    </tr>\n    <tr>\n      <th>Farmer 2</th>\n      <td>NaN</td>\n      <td>NaN</td>\n      <td>NaN</td>\n      <td>NaN</td>\n      <td>NaN</td>\n      <td>NaN</td>\n      <td>NaN</td>\n      <td>NaN</td>\n    </tr>\n    <tr>\n      <th>Forester 1</th>\n      <td>NaN</td>\n      <td>NaN</td>\n      <td>NaN</td>\n      <td>NaN</td>\n      <td>NaN</td>\n      <td>NaN</td>\n      <td>NaN</td>\n      <td>NaN</td>\n    </tr>\n    <tr>\n      <th rowspan=\"3\" valign=\"top\">4</th>\n      <th>Farmer 1</th>\n      <td>NaN</td>\n      <td>NaN</td>\n      <td>NaN</td>\n      <td>NaN</td>\n      <td>NaN</td>\n      <td>NaN</td>\n      <td>NaN</td>\n      <td>NaN</td>\n    </tr>\n    <tr>\n      <th>Farmer 2</th>\n      <td>NaN</td>\n      <td>NaN</td>\n      <td>NaN</td>\n      <td>NaN</td>\n      <td>NaN</td>\n      <td>NaN</td>\n      <td>NaN</td>\n      <td>NaN</td>\n    </tr>\n    <tr>\n      <th>Forester 1</th>\n      <td>NaN</td>\n      <td>NaN</td>\n      <td>NaN</td>\n      <td>NaN</td>\n      <td>NaN</td>\n      <td>NaN</td>\n      <td>NaN</td>\n      <td>NaN</td>\n    </tr>\n    <tr>\n      <th rowspan=\"3\" valign=\"top\">5</th>\n      <th>Farmer 1</th>\n      <td>NaN</td>\n      <td>NaN</td>\n      <td>NaN</td>\n      <td>NaN</td>\n      <td>NaN</td>\n      <td>NaN</td>\n      <td>NaN</td>\n      <td>NaN</td>\n    </tr>\n    <tr>\n      <th>Farmer 2</th>\n      <td>NaN</td>\n      <td>NaN</td>\n      <td>NaN</td>\n      <td>NaN</td>\n      <td>NaN</td>\n      <td>NaN</td>\n      <td>NaN</td>\n      <td>NaN</td>\n    </tr>\n    <tr>\n      <th>Forester 1</th>\n      <td>NaN</td>\n      <td>NaN</td>\n      <td>NaN</td>\n      <td>NaN</td>\n      <td>NaN</td>\n      <td>NaN</td>\n      <td>NaN</td>\n      <td>NaN</td>\n    </tr>\n    <tr>\n      <th rowspan=\"3\" valign=\"top\">6</th>\n      <th>Farmer 1</th>\n      <td>NaN</td>\n      <td>NaN</td>\n      <td>NaN</td>\n      <td>NaN</td>\n      <td>NaN</td>\n      <td>NaN</td>\n      <td>NaN</td>\n      <td>NaN</td>\n    </tr>\n    <tr>\n      <th>Farmer 2</th>\n      <td>NaN</td>\n      <td>NaN</td>\n      <td>NaN</td>\n      <td>NaN</td>\n      <td>NaN</td>\n      <td>NaN</td>\n      <td>NaN</td>\n      <td>NaN</td>\n    </tr>\n    <tr>\n      <th>Forester 1</th>\n      <td>NaN</td>\n      <td>NaN</td>\n      <td>NaN</td>\n      <td>NaN</td>\n      <td>NaN</td>\n      <td>NaN</td>\n      <td>NaN</td>\n      <td>NaN</td>\n    </tr>\n    <tr>\n      <th rowspan=\"3\" valign=\"top\">7</th>\n      <th>Farmer 1</th>\n      <td>NaN</td>\n      <td>NaN</td>\n      <td>NaN</td>\n      <td>NaN</td>\n      <td>NaN</td>\n      <td>NaN</td>\n      <td>NaN</td>\n      <td>NaN</td>\n    </tr>\n    <tr>\n      <th>Farmer 2</th>\n      <td>NaN</td>\n      <td>NaN</td>\n      <td>NaN</td>\n      <td>NaN</td>\n      <td>NaN</td>\n      <td>NaN</td>\n      <td>NaN</td>\n      <td>NaN</td>\n    </tr>\n    <tr>\n      <th>Forester 1</th>\n      <td>NaN</td>\n      <td>NaN</td>\n      <td>NaN</td>\n      <td>NaN</td>\n      <td>NaN</td>\n      <td>NaN</td>\n      <td>NaN</td>\n      <td>NaN</td>\n    </tr>\n    <tr>\n      <th rowspan=\"3\" valign=\"top\">8</th>\n      <th>Farmer 1</th>\n      <td>NaN</td>\n      <td>NaN</td>\n      <td>NaN</td>\n      <td>NaN</td>\n      <td>NaN</td>\n      <td>NaN</td>\n      <td>NaN</td>\n      <td>NaN</td>\n    </tr>\n    <tr>\n      <th>Farmer 2</th>\n      <td>NaN</td>\n      <td>NaN</td>\n      <td>NaN</td>\n      <td>NaN</td>\n      <td>NaN</td>\n      <td>NaN</td>\n      <td>NaN</td>\n      <td>NaN</td>\n    </tr>\n    <tr>\n      <th>Forester 1</th>\n      <td>NaN</td>\n      <td>NaN</td>\n      <td>NaN</td>\n      <td>NaN</td>\n      <td>NaN</td>\n      <td>NaN</td>\n      <td>NaN</td>\n      <td>NaN</td>\n    </tr>\n    <tr>\n      <th rowspan=\"3\" valign=\"top\">9</th>\n      <th>Farmer 1</th>\n      <td>NaN</td>\n      <td>NaN</td>\n      <td>NaN</td>\n      <td>NaN</td>\n      <td>NaN</td>\n      <td>NaN</td>\n      <td>NaN</td>\n      <td>NaN</td>\n    </tr>\n    <tr>\n      <th>Farmer 2</th>\n      <td>NaN</td>\n      <td>NaN</td>\n      <td>NaN</td>\n      <td>NaN</td>\n      <td>NaN</td>\n      <td>NaN</td>\n      <td>NaN</td>\n      <td>NaN</td>\n    </tr>\n    <tr>\n      <th>Forester 1</th>\n      <td>NaN</td>\n      <td>NaN</td>\n      <td>NaN</td>\n      <td>NaN</td>\n      <td>NaN</td>\n      <td>NaN</td>\n      <td>NaN</td>\n      <td>NaN</td>\n    </tr>\n    <tr>\n      <th rowspan=\"3\" valign=\"top\">10</th>\n      <th>Farmer 1</th>\n      <td>NaN</td>\n      <td>NaN</td>\n      <td>NaN</td>\n      <td>NaN</td>\n      <td>NaN</td>\n      <td>NaN</td>\n      <td>NaN</td>\n      <td>NaN</td>\n    </tr>\n    <tr>\n      <th>Farmer 2</th>\n      <td>NaN</td>\n      <td>NaN</td>\n      <td>NaN</td>\n      <td>NaN</td>\n      <td>NaN</td>\n      <td>NaN</td>\n      <td>NaN</td>\n      <td>NaN</td>\n    </tr>\n    <tr>\n      <th>Forester 1</th>\n      <td>NaN</td>\n      <td>NaN</td>\n      <td>NaN</td>\n      <td>NaN</td>\n      <td>NaN</td>\n      <td>NaN</td>\n      <td>NaN</td>\n      <td>NaN</td>\n    </tr>\n  </tbody>\n</table>\n</div>"
     },
     "execution_count": 131,
     "metadata": {},
     "output_type": "execute_result"
    }
   ],
   "source": [
    "df_final = df_sheets.set_index([\"round\", \"player\"]).sort_index()\n",
    "df_final"
   ],
   "metadata": {
    "collapsed": false,
    "pycharm": {
     "name": "#%%\n"
    }
   }
  }
 ],
 "metadata": {
  "kernelspec": {
   "name": "pycharm-ba196790",
   "language": "python",
   "display_name": "PyCharm (gecm)"
  },
  "language_info": {
   "codemirror_mode": {
    "name": "ipython",
    "version": 3
   },
   "file_extension": ".py",
   "mimetype": "text/x-python",
   "name": "python",
   "nbconvert_exporter": "python",
   "pygments_lexer": "ipython3",
   "version": "3.7.6"
  }
 },
 "nbformat": 4,
 "nbformat_minor": 4
}