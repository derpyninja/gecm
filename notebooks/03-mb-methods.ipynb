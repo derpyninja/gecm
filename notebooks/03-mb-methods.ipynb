{
 "cells": [
  {
   "cell_type": "markdown",
   "metadata": {},
   "source": [
    "# The Game \n",
    "## without interactions with the map or the google sheet"
   ]
  },
  {
   "cell_type": "markdown",
   "metadata": {},
   "source": [
    "initial conditions with (until now) random numbers:"
   ]
  },
  {
   "cell_type": "code",
<<<<<<< HEAD
   "execution_count": 1,
=======
   "execution_count": 18,
>>>>>>> 2abb0cef3100ddae1bdea01c9b7846c3df6c9834
   "metadata": {},
   "outputs": [],
   "source": [
    "\n",
    "# with how much money does everyone start\n",
    "# money_farmer = area_farm(area_farm, 0, 0)\n",
    "# money_forester = area_forest(area_conifer, area_native, 0)\n",
    "money_tourism = 1000 # random value\n",
    "\n",
    "# how much money does a pixel give you per round (pp = per pixel ) - random values until now\n",
    "# dairy_pp = 1\n",
    "# sheep_pp = 0.1\n",
    "# n_forest_pp = 0.1 # they are now mostly calculated in profit_pp(round, area_sheep_tot, area_dairy_tot, area_n_forest_tot, area_c_forest_tot)\n",
    "# c_forest_pp = 0.4\n",
    "tourism = 1.5 # \n",
    "\n",
    "# how much agricultural product is consumed (in terms of area)\n",
    "farming_area_max = 8 # easiest way to address to much production and effect of land degradation (but unrealistic) - for a quick game of a certain amounts of rounds maybe good enough, if the number is not known\n",
    "c_forest_max = 10\n",
    "# how much money does a land use change cost you (c:commercial forest, n: native forest, s:sheep, d: dairy)\n",
    "c_to_n = 0.2 # subsidies? and maybe just by waiting?\n",
    "n_to_c = 0.5\n",
    "s_to_d = 2\n",
    "s_to_n = 1\n",
    "d_to_n = 1\n",
    "d_to_s = 0.5\n",
    "n_to_s = -0.1   # assuming farmers can convert native forest to farmland but commercial forest (sell wood)\n",
    "n_to_d = 0.5"
   ]
  },
  {
   "cell_type": "markdown",
   "metadata": {},
   "source": [
    " Import decisions from excel file.\n",
    " \n",
    "For farmers: \n",
    " - change of native forest (no profit until teamwork with foresters), \n",
    " - change in dairy-farming, \n",
    " - change in sheep-farming (at the beginning just sheepfarming))\n",
    "**Farmers** don't profit from the forest on their land, except if they find a forester to work with.\n",
    " this would need adaptions on the excel sheet. This would also lead to unused land in the beginning.\n",
    " I introduced a variable called **teamwork**. If a farmer and a forester choose that (on their excel sheet), they work each others land. The way I implemented it at the moment get the profit from all the land and in return work the land of their partner (i.e. send a few sheep to the forester.)\n",
    "the farmer can't create or change commercial forestry he also can't cut it down.\n",
    " \n",
    " \n",
    "**Foresters** change landuse from commercial forest to native forest and back. (They also don't use the farmland on their plots until they do teamwork and it will always remain sheep-farming)\n",
    "\n",
    "There should also be one choosen field for **Tourism** This could influence the earning potential for each type of landuse for this field or also other fields"
   ]
  },
  {
   "cell_type": "markdown",
   "metadata": {},
   "source": [
    "The map is divided into 16 plots with each player owning four plots):\n",
    "- each plot is assigned to a player\n",
    "- For each plot the changes should be imported into the structure below (or you can also change it) according to the excel sheets. \n",
    "- For each player and plot the number of pixel of the different land-uses should be imported and displayed in the map."
   ]
  },
  {
   "cell_type": "code",
<<<<<<< HEAD
   "execution_count": 2,
=======
   "execution_count": 24,
>>>>>>> 2abb0cef3100ddae1bdea01c9b7846c3df6c9834
   "metadata": {},
   "outputs": [],
   "source": [
    "class Plot:\n",
    "  def __init__(self, tourism, teamwork, area_sheep, area_dairy, area_n_forest, area_c_forest ):\n",
    "    self.age = tourism\n",
    "    self.teamwork = teamwork\n",
    "    self.area_sheep = area_sheep\n",
    "    self.area_n_forest = area_n_forest\n",
    "    self.area_c_forest = area_c_forest\n",
    "    "
   ]
  },
  {
   "cell_type": "markdown",
   "metadata": {},
   "source": [
    "I decided the plots could be defined through their position in a list with y, x element of {0,1,2,3} for the south-to-north and west-to-east direction of the map."
   ]
  },
  {
   "cell_type": "markdown",
   "metadata": {},
   "source": [
    "Here I read in a random example for a structure so that I could try out my functions. All the plot-information is saved in a cascade of lists: \n",
    "\n",
    "[round=0[x=0[y=0],[y=1], [y=2], [y=3]], [...], [...], [...]], round=1[...]]"
   ]
  },
  {
   "cell_type": "code",
<<<<<<< HEAD
   "execution_count": 3,
=======
   "execution_count": 22,
>>>>>>> 2abb0cef3100ddae1bdea01c9b7846c3df6c9834
   "metadata": {},
   "outputs": [],
   "source": [
    "# to try out the functions I currently worked with that\n",
    "# information from one patch \n",
    "# teamwork\n",
    "teamwork = True #is true if at least one farmer and one forester says its true. It lets the farmer slightly pressure the foresters behavior regarding tourism, but the tourism as it is now doesn't have a big effect? \n",
    "tourism = True # maybe that could be per default false and just be changed to true if so, but here its set as true to test everything. \n",
    "# To test: 14 pixel allocated - here total area ( ownership) (assuming 32 pixel in one plot) \n",
    "area_sheep = [2, 1, 1, 0] # change of the area of sheep of one plot in 3 rounds\n",
    "area_dairy = [0, 1, 1, 2]\n",
    "area_n_forest = [0, 0, 1, 1]\n",
    "area_c_forest = [2, 2, 1, 1]\n",
    "\n",
    "# information from the whole map\n",
    "# assumed total areas \n",
    "area_sheep_tot = [18, 14, 10, 8] # change of the total area\n",
    "area_dairy_tot = [0, 4, 6, 10]\n",
    "area_n_forest_tot = [0, 4, 6, 6]\n",
    "area_c_forest_tot = [14, 10, 10, 8]"
   ]
  },
  {
   "cell_type": "code",
<<<<<<< HEAD
   "execution_count": 4,
=======
   "execution_count": 27,
>>>>>>> 2abb0cef3100ddae1bdea01c9b7846c3df6c9834
   "metadata": {},
   "outputs": [],
   "source": [
    "# but I thought maybe it would take you less time \n",
    "# if I structure it for you from my part like a \"programming exercise\" from eth so that we have some kind of guildance \n",
    "rounds = 10\n",
    "map = []\n",
    "for r in range(rounds):\n",
    "    # import initial map\n",
    "    for x in range(4):\n",
    "        we = []\n",
    "        for y in range (4):\n",
    "            # TODO: import plot at location (x,y), and set the variables\n",
    "            sn = []\n",
    "            sn.append(Plot(tourism, teamwork, area_sheep[y], area_dairy[y], area_n_forest[y], area_c_forest[y]))\n",
    "        we.append(sn)\n",
    "    map.append(we)\n",
    "    "
   ]
  },
  {
   "cell_type": "markdown",
   "metadata": {},
   "source": [
    "I decided further that maybe the upper left looks like there would be slightly more forest than average and that it would be best if foresters and farmers would be diagonal, therefore after initially setting the teamwork as imported from the excel sheet I hope something like this could work to say if they have somebody to work with:"
   ]
  },
  {
   "cell_type": "code",
<<<<<<< HEAD
   "execution_count": 5,
=======
   "execution_count": 28,
>>>>>>> 2abb0cef3100ddae1bdea01c9b7846c3df6c9834
   "metadata": {},
   "outputs": [],
   "source": [
    "def profit_pp(round, area_sheep_tot, area_dairy_tot, area_n_forest_tot, area_c_forest_tot, dairy_pp = [1], sheep_pp = [0.1], n_forest_pp = [0.1], c_forest_pp = [0.4]):      \n",
    "    #doesn't take tourism effects into account yet. and the equations are pretty random.\n",
    "    dairy_pp.append(area_sheep_tot[0] / (1 + area_dairy_tot[round]*4 + area_sheep_tot[round])*dairy_pp[0]) # a certain demand - + 1 so that its never going to infinity should all land become forest\n",
    "    sheep_pp.append(sheep_pp[0]) # assume sheep can go everywhere, eat everything and no degradation and its profit only influences dairy by competition\n",
    "    c_forest_pp.append((area_c_forest_tot[0] + area_n_forest_tot[0])/(1 + area_c_forest_tot[round] * 3 + area_n_forest_tot[round]) * c_forest_pp[0])\n",
    "    n_forest_pp.append(n_forest_pp[0]) # assumes native forest can grow everywhere and its profit only influences the commercial forest through competition in the timber market\n",
    "    return dairy_pp, sheep_pp, n_forest_pp, c_forest_pp\n"
   ]
  },
  {
   "cell_type": "code",
<<<<<<< HEAD
   "execution_count": 6,
=======
   "execution_count": 14,
>>>>>>> 2abb0cef3100ddae1bdea01c9b7846c3df6c9834
   "metadata": {},
   "outputs": [],
   "source": [
    "dairy_pp, sheep_pp, n_forest_pp, c_forest_pp = profit_pp(0, area_sheep_tot, area_dairy_tot, area_n_forest_tot, area_c_forest_tot)"
   ]
  },
  {
   "cell_type": "code",
   "execution_count": 15,
   "metadata": {},
   "outputs": [
    {
     "data": {
      "text/plain": [
       "[0.4, 0.1302325581395349]"
      ]
     },
     "execution_count": 15,
     "metadata": {},
     "output_type": "execute_result"
    }
   ],
   "source": [
    "c_forest_pp"
   ]
  },
  {
   "cell_type": "code",
   "execution_count": 16,
   "metadata": {},
   "outputs": [
    {
     "data": {
      "text/plain": [
       "[1, 0.9473684210526315]"
      ]
     },
     "execution_count": 16,
     "metadata": {},
     "output_type": "execute_result"
    }
   ],
   "source": [
    "dairy_pp"
   ]
  },
  {
   "cell_type": "code",
<<<<<<< HEAD
   "execution_count": 7,
=======
   "execution_count": 17,
   "metadata": {},
   "outputs": [
    {
     "data": {
      "text/plain": [
       "[0.1, 0.1]"
      ]
     },
     "execution_count": 17,
     "metadata": {},
     "output_type": "execute_result"
    }
   ],
   "source": [
    "sheep_pp"
   ]
  },
  {
   "cell_type": "code",
   "execution_count": 33,
>>>>>>> 2abb0cef3100ddae1bdea01c9b7846c3df6c9834
   "metadata": {},
   "outputs": [],
   "source": [
    "# calculates the moey comming from a plot if the plot belongs to a farmer, doesn't take tourism into accound yet.equations are randomly defined\n",
    "def money_pp_farmer(round, teamwork, area_sheep, area_dairy, area_c_forest, area_n_forest, sheep_pp, dairy_pp, n_forest_pp, c_forest_pp, n_to_s, n_to_d, s_to_d, s_to_n, d_to_s, d_to_n):\n",
    "    if round == 0: \n",
    "        money = area_sheep[0] * sheep_pp[0] \n",
    "    else:   \n",
    "         # costs of landscape change - could be probably made better but I thought that way is easier\n",
    "        d_sheep = area_sheep[round] - area_sheep[round-1]\n",
    "        d_dairy = area_dairy[round] - area_dairy[round-1]\n",
    "        d_n_forest = area_n_forest[round] - area_n_forest[round-1] # necessary to potentially allow two changes (i.e. a rise or native forests and dairy on cost of sheep )\n",
    "        m_change = 0\n",
    "        if d_n_forest < 0: \n",
    "            m_change += min([d_dairy, d_n_forest], key= abs)*n_to_d\n",
    "            m_change += min([d_sheep, d_n_forest], key= abs)*n_to_s\n",
    "        if d_sheep < 0:\n",
    "            m_change += min([d_dairy, d_sheep], key= abs)*s_to_d\n",
    "            m_change += min([d_sheep, d_n_forest], key= abs)*s_to_n \n",
    "        if d_dairy < 0:\n",
    "            m_change += min([d_dairy, d_sheep], key= abs)*d_to_s\n",
    "            m_change += min([d_dairy, d_n_forest], key= abs)*d_to_n \n",
    "        # money from the area\n",
    "        m_area = (area_sheep[round] * sheep_pp[round]) + (area_dairy[round] * dairy_pp[round])\n",
    "        if teamwork == True:\n",
    "            m_area += (area_n_forest[round]*n_forest_pp[round] + area_c_forest[round]*c_forest_pp[round])\n",
    "        if tourism == True: # sheep give 5 times as much, dairy gives nothing, commerical forest makes\n",
    "            m_area += area_sheep[round]**2/area_n_forest[round]*sheep_pp[round] \n",
    "        money = m_area + m_change\n",
    "    \n",
    "    return money"
   ]
  },
  {
   "cell_type": "code",
<<<<<<< HEAD
   "execution_count": 8,
=======
   "execution_count": 34,
   "metadata": {},
   "outputs": [
    {
     "ename": "ZeroDivisionError",
     "evalue": "division by zero",
     "output_type": "error",
     "traceback": [
      "\u001b[0;31m---------------------------------------------------------------------------\u001b[0m",
      "\u001b[0;31mZeroDivisionError\u001b[0m                         Traceback (most recent call last)",
      "\u001b[0;32m<ipython-input-34-cbc9c2cffc84>\u001b[0m in \u001b[0;36m<module>\u001b[0;34m\u001b[0m\n\u001b[0;32m----> 1\u001b[0;31m \u001b[0mmoney_farm_plot\u001b[0m \u001b[0;34m=\u001b[0m \u001b[0mmoney_pp_farmer\u001b[0m\u001b[0;34m(\u001b[0m\u001b[0;36m1\u001b[0m\u001b[0;34m,\u001b[0m \u001b[0mteamwork\u001b[0m\u001b[0;34m,\u001b[0m \u001b[0marea_sheep\u001b[0m\u001b[0;34m,\u001b[0m \u001b[0marea_dairy\u001b[0m\u001b[0;34m,\u001b[0m \u001b[0marea_c_forest\u001b[0m\u001b[0;34m,\u001b[0m \u001b[0marea_n_forest\u001b[0m\u001b[0;34m,\u001b[0m \u001b[0msheep_pp\u001b[0m\u001b[0;34m,\u001b[0m \u001b[0mdairy_pp\u001b[0m\u001b[0;34m,\u001b[0m \u001b[0mn_forest_pp\u001b[0m\u001b[0;34m,\u001b[0m \u001b[0mc_forest_pp\u001b[0m\u001b[0;34m,\u001b[0m \u001b[0mn_to_s\u001b[0m\u001b[0;34m,\u001b[0m \u001b[0mn_to_d\u001b[0m\u001b[0;34m,\u001b[0m \u001b[0ms_to_d\u001b[0m\u001b[0;34m,\u001b[0m \u001b[0ms_to_n\u001b[0m\u001b[0;34m,\u001b[0m \u001b[0md_to_s\u001b[0m\u001b[0;34m,\u001b[0m \u001b[0md_to_n\u001b[0m\u001b[0;34m)\u001b[0m\u001b[0;34m\u001b[0m\u001b[0;34m\u001b[0m\u001b[0m\n\u001b[0m",
      "\u001b[0;32m<ipython-input-33-80d13b227283>\u001b[0m in \u001b[0;36mmoney_pp_farmer\u001b[0;34m(round, teamwork, area_sheep, area_dairy, area_c_forest, area_n_forest, sheep_pp, dairy_pp, n_forest_pp, c_forest_pp, n_to_s, n_to_d, s_to_d, s_to_n, d_to_s, d_to_n)\u001b[0m\n\u001b[1;32m     23\u001b[0m             \u001b[0mm_area\u001b[0m \u001b[0;34m+=\u001b[0m \u001b[0;34m(\u001b[0m\u001b[0marea_n_forest\u001b[0m\u001b[0;34m[\u001b[0m\u001b[0mround\u001b[0m\u001b[0;34m]\u001b[0m\u001b[0;34m*\u001b[0m\u001b[0mn_forest_pp\u001b[0m\u001b[0;34m[\u001b[0m\u001b[0mround\u001b[0m\u001b[0;34m]\u001b[0m \u001b[0;34m+\u001b[0m \u001b[0marea_c_forest\u001b[0m\u001b[0;34m[\u001b[0m\u001b[0mround\u001b[0m\u001b[0;34m]\u001b[0m\u001b[0;34m*\u001b[0m\u001b[0mc_forest_pp\u001b[0m\u001b[0;34m[\u001b[0m\u001b[0mround\u001b[0m\u001b[0;34m]\u001b[0m\u001b[0;34m)\u001b[0m\u001b[0;34m\u001b[0m\u001b[0;34m\u001b[0m\u001b[0m\n\u001b[1;32m     24\u001b[0m         \u001b[0;32mif\u001b[0m \u001b[0mtourism\u001b[0m \u001b[0;34m==\u001b[0m \u001b[0;32mTrue\u001b[0m\u001b[0;34m:\u001b[0m \u001b[0;31m# sheep give 5 times as much, dairy gives nothing, commerical forest makes\u001b[0m\u001b[0;34m\u001b[0m\u001b[0;34m\u001b[0m\u001b[0m\n\u001b[0;32m---> 25\u001b[0;31m             \u001b[0mm_area\u001b[0m \u001b[0;34m+=\u001b[0m \u001b[0marea_sheep\u001b[0m\u001b[0;34m[\u001b[0m\u001b[0mround\u001b[0m\u001b[0;34m]\u001b[0m\u001b[0;34m**\u001b[0m\u001b[0;36m2\u001b[0m\u001b[0;34m/\u001b[0m\u001b[0marea_n_forest\u001b[0m\u001b[0;34m[\u001b[0m\u001b[0mround\u001b[0m\u001b[0;34m]\u001b[0m\u001b[0;34m*\u001b[0m\u001b[0msheep_pp\u001b[0m\u001b[0;34m[\u001b[0m\u001b[0mround\u001b[0m\u001b[0;34m]\u001b[0m\u001b[0;34m\u001b[0m\u001b[0;34m\u001b[0m\u001b[0m\n\u001b[0m\u001b[1;32m     26\u001b[0m         \u001b[0mmoney\u001b[0m \u001b[0;34m=\u001b[0m \u001b[0mm_area\u001b[0m \u001b[0;34m+\u001b[0m \u001b[0mm_change\u001b[0m\u001b[0;34m\u001b[0m\u001b[0;34m\u001b[0m\u001b[0m\n\u001b[1;32m     27\u001b[0m \u001b[0;34m\u001b[0m\u001b[0m\n",
      "\u001b[0;31mZeroDivisionError\u001b[0m: division by zero"
     ]
    }
   ],
   "source": [
    "money_farm_plot = money_pp_farmer(1, teamwork, area_sheep, area_dairy, area_c_forest, area_n_forest, sheep_pp, dairy_pp, n_forest_pp, c_forest_pp, n_to_s, n_to_d, s_to_d, s_to_n, d_to_s, d_to_n)\n"
   ]
  },
  {
   "cell_type": "code",
   "execution_count": 35,
   "metadata": {},
   "outputs": [
    {
     "ename": "NameError",
     "evalue": "name 'money_farm_plot' is not defined",
     "output_type": "error",
     "traceback": [
      "\u001b[0;31m---------------------------------------------------------------------------\u001b[0m",
      "\u001b[0;31mNameError\u001b[0m                                 Traceback (most recent call last)",
      "\u001b[0;32m<ipython-input-35-0c8ab3c3e02f>\u001b[0m in \u001b[0;36m<module>\u001b[0;34m\u001b[0m\n\u001b[0;32m----> 1\u001b[0;31m \u001b[0mmoney_farm_plot\u001b[0m\u001b[0;34m\u001b[0m\u001b[0;34m\u001b[0m\u001b[0m\n\u001b[0m",
      "\u001b[0;31mNameError\u001b[0m: name 'money_farm_plot' is not defined"
     ]
    }
   ],
   "source": [
    "money_farm_plot"
   ]
  },
  {
   "cell_type": "code",
   "execution_count": 12,
>>>>>>> 2abb0cef3100ddae1bdea01c9b7846c3df6c9834
   "metadata": {},
   "outputs": [],
   "source": [
    "# calculates the moey comming from a plot if the plot belongs to a farmer. isn't done yet. should be similar to the farmer. \n",
    "\n",
    "# '''\n",
    "#     area_c_forest: number of pixel displaying commercial forest\n",
    "#     area_n_forest: number of pixel displaying native forest\n",
    "#     round: round of the game (starting at 0)\n",
    "# '''\n",
    "def money_forester(area_n_forest, area_c_forest, round):\n",
    "    if round == 0: \n",
    "        money = area_c_forest[0] * c_forest_pp + area_n_forest[round] * n_forest_pp\n",
    "    d_c_forest = area_c_forest[round]-area_c_forest[round-1]\n",
    "    # more commercial forests\n",
    "    if d_c_forest > 0:\n",
    "        # address degradation/overproduction/... with one (over-)simplified threshold\n",
    "        if area_c_forest[round] < c_forest_max:\n",
    "            money = area_c_forest[round] * c_forest_pp + area_n_forest[round] * n_forest_pp - d_c_forest * n_to_c\n",
    "        else:\n",
    "            money = c_forest_max * c_forest_pp + area_n_forest[round] * n_forest_pp - d_c_forest * n_to_c\n",
    "    # more native forests\n",
    "    else:\n",
    "        if area_c_forest[round] < c_forest_max:\n",
    "            money = area_c_forest[round] * c_forest_pp + area_n_forest[round] * n_forest_pp + d_c_forest * c_to_n\n",
    "        else:\n",
    "            money = c_forest_max * c_forest_pp + area_n_forest[round] * n_forest_pp + d_c_forest * c_to_n\n",
    "    return money\n",
    "    # there could be a way to let foresters profit from working together with the tourism industry?\n",
    "    # i.e. make c_forest_max higher? and or increase prices (n_forest_pp and c_forest_pp)\n",
    "    # tripple-down effects? maybe less than for agriculture?"
   ]
  },
  {
   "cell_type": "code",
   "execution_count": 9,
   "metadata": {},
   "outputs": [],
   "source": [
    "money_forester_3 = money_forester(area_n_forest, area_c_forest, 2)"
   ]
  },
  {
   "cell_type": "code",
   "execution_count": 10,
   "metadata": {},
   "outputs": [
    {
     "data": {
      "text/plain": "2.6"
     },
     "execution_count": 10,
     "metadata": {},
     "output_type": "execute_result"
    }
   ],
   "source": [
    "money_forester_3"
   ]
  },
  {
   "cell_type": "code",
   "execution_count": 11,
   "metadata": {},
   "outputs": [],
   "source": [
    "money_farmer_2 = money_farmer(area_farm, area_n_forest, 2)"
   ]
  },
  {
   "cell_type": "code",
   "execution_count": 12,
   "metadata": {},
   "outputs": [
    {
     "data": {
      "text/plain": "1.4"
     },
     "execution_count": 12,
     "metadata": {},
     "output_type": "execute_result"
    }
   ],
   "source": [
    "money_farmer_2"
   ]
  },
  {
   "cell_type": "code",
   "execution_count": 13,
   "metadata": {},
   "outputs": [],
   "source": [
    "\n",
    "# '''\n",
    "#     area_n_forest: amount of pixel with native forest in the assigned plot\n",
    "#     area_farm: amount of pixel with farmland in the assigned plot\n",
    "#     number_tourists: the number of tourists attracted due to \n",
    "# '''\n",
    "def tourists_SSDA(area_n_forest, area_farm, round):\n",
    "    number_tourists = (area_n_forest[round])**2 + 1/2*(area_farm[round])**2 # just randomly defined...\n",
    "    return number_tourists"
   ]
  },
  {
   "cell_type": "code",
   "execution_count": 14,
   "metadata": {},
   "outputs": [
    {
     "data": {
      "text/plain": "44.0"
     },
     "execution_count": 14,
     "metadata": {},
     "output_type": "execute_result"
    }
   ],
   "source": [
    "tourists_SSDA(area_n_forest, area_farm, 3)"
   ]
  },
  {
   "cell_type": "code",
   "execution_count": 14,
   "metadata": {},
   "outputs": [],
   "source": []
  },
  {
   "cell_type": "code",
   "execution_count": 14,
   "metadata": {},
   "outputs": [],
   "source": []
  }
 ],
 "metadata": {
  "kernelspec": {
   "name": "pycharm-ba196790",
   "language": "python",
   "display_name": "PyCharm (gecm)"
  },
  "language_info": {
   "codemirror_mode": {
    "name": "ipython",
    "version": 3
   },
   "file_extension": ".py",
   "mimetype": "text/x-python",
   "name": "python",
   "nbconvert_exporter": "python",
   "pygments_lexer": "ipython3",
   "version": "3.7.3"
  }
 },
 "nbformat": 4,
 "nbformat_minor": 2
}