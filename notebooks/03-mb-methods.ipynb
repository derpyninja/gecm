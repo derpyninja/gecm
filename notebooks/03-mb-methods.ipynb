{
 "cells": [
  {
   "cell_type": "code",
   "execution_count": 1,
   "metadata": {},
   "outputs": [],
   "source": [
    "# initial conditions with random numbers\n",
    "\n",
    "# with how much money does everyone start\n",
    "# money_farmer = area_farm(area_farm, 0, 0)\n",
    "# money_forester = area_forest(area_conifer, area_native, 0)\n",
    "money_tourism = 1000 # random value\n",
    "\n",
    "# how much money does a pixel give you per round (pp = per pixel ) - random values until now\n",
    "farming_pp = 1\n",
    "n_forest_pp = 0.1\n",
    "c_forest_pp = 0.4\n",
    "tourism = 1.5 # \n",
    "\n",
    "# how much agricultural product is consumed (in terms of area)\n",
    "farming_area_max = 8 # easiest way to address to much production and effect of land degradation (but unrealistic) - for a quick game of a certain amounts of rounds maybe good enough, if the number is not known\n",
    "c_forest_max = 10\n",
    "# how much money does a land use change cost you\n",
    "forest_to_farm = 1 # can include costs of labour and the return from the clear fell\n",
    "farm_to_forest = 2 # can include the costs of labour and the subsidies from the government.\n",
    "c_to_n = 0.2 # subsidies? and maybe just by waiting?\n",
    "n_to_c = 0.5\n",
    "\n",
    "\n",
    "# there must be some sort of allocating ownership - native forests could belong to either farmers or foresters. \n",
    "# to change ownership would also increase the complexity of the game and make it more interesting\n",
    "# not sure how much more work it would be since we have to keep track of it somehow and if only by comparing it to the initial landuse\n",
    "\n",
    "# further ideas to make the game interesting should it be boring:\n",
    "# degregation: could introduce less profitable farmland --> would need a further column (per pixel of the map)\n",
    "# add ownership change --> add an ownership column (per pixel of the map)"
   ]
  },
  {
   "cell_type": "code",
   "execution_count": 2,
   "metadata": {},
   "outputs": [],
   "source": [
    "# import decisions from excel file\n"
   ]
  },
  {
   "cell_type": "code",
   "execution_count": 3,
   "metadata": {},
   "outputs": [],
   "source": [
    "# adapt table (change the landuse of a certain plot)\n"
   ]
  },
  {
   "cell_type": "code",
   "execution_count": 4,
   "metadata": {},
   "outputs": [],
   "source": [
    "# a way to address a plot of pixel and to adapt the list below of areas of farmland"
   ]
  },
  {
   "cell_type": "code",
   "execution_count": 5,
   "metadata": {},
   "outputs": [],
   "source": [
    "# a way to get the information of number of pixel of a certain landuse from a certain plot (or the whole map)\n",
    "# belonging to farmer or forester, \n",
    "# ownership can be determined by either the initial situation or by especially keeping track of it "
   ]
  },
  {
   "cell_type": "code",
   "execution_count": 6,
   "metadata": {},
   "outputs": [],
   "source": [
    "# To test: 14 pixel allocated - here total area ( ownership)\n",
    "area_farm = [1,2,3,4,5]\n",
    "area_n_forest = [0, 2, 4, 6, 8]\n",
    "area_c_forest = [13, 10, 7, 4, 1]"
   ]
  },
  {
   "cell_type": "code",
   "execution_count": 7,
   "metadata": {},
   "outputs": [],
   "source": [
    "# the imput areas must belong to farmer\n",
    "def money_farmer(area_farm, area_n_forest, round):\n",
    "    if round == 0: \n",
    "        money = area_farm[round]\n",
    "    \n",
    "    d_farm = area_farm[round]-area_farm[round-1]\n",
    "    # area_farm increased\n",
    "    if d_farm > 0:\n",
    "        # address degradation/overproduction/... with one (over-)simplified threshold\n",
    "        if area_farm[round] < farming_area_max:\n",
    "            money = area_farm[round] * farming_pp + area_n_forest[round] * n_forest_pp - d_farm * farm_to_forest\n",
    "        else:\n",
    "            money = farming_area_max * farming_pp + area_n_forest[round] * n_forest_pp - d_farm * farm_to_forest \n",
    "    # area_farm decreased\n",
    "    else:\n",
    "        if area_farm[round] < farming_area_max:\n",
    "            money = area_farm[round] * farming_pp + area_n_forest[round] * n_forest_pp + d_farm * forest_to_farm\n",
    "        else:\n",
    "            money = farming_area_max * farming_pp + area_n_forest[round] * n_forest_pp + d_farm * forest_to_farm \n",
    "    # there could be a certain bonus for owning much forests (due to lessened inheritance tax) and from tourists\n",
    "    # i.e. make farming_area_max higher and or increase prices\n",
    "\n",
    "    return money"
   ]
  },
  {
   "cell_type": "code",
   "execution_count": 8,
   "metadata": {},
   "outputs": [],
   "source": [
    "# '''\n",
    "#     area_c_forest: number of pixel displaying commercial forest\n",
    "#     area_n_forest: number of pixel displaying native forest\n",
    "#     round: round of the game (starting at 0)\n",
    "# '''\n",
    "def money_forester(area_n_forest, area_c_forest, round):\n",
    "    if round == 0: \n",
    "        money = area_c_forest[round] * c_forest_pp + area_n_forest[round] * n_forest_pp\n",
    "    d_c_forest = area_c_forest[round]-area_c_forest[round-1]\n",
    "    # more commercial forests\n",
    "    if d_c_forest > 0:\n",
    "        # address degradation/overproduction/... with one (over-)simplified threshold\n",
    "        if area_c_forest[round] < c_forest_max:\n",
    "            money = area_c_forest[round] * c_forest_pp + area_n_forest[round] * n_forest_pp - d_c_forest * n_to_c\n",
    "        else:\n",
    "            money = c_forest_max * c_forest_pp + area_n_forest[round] * n_forest_pp - d_c_forest * n_to_c\n",
    "    # more native forests\n",
    "    else:\n",
    "        if area_c_forest[round] < c_forest_max:\n",
    "            money = area_c_forest[round] * c_forest_pp + area_n_forest[round] * n_forest_pp + d_c_forest * c_to_n\n",
    "        else:\n",
    "            money = c_forest_max * c_forest_pp + area_n_forest[round] * n_forest_pp + d_c_forest * c_to_n\n",
    "    return money\n",
    "    # there could be a way to let foresters profit from working together with the tourism industry?\n",
    "    # i.e. make c_forest_max higher? and or increase prices (n_forest_pp and c_forest_pp)\n",
    "    # tripple-down effects? maybe less than for agriculture?"
   ]
  },
  {
   "cell_type": "code",
   "execution_count": 9,
   "metadata": {},
   "outputs": [],
   "source": [
    "money_forester_3 = money_forester(area_n_forest, area_c_forest, 2)"
   ]
  },
  {
   "cell_type": "code",
   "execution_count": 10,
   "metadata": {},
   "outputs": [
    {
     "data": {
      "text/plain": "2.6"
     },
     "execution_count": 10,
     "metadata": {},
     "output_type": "execute_result"
    }
   ],
   "source": [
    "money_forester_3"
   ]
  },
  {
   "cell_type": "code",
   "execution_count": 11,
   "metadata": {},
   "outputs": [],
   "source": [
    "money_farmer_2 = money_farmer(area_farm, area_n_forest, 2)"
   ]
  },
  {
   "cell_type": "code",
   "execution_count": 12,
   "metadata": {},
   "outputs": [
    {
     "data": {
      "text/plain": "1.4"
     },
     "execution_count": 12,
     "metadata": {},
     "output_type": "execute_result"
    }
   ],
   "source": [
    "money_farmer_2"
   ]
  },
  {
   "cell_type": "code",
   "execution_count": 13,
   "metadata": {},
   "outputs": [],
   "source": [
    "# '''\n",
    "#     area_n_forest: amount of pixel with native forest in the assigned plot\n",
    "#     area_farm: amount of pixel with farmland in the assigned plot\n",
    "#     number_tourists: the number of tourists attracted due to \n",
    "# '''\n",
    "def tourists_SSDA(area_n_forest, area_farm, round):\n",
    "    number_tourists = (area_n_forest[round])**2 + 1/2*(area_farm[round])**2 # just randomly defined...\n",
    "    return number_tourists"
   ]
  },
  {
   "cell_type": "code",
   "execution_count": 14,
   "metadata": {},
   "outputs": [
    {
     "data": {
      "text/plain": "44.0"
     },
     "execution_count": 14,
     "metadata": {},
     "output_type": "execute_result"
    }
   ],
   "source": [
    "tourists_SSDA(area_n_forest, area_farm, 3)"
   ]
  },
  {
   "cell_type": "code",
   "execution_count": 14,
   "metadata": {},
   "outputs": [],
   "source": []
  },
  {
   "cell_type": "code",
   "execution_count": 14,
   "metadata": {},
   "outputs": [],
   "source": []
  }
 ],
 "metadata": {
  "kernelspec": {
   "name": "pycharm-ba196790",
   "language": "python",
   "display_name": "PyCharm (gecm)"
  },
  "language_info": {
   "codemirror_mode": {
    "name": "ipython",
    "version": 3
   },
   "file_extension": ".py",
   "mimetype": "text/x-python",
   "name": "python",
   "nbconvert_exporter": "python",
   "pygments_lexer": "ipython3",
   "version": "3.7.3"
  }
 },
 "nbformat": 4,
 "nbformat_minor": 2
}