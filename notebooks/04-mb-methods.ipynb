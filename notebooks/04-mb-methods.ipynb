{
 "cells": [
  {
   "cell_type": "markdown",
   "metadata": {},
   "source": [
    "# The Game \n",
    "## without interactions with the map or the google sheet"
   ]
  },
  {
   "cell_type": "markdown",
   "metadata": {},
   "source": [
    "initial conditions with (until now) random numbers:"
   ]
  },
  {
   "cell_type": "code",
   "execution_count": 1,
   "metadata": {},
   "outputs": [],
   "source": [
    "import numpy as np\n",
    "import math"
   ]
  },
  {
   "cell_type": "code",
   "execution_count": 2,
   "metadata": {},
   "outputs": [],
   "source": [
    "# create dummy matrix\n",
    "n_plots = 4\n",
    "rows = cols = 80\n",
    "\n",
    "plot_length = int(rows/n_plots)\n",
    "dummy_plot = np.ones(plot_length**2).reshape((plot_length, plot_length))\n",
    "A1 = dummy_plot\n",
    "A2 = dummy_plot * 2\n",
    "B1 = dummy_plot * 3\n",
    "B2 = dummy_plot * 4\n",
    "large_matrix = np.block([[A1, A2], [B1, B2]])\n",
    "large_dummy_matrix = np.ones_like(large_matrix)\n",
    "n = plot_length\n",
    "coef_matrix = np.array([[1, 2], [3, 4]])\n",
    "result = np.multiply(large_dummy_matrix, np.kron(coef_matrix, np.ones((n,n))))\n",
    "matrix_indizes = np.indices((n_plots, n_plots), dtype=\"uint8\") + 1\n",
    "row_indizes, column_indizes = matrix_indizes[0], matrix_indizes[1]\n",
    "plot_definition_matrix = np.char.add(row_indizes.astype(np.str), column_indizes.astype(np.str)).astype(np.uint8)\n",
    "dummy_playing_field_matrix = np.ones(shape=(rows, cols), dtype=np.uint8)\n",
    "large_plot_definition_matrix = np.multiply(\n",
    "    dummy_playing_field_matrix,\n",
    "    np.kron(plot_definition_matrix, np.ones(shape=(plot_length, plot_length)))\n",
    ")"
   ]
  },
  {
   "cell_type": "code",
   "execution_count": 3,
   "metadata": {},
   "outputs": [],
   "source": [
    "# what I used from your matrix-dummies-notebook:\n",
    "lulc_matrix = dummy_playing_field_matrix             # 80 x 80\n",
    "cooperation_matrix = dummy_playing_field_matrix      # 80 x 80\n",
    "plot_definition_matrix                               # 4 x 4\n",
    "tourism_matrix = plot_definition_matrix              # 4 x 4\n",
    "n_blocks = 4\n",
    "n_pixel = 20\n",
    "\n",
    "# other assumtions:\n",
    "rounds = 10   # number of rounds\n",
    "teams = 3    # in round 3 - first 3 rounds to grasp whats happening\n",
    "brexit = 6    # in round 6 - "
   ]
  },
  {
   "cell_type": "markdown",
   "metadata": {},
   "source": [
    "I thought with these dictionaries the change from dummy matrix to the real data should be easy. "
   ]
  },
  {
   "cell_type": "code",
   "execution_count": 4,
   "metadata": {},
   "outputs": [
    {
     "data": {
      "text/plain": [
       "(80, 80)"
      ]
     },
     "execution_count": 4,
     "metadata": {},
     "output_type": "execute_result"
    }
   ],
   "source": [
    "dummy_playing_field_matrix.shape"
   ]
  },
  {
   "cell_type": "code",
   "execution_count": 5,
   "metadata": {},
   "outputs": [],
   "source": [
    "\n",
    "ownership = {\n",
    "    'Forester1': [11, 12, 21, 22],  # Forester 1 owns Plot 11, 12, 21, 22  \n",
    "    'Farmer1': [13, 14,23, 24],     # Farmer 1 owns Plot 13, 14, 23, 24 \n",
    "    'Farmer2': [31, 32, 41, 42],    # Farmer 2 owns Plot 31, 32, 41, 42 \n",
    "    'Forester2': [33, 34, 43, 44]  # Forester 2 owns Plot 33, 34, 43, 44 \n",
    "}\n",
    "\n",
    "landuse = {\n",
    "    'cattle': 1,\n",
    "    'sheep': 2,\n",
    "    'n_forest': 3,\n",
    "    'c_forest': 4\n",
    "}\n",
    "\n",
    "number_of_players = len(ownership) + 1 # +1 because of the tourism \n",
    "# for more than 5 players there would be a new way to allocate ownership of plots."
   ]
  },
  {
   "cell_type": "markdown",
   "metadata": {},
   "source": [
    "A function for the decision if teamwork takes place.  It assumes 4 players allocated as above and that all have to agree to it. "
   ]
  },
  {
   "cell_type": "code",
   "execution_count": 6,
   "metadata": {},
   "outputs": [],
   "source": [
    "# assumes four players only / if the four corner player say yes then it's true.\n",
    "def teamwork(cooperation_matrix):\n",
    "    teamwork = False\n",
    "    row, col = cooperation_matrix.shape\n",
    "    if cooperation_matrix[0][0] == cooperation_matrix[0][col-1] == cooperation_matrix[row-1][0] == cooperation_matrix[row-1][col-1] == True:\n",
    "        teamwork = True\n",
    "    return teamwork"
   ]
  },
  {
   "cell_type": "code",
   "execution_count": 7,
   "metadata": {},
   "outputs": [
    {
     "data": {
      "text/plain": [
       "True"
      ]
     },
     "execution_count": 7,
     "metadata": {},
     "output_type": "execute_result"
    }
   ],
   "source": [
    "team_work = teamwork(cooperation_matrix)\n",
    "team_work"
   ]
  },
  {
   "cell_type": "markdown",
   "metadata": {},
   "source": [
    "A function returning the number of landuse-pixel for a given matrix (according to the dictionary landuse above). "
   ]
  },
  {
   "cell_type": "code",
   "execution_count": 8,
   "metadata": {},
   "outputs": [],
   "source": [
    "# get the total yield for the current map\n",
    "def yield_map(field):\n",
    "    tot_cattle = np.count_nonzero(field == landuse['cattle'])\n",
    "    tot_sheep = np.count_nonzero(field == landuse['sheep'])\n",
    "    tot_n_forest = np.count_nonzero(field == landuse['n_forest'])\n",
    "    tot_c_forest = np.count_nonzero(field == landuse['c_forest'])\n",
    "    return tot_cattle, tot_sheep, tot_n_forest, tot_c_forest"
   ]
  },
  {
   "cell_type": "code",
   "execution_count": 9,
   "metadata": {},
   "outputs": [],
   "source": [
    "# get the yield for the current playing field\n",
    "tot_cattle, tot_sheep, tot_n_forest, tot_c_forest = yield_map(lulc_matrix)"
   ]
  },
  {
   "cell_type": "code",
   "execution_count": 10,
   "metadata": {},
   "outputs": [],
   "source": [
    "# get the yield for a plot\n",
    "plot_cattle, plot_sheep, plot_n_forest, plot_c_forest = yield_map(plot_definition_matrix)"
   ]
  },
  {
   "cell_type": "code",
   "execution_count": 11,
   "metadata": {},
   "outputs": [],
   "source": [
    "# how much agricultural product is consumed (in terms of area)\n",
    "farming_area_max = 8 # easiest way to address to much production and effect of land degradation (but unrealistic) - for a quick game of a certain amounts of rounds maybe good enough, if the number is not known\n",
    "c_forest_max = 10\n",
    "# how much money does a land use change cost you (c:commercial forest, n: native forest, s:sheep, c: cattle)\n"
   ]
  },
  {
   "cell_type": "code",
   "execution_count": 12,
   "metadata": {},
   "outputs": [
    {
     "data": {
      "text/plain": [
       "[1]"
      ]
     },
     "execution_count": 12,
     "metadata": {},
     "output_type": "execute_result"
    }
   ],
   "source": [
    "cattle = []\n",
    "cattle.append(1)\n",
    "cattle"
   ]
  },
  {
   "cell_type": "code",
   "execution_count": 13,
   "metadata": {},
   "outputs": [
    {
     "data": {
      "text/plain": [
       "(39, 80)"
      ]
     },
     "execution_count": 13,
     "metadata": {},
     "output_type": "execute_result"
    }
   ],
   "source": [
    "lulc_matrix[0:39][0:39].shape"
   ]
  },
  {
   "cell_type": "code",
   "execution_count": 14,
   "metadata": {},
   "outputs": [
    {
     "data": {
      "text/plain": [
       "array([[1, 1],\n",
       "       [1, 1]], dtype=uint8)"
      ]
     },
     "execution_count": 14,
     "metadata": {},
     "output_type": "execute_result"
    }
   ],
   "source": [
    "# sorry i only noticed later that i used it to \"crop\" the matrix.\n",
    "# but it doesn't seem to work...\n",
    "lulc_matrix[np.ix_([0,40-1],[0,40 - 1])]"
   ]
  },
  {
   "cell_type": "code",
   "execution_count": 15,
   "metadata": {},
   "outputs": [
    {
     "data": {
      "text/plain": [
       "20600.0"
      ]
     },
     "execution_count": 15,
     "metadata": {},
     "output_type": "execute_result"
    }
   ],
   "source": [
    "sheep_pp = 20600/(80*80/4/2.5)\n",
    "sheep_pp*80*20/2.5"
   ]
  },
  {
   "cell_type": "code",
   "execution_count": 16,
   "metadata": {},
   "outputs": [],
   "source": [
    "def profit_pp(round, tot_sheep, tot_cattle, tot_n_forest, tot_c_forest, cattle_pp = [1], sheep_pp = [0.1], n_forest_pp = [0.1], c_forest_pp = [0.4]):      \n",
    "    #doesn't take tourism effects into account yet. and the equations are pretty random.\n",
    "    if round != 0:\n",
    "        cattle_pp.append(tot_sheep[0] / (1 + tot_cattle[round]*4 + tot_sheep[round])*cattle_pp[0]) # a certain demand - + 1 so that its never going to infinity should all land become forest\n",
    "        sheep_pp.append(sheep_pp[0]) # assume sheep can go everywhere, eat everything and no degradation and its profit only influences cattle by competition\n",
    "        c_forest_pp.append((tot_c_forest[0] + tot_n_forest[0])/(1 + tot_c_forest_tot[round] * 3 + area_n_forest_tot[round]) * c_forest_pp[0])\n",
    "        n_forest_pp.append(n_forest_pp[0]) # assumes native forest can grow everywhere and its profit only influences the commercial forest through competition in the timber market\n",
    "    return cattle_pp, sheep_pp, n_forest_pp, c_forest_pp\n"
   ]
  },
  {
   "cell_type": "code",
   "execution_count": 17,
   "metadata": {},
   "outputs": [],
   "source": [
    "from pdb import set_trace"
   ]
  },
  {
   "cell_type": "code",
   "execution_count": 18,
   "metadata": {},
   "outputs": [],
   "source": [
    "def money_pp_farmer(round, tourism, teams, brexit, teamwork, area_sheep, area_cattle, area_c_forest, area_n_forest, sheep_pp, cattle_pp, n_forest_pp, c_forest_pp, nf_to_s, nf_to_c, s_to_c, s_to_nf, c_to_s, c_to_nf, subsidies):\n",
    "    if round == 0: \n",
    "        money = area_sheep[0] * sheep_pp[0] \n",
    "    else:   \n",
    "         # costs of landscape change\n",
    "        try:\n",
    "            d_sheep = area_sheep[round] - area_sheep[round-1]\n",
    "        except: set_trace()\n",
    "        d_cattle = area_cattle[round] - area_cattle[round-1]\n",
    "        d_n_forest = area_n_forest[round] - area_n_forest[round-1] # necessary to potentially allow two changes (i.e. a rise or native forests and cattle on cost of sheep )\n",
    "        m_change = 0\n",
    "        m_brexit = 0\n",
    "        if d_n_forest < 0: \n",
    "            m_change += min([d_cattle, d_n_forest], key= abs)*nf_to_c\n",
    "            m_change += min([d_sheep, d_n_forest], key= abs)*nf_to_s\n",
    "        if d_sheep < 0:\n",
    "            m_change += min([d_cattle, d_sheep], key= abs)*s_to_c\n",
    "            m_change += min([d_sheep, d_n_forest], key= abs)*s_to_nf \n",
    "        if d_cattle < 0:\n",
    "            m_change += min([d_cattle, d_sheep], key= abs)*c_to_s\n",
    "            m_change += min([d_cattle, d_n_forest], key= abs)*c_to_nf \n",
    "        # money from the area\n",
    "        m_area = (area_sheep[round] * sheep_pp[round]) + (area_cattle[round] * cattle_pp[round])\n",
    "        if teamwork == True and teams > round:\n",
    "            m_teamwork = area_c_forest[round]*c_forest_pp[round] + area_n_forest[round]*n_forest_pp[round]\n",
    "        if brexit > round:\n",
    "            m_brexit = (1-subsidies)*(area_sheep[round] * sheep_pp[round])\n",
    "            if d_n_forest > 0:\n",
    "                m_brexit += d_n_forest * subsidies\n",
    "        m_tourism = tourism * m_area\n",
    "        # maybe return later on the performance of each landuse/industrie --> append() so that its easy to plot?\n",
    "        money = m_area*t + m_change + m_tourism + m_teamwork + brexit\n",
    "    \n",
    "    return money"
   ]
  },
  {
   "cell_type": "code",
   "execution_count": 19,
   "metadata": {},
   "outputs": [],
   "source": [
    "\n",
    "\n",
    "def money_pp_forester(round, tourism, teams, brexit, teamwork, area_sheep, area_c_forest, area_n_forest, sheep_pp, n_forest_pp, c_forest_pp, nf_to_cf, cf_to_nf, subsidies):\n",
    "\n",
    "# '''\n",
    "#     area_c_forest: number of pixel displaying commercial forest\n",
    "#     area_n_forest: number of pixel displaying native forest\n",
    "#     round: round of the game (starting at 0)\n",
    "# '''\n",
    "    if round == 0: \n",
    "        money = area_c_fore[0] * c_forest_pp[0] + area_n_fore[0] * n_forest_pp[0] \n",
    "    else:   \n",
    "        d_n_forest = area_n_forest[round] - area_n_forest[round-1] # necessary to potentially allow two changes (i.e. a rise or native forests and cattle on cost of sheep )\n",
    "        m_change = 0\n",
    "        m_brexit = 0\n",
    "        # ich habe momentan gemacht, dass man nur etwas verkleinern darf!\n",
    "        if d_n_forest < 0: \n",
    "            m_change += d_c_forest * nf_to_cf\n",
    "        if d_n_forest > 0:\n",
    "            m_change += d_n_forest * cf_to_nf\n",
    "        # money from the area\n",
    "        m_area = (area_n_forest[round] * n_forest_pp[round]) + ((area_c_forest[round] * c_forest_pp[round]))\n",
    "        if teamwork == True and teams > round:\n",
    "            m_teamwork = area_sheep[round]*sheep_pp[round]\n",
    "        if brexit > round:\n",
    "            if d_n_forest > 0:\n",
    "                m_brexit = d_n_forest * subsidies + (1-subsidies)*(area_sheep[round] * sheep_pp[round])\n",
    "        m_tourism = tourism * m_area\n",
    "        # maybe return later on the performance of each landuse/industrie --> append() so that its easy to plot?\n",
    "        money = m_area*t + m_change + m_tourism + m_teamwork + brexit\n",
    "    \n",
    "    return money"
   ]
  },
  {
   "cell_type": "code",
   "execution_count": 20,
   "metadata": {},
   "outputs": [],
   "source": [
    "# assumes 5 players at fixed locations     # i don't know how to include unemployment\n",
    "def main(rounds, teams, brexit, lulc_matrix, tourism_matrix, n_blocks, rows):\n",
    "    # assumed costs and prices\n",
    "    cost_of_living = 29600\n",
    "    \n",
    "    sheep_profit = 110\n",
    "    cattle_profit = 155\n",
    "    c_forest_profit = 200\n",
    "    n_forest_profit = 50\n",
    "    #tourism\n",
    "    GDP_per_capita = 29600\n",
    "    farm_income = 39000\n",
    "    #yield per pixel\n",
    "    sheep_pp = []\n",
    "    cattle_pp = []\n",
    "    c_forest_pp = []\n",
    "    n_forest_pp = []\n",
    "    tourism = []\n",
    "    n_pixel, m_pixel = tourism_matrix.shape\n",
    "    \n",
    "    s_pp = GDP_per_capita / (rows*rows/n_blocks/2.5)\n",
    "    sheep_pp.append(s_pp)\n",
    "    c_pp = s_pp * cattle_profit/sheep_profit\n",
    "    cattle_pp.append(c_pp)\n",
    "    cf_pp = s_pp * c_forest_profit/sheep_profit\n",
    "    c_forest_pp.append(cf_pp)\n",
    "    nf_pp = s_pp * n_forest_profit/sheep_profit\n",
    "    n_forest_pp.append(nf_pp)\n",
    "\n",
    "    subsidies = 0.8\n",
    "    cf_to_nf = 0.5 \n",
    "    nf_to_cf = 0.5\n",
    "    s_to_c = 0.5\n",
    "    s_to_nf = c_to_nf = 1 # must stay the same (brexit calculations for farmer)\n",
    "    c_to_s = 0.5\n",
    "    nf_to_s = -0.1   # assuming farmers can convert native forest to farmland but not commercial forest (sell wood)\n",
    "    nf_to_c = 0.8    # takes a while until enough grass grows\n",
    "    \n",
    "    rounds = rounds + 1\n",
    "    cattle = []\n",
    "    sheep = []\n",
    "    n_forest = []\n",
    "    c_forest = []\n",
    "    len_block = int(rows/math.sqrt(n_blocks))\n",
    "    fa1_cattle = []\n",
    "    fa1_sheep = []\n",
    "    fa1_n_forest = []\n",
    "    fa1_c_forest = []\n",
    "    fo1_sheep = []\n",
    "    fo1_n_forest = []\n",
    "    fo1_c_forest = []\n",
    "    fa2_cattle = []\n",
    "    fa2_sheep = []\n",
    "    fa2_n_forest = []\n",
    "    fa2_c_forest = []\n",
    "    fo2_sheep = []\n",
    "    fo2_n_forest = []\n",
    "    fo2_c_forest = []\n",
    "    print(sheep)\n",
    "    for i in range(rounds):\n",
    "        tot_cattle, tot_sheep, tot_n_forest, tot_c_forest = yield_map(lulc_matrix)\n",
    "        sheep.append(tot_sheep)\n",
    "        cattle.append(tot_cattle)\n",
    "        n_forest.append(tot_n_forest)\n",
    "        c_forest.append(tot_c_forest)\n",
    "        cattle_pp, sheep_pp, n_forest_pp, c_forest_pp = profit_pp(i, tot_sheep, tot_cattle, tot_n_forest, tot_c_forest, cattle_pp, sheep_pp, n_forest_pp, c_forest_pp)     \n",
    "\n",
    "        \n",
    "        # forester 1\n",
    "        cattle, sheep, n_forest, c_forest = yield_map(lulc_matrix[np.ix_([0,len_block - 1], [0,len_block - 1])])\n",
    "        # fo1_cattle.append(cattle) # no need for that since he can't change his landuse - teamwork doesn't allow it (yet)\n",
    "        fo1_sheep.append(sheep)\n",
    "        fo1_n_forest.append(n_forest)\n",
    "        fo1_c_forest.append(c_forest)\n",
    "        \n",
    "        # farmer 1\n",
    "        cattle, sheep, n_forest, c_forest = yield_map(lulc_matrix[np.ix_([0,len_block - 1],[len_block, rows-1])])\n",
    "        fa1_cattle.append(cattle)\n",
    "        fa1_sheep.append(sheep)\n",
    "        fa1_n_forest.append(n_forest)\n",
    "        fa1_c_forest.append(c_forest)\n",
    "        \n",
    "        # forester 2\n",
    "        cattle, sheep, n_forest, c_forest = yield_map(lulc_matrix[np.ix_([len_block, rows-1],[0,len_block - 1])])\n",
    "        # fo2_cattle.append(cattle) # no need for that since he can't change his landuse - teamwork doesn't allow it (yet)\n",
    "        fo2_sheep.append(sheep)\n",
    "        fo2_n_forest.append(n_forest)\n",
    "        fo2_c_forest.append(c_forest)\n",
    "        \n",
    "        # farmer 2\n",
    "        cattle, sheep, n_forest, c_forest = yield_map(lulc_matrix[np.ix_([0,len_block - 1],[len_block, rows-1])])\n",
    "        fa1_cattle.append(cattle)\n",
    "        fa1_sheep.append(sheep)\n",
    "        fa1_n_forest.append(n_forest)\n",
    "        fa1_c_forest.append(c_forest)\n",
    "        print(cattle)\n",
    "\n",
    "        \n",
    "        # tourism\n",
    "        cattle, sheep, n_forest, c_forest = yield_map(tourism_matrix)\n",
    "        t = (sheep*2 + cattle*1.2 + n_forest*2)/n_pixel/n_pixel/(1+c_forest**2)\n",
    "        \n",
    "\n",
    "        if i == 0:\n",
    "            money_fa1 = money_fa2 = money_fo1 = money_fo2 = 10000\n",
    "            \n",
    "        # activates the possibilitie for teamwork after a certain round\n",
    "        money_fa1 = money_pp_farmer(i, t, teams, brexit, team_work, fa1_sheep, fa1_cattle, fa1_c_forest, fa1_n_forest, sheep_pp, cattle_pp, n_forest_pp, c_forest_pp, nf_to_s, nf_to_c, s_to_c, s_to_nf, c_to_s, c_to_nf, subsidies)\n",
    "        money_fa2 = money_pp_farmer(i, t, teams, brexit, team_work, fa2_sheep, fa2_cattle, fa2_c_forest, fa2_n_forest, sheep_pp, cattle_pp, n_forest_pp, c_forest_pp, nf_to_s, nf_to_c, s_to_c, s_to_nf, c_to_s, c_to_nf, subsidies)\n",
    "        money_fo1 = money_pp_forester(i, t, teams, brexit, team_work, fo1_sheep, fo1_c_forest, fo1_n_forest, sheep_pp, n_forest_pp, c_forest_pp, nf_to_cf, cf_to_nf,  subsidies)\n",
    "        money_fo2 = money_pp_forester(i, t, teams, brexit, team_work, fo1_sheep, fo2_c_forest, fo2_n_forest, sheep_pp, n_forest_pp, c_forest_pp, nf_to_cf, cf_to_nf,  subsidies)\n",
    "            \n",
    "   \n",
    "            \n",
    "        \n",
    "            \n",
    "        print(money_fa1, money_fa2, money_fo1, money_fo2)\n",
    "    return money_fa1, money_fa2, money_fo1, money_fo2\n",
    "    "
   ]
  },
  {
   "cell_type": "code",
   "execution_count": 21,
   "metadata": {},
   "outputs": [
    {
     "name": "stdout",
     "output_type": "stream",
     "text": [
      "[]\n",
      "4\n"
     ]
    },
    {
     "ename": "IndexError",
     "evalue": "list index out of range",
     "output_type": "error",
     "traceback": [
      "\u001b[0;31m---------------------------------------------------------------------------\u001b[0m",
      "\u001b[0;31mIndexError\u001b[0m                                Traceback (most recent call last)",
      "\u001b[0;32m<ipython-input-21-deaf9b5580f3>\u001b[0m in \u001b[0;36m<module>\u001b[0;34m\u001b[0m\n\u001b[0;32m----> 1\u001b[0;31m \u001b[0ma\u001b[0m\u001b[0;34m,\u001b[0m\u001b[0mb\u001b[0m\u001b[0;34m,\u001b[0m\u001b[0mc\u001b[0m\u001b[0;34m,\u001b[0m\u001b[0md\u001b[0m \u001b[0;34m=\u001b[0m \u001b[0mmain\u001b[0m\u001b[0;34m(\u001b[0m\u001b[0mrounds\u001b[0m\u001b[0;34m,\u001b[0m \u001b[0mteams\u001b[0m\u001b[0;34m,\u001b[0m \u001b[0mbrexit\u001b[0m\u001b[0;34m,\u001b[0m \u001b[0mlulc_matrix\u001b[0m\u001b[0;34m,\u001b[0m \u001b[0mtourism_matrix\u001b[0m\u001b[0;34m,\u001b[0m \u001b[0mn_blocks\u001b[0m\u001b[0;34m,\u001b[0m \u001b[0mrows\u001b[0m\u001b[0;34m)\u001b[0m\u001b[0;34m\u001b[0m\u001b[0;34m\u001b[0m\u001b[0m\n\u001b[0m",
      "\u001b[0;32m<ipython-input-20-47949469d2b3>\u001b[0m in \u001b[0;36mmain\u001b[0;34m(rounds, teams, brexit, lulc_matrix, tourism_matrix, n_blocks, rows)\u001b[0m\n\u001b[1;32m    107\u001b[0m         \u001b[0;31m# activates the possibilitie for teamwork after a certain round\u001b[0m\u001b[0;34m\u001b[0m\u001b[0;34m\u001b[0m\u001b[0;34m\u001b[0m\u001b[0m\n\u001b[1;32m    108\u001b[0m         \u001b[0mmoney_fa1\u001b[0m \u001b[0;34m=\u001b[0m \u001b[0mmoney_pp_farmer\u001b[0m\u001b[0;34m(\u001b[0m\u001b[0mi\u001b[0m\u001b[0;34m,\u001b[0m \u001b[0mt\u001b[0m\u001b[0;34m,\u001b[0m \u001b[0mteams\u001b[0m\u001b[0;34m,\u001b[0m \u001b[0mbrexit\u001b[0m\u001b[0;34m,\u001b[0m \u001b[0mteam_work\u001b[0m\u001b[0;34m,\u001b[0m \u001b[0mfa1_sheep\u001b[0m\u001b[0;34m,\u001b[0m \u001b[0mfa1_cattle\u001b[0m\u001b[0;34m,\u001b[0m \u001b[0mfa1_c_forest\u001b[0m\u001b[0;34m,\u001b[0m \u001b[0mfa1_n_forest\u001b[0m\u001b[0;34m,\u001b[0m \u001b[0msheep_pp\u001b[0m\u001b[0;34m,\u001b[0m \u001b[0mcattle_pp\u001b[0m\u001b[0;34m,\u001b[0m \u001b[0mn_forest_pp\u001b[0m\u001b[0;34m,\u001b[0m \u001b[0mc_forest_pp\u001b[0m\u001b[0;34m,\u001b[0m \u001b[0mnf_to_s\u001b[0m\u001b[0;34m,\u001b[0m \u001b[0mnf_to_c\u001b[0m\u001b[0;34m,\u001b[0m \u001b[0ms_to_c\u001b[0m\u001b[0;34m,\u001b[0m \u001b[0ms_to_nf\u001b[0m\u001b[0;34m,\u001b[0m \u001b[0mc_to_s\u001b[0m\u001b[0;34m,\u001b[0m \u001b[0mc_to_nf\u001b[0m\u001b[0;34m,\u001b[0m \u001b[0msubsidies\u001b[0m\u001b[0;34m)\u001b[0m\u001b[0;34m\u001b[0m\u001b[0;34m\u001b[0m\u001b[0m\n\u001b[0;32m--> 109\u001b[0;31m         \u001b[0mmoney_fa2\u001b[0m \u001b[0;34m=\u001b[0m \u001b[0mmoney_pp_farmer\u001b[0m\u001b[0;34m(\u001b[0m\u001b[0mi\u001b[0m\u001b[0;34m,\u001b[0m \u001b[0mt\u001b[0m\u001b[0;34m,\u001b[0m \u001b[0mteams\u001b[0m\u001b[0;34m,\u001b[0m \u001b[0mbrexit\u001b[0m\u001b[0;34m,\u001b[0m \u001b[0mteam_work\u001b[0m\u001b[0;34m,\u001b[0m \u001b[0mfa2_sheep\u001b[0m\u001b[0;34m,\u001b[0m \u001b[0mfa2_cattle\u001b[0m\u001b[0;34m,\u001b[0m \u001b[0mfa2_c_forest\u001b[0m\u001b[0;34m,\u001b[0m \u001b[0mfa2_n_forest\u001b[0m\u001b[0;34m,\u001b[0m \u001b[0msheep_pp\u001b[0m\u001b[0;34m,\u001b[0m \u001b[0mcattle_pp\u001b[0m\u001b[0;34m,\u001b[0m \u001b[0mn_forest_pp\u001b[0m\u001b[0;34m,\u001b[0m \u001b[0mc_forest_pp\u001b[0m\u001b[0;34m,\u001b[0m \u001b[0mnf_to_s\u001b[0m\u001b[0;34m,\u001b[0m \u001b[0mnf_to_c\u001b[0m\u001b[0;34m,\u001b[0m \u001b[0ms_to_c\u001b[0m\u001b[0;34m,\u001b[0m \u001b[0ms_to_nf\u001b[0m\u001b[0;34m,\u001b[0m \u001b[0mc_to_s\u001b[0m\u001b[0;34m,\u001b[0m \u001b[0mc_to_nf\u001b[0m\u001b[0;34m,\u001b[0m \u001b[0msubsidies\u001b[0m\u001b[0;34m)\u001b[0m\u001b[0;34m\u001b[0m\u001b[0;34m\u001b[0m\u001b[0m\n\u001b[0m\u001b[1;32m    110\u001b[0m         \u001b[0mmoney_fo1\u001b[0m \u001b[0;34m=\u001b[0m \u001b[0mmoney_pp_forester\u001b[0m\u001b[0;34m(\u001b[0m\u001b[0mi\u001b[0m\u001b[0;34m,\u001b[0m \u001b[0mt\u001b[0m\u001b[0;34m,\u001b[0m \u001b[0mteams\u001b[0m\u001b[0;34m,\u001b[0m \u001b[0mbrexit\u001b[0m\u001b[0;34m,\u001b[0m \u001b[0mteam_work\u001b[0m\u001b[0;34m,\u001b[0m \u001b[0mfo1_sheep\u001b[0m\u001b[0;34m,\u001b[0m \u001b[0mfo1_c_forest\u001b[0m\u001b[0;34m,\u001b[0m \u001b[0mfo1_n_forest\u001b[0m\u001b[0;34m,\u001b[0m \u001b[0msheep_pp\u001b[0m\u001b[0;34m,\u001b[0m \u001b[0mn_forest_pp\u001b[0m\u001b[0;34m,\u001b[0m \u001b[0mc_forest_pp\u001b[0m\u001b[0;34m,\u001b[0m \u001b[0mnf_to_cf\u001b[0m\u001b[0;34m,\u001b[0m \u001b[0mcf_to_nf\u001b[0m\u001b[0;34m,\u001b[0m  \u001b[0msubsidies\u001b[0m\u001b[0;34m)\u001b[0m\u001b[0;34m\u001b[0m\u001b[0;34m\u001b[0m\u001b[0m\n\u001b[1;32m    111\u001b[0m         \u001b[0mmoney_fo2\u001b[0m \u001b[0;34m=\u001b[0m \u001b[0mmoney_pp_forester\u001b[0m\u001b[0;34m(\u001b[0m\u001b[0mi\u001b[0m\u001b[0;34m,\u001b[0m \u001b[0mt\u001b[0m\u001b[0;34m,\u001b[0m \u001b[0mteams\u001b[0m\u001b[0;34m,\u001b[0m \u001b[0mbrexit\u001b[0m\u001b[0;34m,\u001b[0m \u001b[0mteam_work\u001b[0m\u001b[0;34m,\u001b[0m \u001b[0mfo1_sheep\u001b[0m\u001b[0;34m,\u001b[0m \u001b[0mfo2_c_forest\u001b[0m\u001b[0;34m,\u001b[0m \u001b[0mfo2_n_forest\u001b[0m\u001b[0;34m,\u001b[0m \u001b[0msheep_pp\u001b[0m\u001b[0;34m,\u001b[0m \u001b[0mn_forest_pp\u001b[0m\u001b[0;34m,\u001b[0m \u001b[0mc_forest_pp\u001b[0m\u001b[0;34m,\u001b[0m \u001b[0mnf_to_cf\u001b[0m\u001b[0;34m,\u001b[0m \u001b[0mcf_to_nf\u001b[0m\u001b[0;34m,\u001b[0m  \u001b[0msubsidies\u001b[0m\u001b[0;34m)\u001b[0m\u001b[0;34m\u001b[0m\u001b[0;34m\u001b[0m\u001b[0m\n",
      "\u001b[0;32m<ipython-input-18-dd070187303c>\u001b[0m in \u001b[0;36mmoney_pp_farmer\u001b[0;34m(round, tourism, teams, brexit, teamwork, area_sheep, area_cattle, area_c_forest, area_n_forest, sheep_pp, cattle_pp, n_forest_pp, c_forest_pp, nf_to_s, nf_to_c, s_to_c, s_to_nf, c_to_s, c_to_nf, subsidies)\u001b[0m\n\u001b[1;32m      1\u001b[0m \u001b[0;32mdef\u001b[0m \u001b[0mmoney_pp_farmer\u001b[0m\u001b[0;34m(\u001b[0m\u001b[0mround\u001b[0m\u001b[0;34m,\u001b[0m \u001b[0mtourism\u001b[0m\u001b[0;34m,\u001b[0m \u001b[0mteams\u001b[0m\u001b[0;34m,\u001b[0m \u001b[0mbrexit\u001b[0m\u001b[0;34m,\u001b[0m \u001b[0mteamwork\u001b[0m\u001b[0;34m,\u001b[0m \u001b[0marea_sheep\u001b[0m\u001b[0;34m,\u001b[0m \u001b[0marea_cattle\u001b[0m\u001b[0;34m,\u001b[0m \u001b[0marea_c_forest\u001b[0m\u001b[0;34m,\u001b[0m \u001b[0marea_n_forest\u001b[0m\u001b[0;34m,\u001b[0m \u001b[0msheep_pp\u001b[0m\u001b[0;34m,\u001b[0m \u001b[0mcattle_pp\u001b[0m\u001b[0;34m,\u001b[0m \u001b[0mn_forest_pp\u001b[0m\u001b[0;34m,\u001b[0m \u001b[0mc_forest_pp\u001b[0m\u001b[0;34m,\u001b[0m \u001b[0mnf_to_s\u001b[0m\u001b[0;34m,\u001b[0m \u001b[0mnf_to_c\u001b[0m\u001b[0;34m,\u001b[0m \u001b[0ms_to_c\u001b[0m\u001b[0;34m,\u001b[0m \u001b[0ms_to_nf\u001b[0m\u001b[0;34m,\u001b[0m \u001b[0mc_to_s\u001b[0m\u001b[0;34m,\u001b[0m \u001b[0mc_to_nf\u001b[0m\u001b[0;34m,\u001b[0m \u001b[0msubsidies\u001b[0m\u001b[0;34m)\u001b[0m\u001b[0;34m:\u001b[0m\u001b[0;34m\u001b[0m\u001b[0;34m\u001b[0m\u001b[0m\n\u001b[1;32m      2\u001b[0m     \u001b[0;32mif\u001b[0m \u001b[0mround\u001b[0m \u001b[0;34m==\u001b[0m \u001b[0;36m0\u001b[0m\u001b[0;34m:\u001b[0m\u001b[0;34m\u001b[0m\u001b[0;34m\u001b[0m\u001b[0m\n\u001b[0;32m----> 3\u001b[0;31m         \u001b[0mmoney\u001b[0m \u001b[0;34m=\u001b[0m \u001b[0marea_sheep\u001b[0m\u001b[0;34m[\u001b[0m\u001b[0;36m0\u001b[0m\u001b[0;34m]\u001b[0m \u001b[0;34m*\u001b[0m \u001b[0msheep_pp\u001b[0m\u001b[0;34m[\u001b[0m\u001b[0;36m0\u001b[0m\u001b[0;34m]\u001b[0m\u001b[0;34m\u001b[0m\u001b[0;34m\u001b[0m\u001b[0m\n\u001b[0m\u001b[1;32m      4\u001b[0m     \u001b[0;32melse\u001b[0m\u001b[0;34m:\u001b[0m\u001b[0;34m\u001b[0m\u001b[0;34m\u001b[0m\u001b[0m\n\u001b[1;32m      5\u001b[0m          \u001b[0;31m# costs of landscape change\u001b[0m\u001b[0;34m\u001b[0m\u001b[0;34m\u001b[0m\u001b[0;34m\u001b[0m\u001b[0m\n",
      "\u001b[0;31mIndexError\u001b[0m: list index out of range"
     ]
    }
   ],
   "source": [
    "a,b,c,d = main(rounds, teams, brexit, lulc_matrix, tourism_matrix, n_blocks, rows)"
   ]
  },
  {
   "cell_type": "code",
   "execution_count": null,
   "metadata": {},
   "outputs": [],
   "source": []
  }
 ],
 "metadata": {
  "kernelspec": {
   "display_name": "Python 3",
   "language": "python",
   "name": "python3"
  },
  "language_info": {
   "codemirror_mode": {
    "name": "ipython",
    "version": 3
   },
   "file_extension": ".py",
   "mimetype": "text/x-python",
   "name": "python",
   "nbconvert_exporter": "python",
   "pygments_lexer": "ipython3",
   "version": "3.7.3"
  }
 },
 "nbformat": 4,
 "nbformat_minor": 2
}
