{
 "cells": [
  {
   "cell_type": "markdown",
   "metadata": {},
   "source": [
    "# The Game \n",
    "## without interactions with the map or the google sheet"
   ]
  },
  {
   "cell_type": "markdown",
   "metadata": {},
   "source": [
    "initial conditions with (until now) random numbers:"
   ]
  },
  {
   "cell_type": "code",
   "execution_count": 1,
   "metadata": {},
   "outputs": [],
   "source": [
    "import numpy as np\n",
    "import math"
   ]
  },
  {
   "cell_type": "code",
   "execution_count": 2,
   "metadata": {},
   "outputs": [],
   "source": [
    "# create dummy matrix\n",
    "n_plots = 4\n",
    "rows = cols = 80\n",
    "\n",
    "plot_length = int(rows/n_plots)\n",
    "dummy_plot = np.ones(plot_length**2).reshape((plot_length, plot_length))\n",
    "A1 = dummy_plot\n",
    "A2 = dummy_plot * 2\n",
    "B1 = dummy_plot * 3\n",
    "B2 = dummy_plot * 4\n",
    "large_matrix = np.block([[A1, A2], [B1, B2]])\n",
    "large_dummy_matrix = np.ones_like(large_matrix)\n",
    "n = plot_length\n",
    "coef_matrix = np.array([[1, 2], [3, 4]])\n",
    "result = np.multiply(large_dummy_matrix, np.kron(coef_matrix, np.ones((n,n))))\n",
    "matrix_indizes = np.indices((n_plots, n_plots), dtype=\"uint8\") + 1\n",
    "row_indizes, column_indizes = matrix_indizes[0], matrix_indizes[1]\n",
    "plot_definition_matrix = np.char.add(row_indizes.astype(np.str), column_indizes.astype(np.str)).astype(np.uint8)\n",
    "dummy_playing_field_matrix = np.ones(shape=(rows, cols), dtype=np.uint8)\n",
    "large_plot_definition_matrix = np.multiply(\n",
    "    dummy_playing_field_matrix,\n",
    "    np.kron(plot_definition_matrix, np.ones(shape=(plot_length, plot_length)))\n",
    ")"
   ]
  },
  {
   "cell_type": "code",
   "execution_count": 3,
   "metadata": {},
   "outputs": [],
   "source": [
    "# what I used from your matrix-dummies-notebook:\n",
    "lulc_matrix = dummy_playing_field_matrix             # 80 x 80\n",
    "cooperation_matrix = dummy_playing_field_matrix      # 80 x 80\n",
    "plot_definition_matrix                               # 4 x 4\n",
    "tourism_matrix = plot_definition_matrix              # 4 x 4\n",
    "n_blocks = 4\n",
    "n_pixel = 20\n",
    "\n",
    "# other assumtions:\n",
    "rounds = 10   # number of rounds\n",
    "teams = 3    # in round 3 - first 3 rounds to grasp whats happening\n",
    "brexit = 6    # in round 6 - \n",
    "increased_timber_prices = 1.1 # +10%"
   ]
  },
  {
   "cell_type": "markdown",
   "metadata": {},
   "source": [
    "I thought with these dictionaries the change from dummy matrix to the real data should be easy. "
   ]
  },
  {
   "cell_type": "code",
   "execution_count": 4,
   "metadata": {},
   "outputs": [
    {
     "data": {
      "text/plain": [
       "(80, 80)"
      ]
     },
     "execution_count": 4,
     "metadata": {},
     "output_type": "execute_result"
    }
   ],
   "source": [
    "dummy_playing_field_matrix.shape"
   ]
  },
  {
   "cell_type": "code",
   "execution_count": 6,
   "metadata": {},
   "outputs": [],
   "source": [
    "# include new dictionary - the ownership dictionary was never used because i assigned each player a block. - this is also necessary for teamwork (at least with this code)\n",
    "#ownership = {\n",
    "#    'Forester1': [11, 12, 21, 22],  # Forester 1 owns Plot 11, 12, 21, 22  \n",
    "#    'Farmer1': [13, 14,23, 24],     # Farmer 1 owns Plot 13, 14, 23, 24 \n",
    "#    'Farmer2': [31, 32, 41, 42],    # Farmer 2 owns Plot 31, 32, 41, 42 \n",
    "#    'Forester2': [33, 34, 43, 44]  # Forester 2 owns Plot 33, 34, 43, 44 \n",
    "#}\n",
    "\n",
    "landuse = {\n",
    "    'cattle': 1,\n",
    "    'sheep': 2,\n",
    "    'n_forest': 3,\n",
    "    'c_forest': 4\n",
    "}\n",
    "\n",
    "# i modified that because it doesn't have cattle cet\n",
    "# describes the simplified LULC types \n",
    "simplified_lulc_mapping = {\n",
    "\n",
    "    \"Sheep Farming\": 1,\n",
    "    \"Native Forest\": 2,\n",
    "    \"Commercial Forest\": 3,\n",
    "    \"Cattle Farming\": 4\n",
    "\n",
    "}\n",
    "\n",
    "#number_of_players = len(ownership) + 1 # +1 because of the tourism \n",
    "# for more than 5 players there would be a new way to allocate ownership of plots."
   ]
  },
  {
   "cell_type": "markdown",
   "metadata": {},
   "source": [
    "A function for the decision if teamwork takes place.  It assumes 4 players allocated as above and that all have to agree to it. "
   ]
  },
  {
   "cell_type": "code",
   "execution_count": 7,
   "metadata": {},
   "outputs": [],
   "source": [
    "# assumes four players only / if the four corner player say yes then it's true.\n",
    "def teamwork(cooperation_matrix):\n",
    "    teamwork = False\n",
    "    row, col = cooperation_matrix.shape\n",
    "    if cooperation_matrix[0][0] == cooperation_matrix[0][col-1] == cooperation_matrix[row-1][0] == cooperation_matrix[row-1][col-1] == True:\n",
    "        teamwork = True\n",
    "    return teamwork"
   ]
  },
  {
   "cell_type": "code",
   "execution_count": 8,
   "metadata": {},
   "outputs": [
    {
     "data": {
      "text/plain": [
       "True"
      ]
     },
     "execution_count": 8,
     "metadata": {},
     "output_type": "execute_result"
    }
   ],
   "source": [
    "team_work = teamwork(cooperation_matrix)\n",
    "team_work"
   ]
  },
  {
   "cell_type": "markdown",
   "metadata": {},
   "source": [
    "A function returning the number of landuse-pixel for a given matrix (according to the dictionary landuse above). "
   ]
  },
  {
   "cell_type": "code",
   "execution_count": 9,
   "metadata": {},
   "outputs": [],
   "source": [
    "# get the total yield for the current map\n",
    "def yield_map(field):\n",
    "    tot_cattle = np.count_nonzero(field == simplified_lulc_mapping['Cattle Farming'])\n",
    "    tot_sheep = np.count_nonzero(field == simplified_lulc_mapping['Sheep Farming'])\n",
    "    tot_n_forest = np.count_nonzero(field == simplified_lulc_mapping['Commercial Forest'])\n",
    "    tot_c_forest = np.count_nonzero(field == simplified_lulc_mapping['Cattle Farming'])\n",
    "    return tot_cattle, tot_sheep, tot_n_forest, tot_c_forest"
   ]
  },
  {
   "cell_type": "code",
   "execution_count": 10,
   "metadata": {},
   "outputs": [],
   "source": [
    "# get the yield for the current playing field\n",
    "tot_cattle, tot_sheep, tot_n_forest, tot_c_forest = yield_map(lulc_matrix)"
   ]
  },
  {
   "cell_type": "code",
   "execution_count": 11,
   "metadata": {},
   "outputs": [],
   "source": [
    "# get the yield for a plot\n",
    "plot_cattle, plot_sheep, plot_n_forest, plot_c_forest = yield_map(plot_definition_matrix)"
   ]
  },
  {
   "cell_type": "code",
   "execution_count": 12,
   "metadata": {},
   "outputs": [
    {
     "data": {
      "text/plain": [
       "(40, 40)"
      ]
     },
     "execution_count": 12,
     "metadata": {},
     "output_type": "execute_result"
    }
   ],
   "source": [
    "# cropping a block out of the map\n",
    "indices_block_1 = list(range(0, int(rows/math.sqrt(n_blocks))))\n",
    "indices_block_2 = list(range(int(rows/math.sqrt(n_blocks)), rows))\n",
    "lulc_matrix[np.ix_(indices_block_1,indices_block_2)].shape"
   ]
  },
  {
   "cell_type": "code",
   "execution_count": 19,
   "metadata": {},
   "outputs": [],
   "source": [
    "# global variables for the profit_pp function:\n",
    "income_farmland_sheep = 30\n",
    "income_farmland_cattle = 100\n",
    "income_forest_commercial = 200\n",
    "income_forest_native = 50\n",
    "gdp_pc_scotland = 29.600\n",
    "unempl_rate_scotland = 0.05"
   ]
  },
  {
   "cell_type": "code",
   "execution_count": 22,
   "metadata": {},
   "outputs": [],
   "source": [
    "row = col = 80\n",
    "estimate_farmland = 1/2 # half of it is farmland - maybe a bit lower than reality to increase pressure for the game?\n",
    "estimate_forest = 1/3\n",
    "number_of_farmer = row*col*income_farmland_sheep/gdp_pc_scotland*estimate_farmland/(1-unempl_rate_scotland)\n",
    "number_of_forester = row*col*income_forest_commercial/gdp_pc_scotland*estimate_forest/(1-unempl_rate_scotland)\n",
    "unempl_rate_scotland = 0.05\n"
   ]
  },
  {
   "cell_type": "code",
   "execution_count": 23,
   "metadata": {},
   "outputs": [],
   "source": [
    "# uses the number_of_farmers or the numbers_of_forester above and the total amount of money from both farmer or forester as an argument\n",
    "def unemployment(money, gdp_pc_scottland, number_of_workers):\n",
    "    unempl_rate_scotland = int(money / gdp_pc_scottland)/number_of_potential_workers\n",
    "    return unempl_rate_scotland"
   ]
  },
  {
   "cell_type": "markdown",
   "metadata": {},
   "source": [
    "The idea for the function profit_pp is to try to adapt the prices and save the adapted prices in a list. these equations are based on the starting value with the assumption that they dictate the demand.\n",
    "The variable brexit says if brexit already happened this round. This would lead to increased_timber_prices. I thought that might slightly reduce all those different variables, becuase I felt it is getting a bit over-complicated. \n",
    "\n",
    "The tot_\\\\<product\\> is a list of the total area of the product gained by the function yield_map. \n",
    "\\\\<product\\>_pp is a list with the former prices per pixel. \n",
    "\n",
    "The multiplying factors are a bit random but also based on the assumpton that the price difference of the production is an indicator on the productivity. i.e. 3 = income_farmland_cattle/income_farmland_sheep. \n",
    "Because I didn't want to risk dividing by zero I added a 1. "
   ]
  },
  {
   "cell_type": "code",
   "execution_count": 70,
   "metadata": {},
   "outputs": [],
   "source": [
    "# adapt the prices\n",
    "def profit_pp(round, brexit, increased_timber_prices, tot_sheep, tot_cattle, tot_n_forest, tot_c_forest, cattle_pp, sheep_pp, n_forest_pp, c_forest_pp):      \n",
    "    #doesn't take tourism effects into account yet. and the equations are pretty random.\n",
    "    cattle_pp_new = tot_sheep[0] / (1 + tot_cattle[round]*3 + tot_sheep[round])*cattle_pp[0] # a certain demand - + 1 so that its never going to infinity should all land become forest\n",
    "    sheep_pp_new = sheep_pp[0] # assume sheep can go everywhere, eat everything and no degradation and its profit only influences cattle by competition\n",
    "    c_forest_pp_new = (tot_c_forest[0] + tot_n_forest[0])/(1 + tot_c_forest_tot[round] * 4 + area_n_forest_tot[round]) * c_forest_pp[0]\n",
    "    n_forest_pp_new = n_forest_pp[0] # assumes native forest can grow everywhere and its profit only influences the commercial forest through competition in the timber market\n",
    "    if brexit > round:\n",
    "        n_forest_new *= increased_timber_prices # less import of wood. \n",
    "        c_forest_new *= increased_timber_prices\n",
    "    return cattle_pp_new, sheep_pp_new, n_forest_pp_new, c_forest_pp_new\n"
   ]
  },
  {
   "cell_type": "code",
   "execution_count": 71,
   "metadata": {},
   "outputs": [],
   "source": [
    "from pdb import set_trace"
   ]
  },
  {
   "cell_type": "markdown",
   "metadata": {},
   "source": [
    "Here I try to calculate the money a farmer earns each **round**. The **tourism** is a factor t calculated with the tourism_matrix\n",
    "i.e. cattle, sheep, n_forest, c_forest = yield_map(tourism_matrix)\n",
    "        t = (sheep*2 + cattle*1.2 + n_forest*2)/n_pixel/n_pixel/(1+c_forest*10) The numbers in this equation are just based on discussions on what is how bad. The one is again added so that there is no division through zero. The division by the number of pixel is to norm t a bit. It is then a factor that can be max twice as high. \n",
    "\n",
    "**brexit** is again an integer ot the round at which brexit happens. I discussed with the design team that teams could be about 3 and brexit then a few rounds after - i.e. 5. \n",
    "        \n",
    "**teams** is an integer of the round after which teams are allowed. **teamwork** is the result of the function teamwork. \n",
    "the area_\\\\<product> is a list of the area of the individual farmer. It can be calculated by yield map by adressing an indicidual block. \n",
    "ie.yield_map(lulc_matrix[np.ix_([*list of pixels 0 to 39*],[*list of pixel 0 to 39*])])\n",
    "\\\\<product>_pp is a list of the prices calculated with profit_pp\n",
    "    \n",
    "the other arguments are the costs of landuse change. There are no approximations on marcos excel file but we agreed that it should cost something. I thought I'd ask marco next time about it. \n",
    "\n",
    "I made up this list it say:\n",
    "    \n",
    "     cf_to_nf = 0.5 \n",
    "    \n",
    "    nf_to_cf = 0.5\n",
    "    \n",
    "    s_to_c = 0.5\n",
    "    \n",
    "    s_to_nf = c_to_nf = 1 # must stay the same (brexit calculations for farmer)\n",
    "    \n",
    "    c_to_s = 0.5\n",
    "    \n",
    "    nf_to_s = -0.1   # assuming farmers can convert native forest to farmland but not commercial forest (sell wood)\n",
    "    \n",
    "    nf_to_c = 0.8 \n",
    "    \n",
    "These factors define on how profitable the land is on the first year with the new use. i.e. 0.5 means that it only has half the use. \n",
    "    \n",
    "For the mpney_pp_forester function it's the same.\n",
    "    \n",
    "subsidies is something that I thought could try to include the tax break for the native forests and the subsidies for the sheep farming. during brexit. That was before the taxation list. I think it could again simplify things. I ust set it to I think it could be something like 0.8.\n",
    "The tax-breaks might also not concern \"normal taxes\" but rather in regards to inheri"
   ]
  },
  {
   "cell_type": "code",
   "execution_count": 84,
   "metadata": {},
   "outputs": [],
   "source": [
    "def money_pp_farmer(round, tourism, teams, brexit, teamwork, area_sheep, area_cattle, area_c_forest, area_n_forest, sheep_pp, cattle_pp, n_forest_pp, c_forest_pp, nf_to_s, nf_to_c, s_to_c, s_to_nf, c_to_s, c_to_nf, subsidies, starting_capital):\n",
    "    if round == 0: \n",
    "        money = starting_capital\n",
    "    else:   \n",
    "         # costs of landscape change\n",
    "        try:\n",
    "            d_sheep = area_sheep[round] - area_sheep[round-1]\n",
    "        except: set_trace()\n",
    "        d_cattle = area_cattle[round] - area_cattle[round-1]\n",
    "        d_n_forest = area_n_forest[round] - area_n_forest[round-1] # necessary to potentially allow two changes (i.e. a rise or native forests and cattle on cost of sheep )\n",
    "        m_change = 0\n",
    "        m_brexit = 0\n",
    "        if d_n_forest < 0: \n",
    "            m_change += min([d_cattle, d_n_forest], key= abs)*nf_to_c*cattle_pp[round]\n",
    "            m_change += min([d_sheep, d_n_forest], key= abs)*nf_to_s*sheep_pp[round]\n",
    "        if d_sheep < 0:\n",
    "            m_change += min([d_cattle, d_sheep], key= abs)*s_to_c*cattle_pp[round]\n",
    "            m_change += min([d_sheep, d_n_forest], key= abs)*s_to_nf*n_forest_pp[round]\n",
    "        if d_cattle < 0:\n",
    "            m_change += min([d_cattle, d_sheep], key= abs)*c_to_s*sheep_pp[round]\n",
    "            m_change += min([d_cattle, d_n_forest], key= abs)*c_to_nf *n_forest_pp[round]\n",
    "        # money from the area\n",
    "        m_area = (area_sheep[round] * sheep_pp[round]) + (area_cattle[round] * cattle_pp[round])\n",
    "        if teamwork == True and teams > round:\n",
    "            m_teamwork = area_c_forest[round]*c_forest_pp[round] + area_n_forest[round]*n_forest_pp[round]\n",
    "        if brexit > round:\n",
    "            m_brexit = (subsidies-1)*(area_sheep[round] * sheep_pp[round])\n",
    "            if d_n_forest > 0:\n",
    "                m_brexit += d_n_forest * (subsidies-1)\n",
    "        m_tourism = tourism * m_area\n",
    "        # maybe return later on the performance of each landuse/industrie --> append() so that its easy to plot?\n",
    "        money = m_area + m_change + m_tourism + m_teamwork + brexit\n",
    "    \n",
    "    return money"
   ]
  },
  {
   "cell_type": "code",
   "execution_count": 85,
   "metadata": {},
   "outputs": [],
   "source": [
    "\n",
    "\n",
    "def money_pp_forester(round, tourism, teams, brexit, teamwork, area_sheep, area_c_forest, area_n_forest, sheep_pp, n_forest_pp, c_forest_pp, nf_to_cf, cf_to_nf, subsidies, starting_capital):\n",
    "\n",
    "# '''\n",
    "#     area_c_forest: number of pixel displaying commercial forest\n",
    "#     area_n_forest: number of pixel displaying native forest\n",
    "#     round: round of the game (starting at 0)\n",
    "# '''\n",
    "    if round == 0: \n",
    "        money = starting_capital\n",
    "    else:   \n",
    "        d_n_forest = area_n_forest[round] - area_n_forest[round-1] # necessary to potentially allow two changes (i.e. a rise or native forests and cattle on cost of sheep )\n",
    "        m_change = 0\n",
    "        m_brexit = 0\n",
    "        # ich habe momentan gemacht, dass man nur etwas verkleinern darf!\n",
    "        if d_n_forest < 0: \n",
    "            m_change += d_c_forest * nf_to_cf * c_forest_pp[round]\n",
    "        if d_n_forest > 0:\n",
    "            m_change += d_n_forest * cf_to_nf *n_forest_pp[round]\n",
    "        # money from the area\n",
    "        m_area = (area_n_forest[round] * n_forest_pp[round]) + ((area_c_forest[round] * c_forest_pp[round]))\n",
    "        if teamwork == True and teams > round:\n",
    "            m_teamwork = area_sheep[round]*sheep_pp[round]\n",
    "        if brexit > round:\n",
    "            if d_n_forest > 0:\n",
    "                m_brexit = d_n_forest * (subsidies-1) + (subsidies-1)*(area_sheep[round] * sheep_pp[round])\n",
    "        m_tourism = tourism * m_area\n",
    "        # maybe return later on the performance of each landuse/industrie --> append() so that its easy to plot?\n",
    "        money = m_area*t + m_change + m_tourism + m_teamwork + brexit\n",
    "    \n",
    "    return money"
   ]
  },
  {
   "cell_type": "code",
   "execution_count": null,
   "metadata": {},
   "outputs": [],
   "source": []
  },
  {
   "cell_type": "code",
   "execution_count": null,
   "metadata": {},
   "outputs": [
    {
     "name": "stdout",
     "output_type": "stream",
     "text": [
      "[]\n",
      "4\n"
     ]
    },
    {
     "ename": "IndexError",
     "evalue": "list index out of range",
     "output_type": "error",
     "traceback": [
      "\u001B[0;31m---------------------------------------------------------------------------\u001B[0m",
      "\u001B[0;31mIndexError\u001B[0m                                Traceback (most recent call last)",
      "\u001B[0;32m<ipython-input-21-deaf9b5580f3>\u001B[0m in \u001B[0;36m<module>\u001B[0;34m\u001B[0m\n\u001B[0;32m----> 1\u001B[0;31m \u001B[0ma\u001B[0m\u001B[0;34m,\u001B[0m\u001B[0mb\u001B[0m\u001B[0;34m,\u001B[0m\u001B[0mc\u001B[0m\u001B[0;34m,\u001B[0m\u001B[0md\u001B[0m \u001B[0;34m=\u001B[0m \u001B[0mmain\u001B[0m\u001B[0;34m(\u001B[0m\u001B[0mrounds\u001B[0m\u001B[0;34m,\u001B[0m \u001B[0mteams\u001B[0m\u001B[0;34m,\u001B[0m \u001B[0mbrexit\u001B[0m\u001B[0;34m,\u001B[0m \u001B[0mlulc_matrix\u001B[0m\u001B[0;34m,\u001B[0m \u001B[0mtourism_matrix\u001B[0m\u001B[0;34m,\u001B[0m \u001B[0mn_blocks\u001B[0m\u001B[0;34m,\u001B[0m \u001B[0mrows\u001B[0m\u001B[0;34m)\u001B[0m\u001B[0;34m\u001B[0m\u001B[0;34m\u001B[0m\u001B[0m\n\u001B[0m",
      "\u001B[0;32m<ipython-input-20-47949469d2b3>\u001B[0m in \u001B[0;36mmain\u001B[0;34m(rounds, teams, brexit, lulc_matrix, tourism_matrix, n_blocks, rows)\u001B[0m\n\u001B[1;32m    107\u001B[0m         \u001B[0;31m# activates the possibilitie for teamwork after a certain round\u001B[0m\u001B[0;34m\u001B[0m\u001B[0;34m\u001B[0m\u001B[0;34m\u001B[0m\u001B[0m\n\u001B[1;32m    108\u001B[0m         \u001B[0mmoney_fa1\u001B[0m \u001B[0;34m=\u001B[0m \u001B[0mmoney_pp_farmer\u001B[0m\u001B[0;34m(\u001B[0m\u001B[0mi\u001B[0m\u001B[0;34m,\u001B[0m \u001B[0mt\u001B[0m\u001B[0;34m,\u001B[0m \u001B[0mteams\u001B[0m\u001B[0;34m,\u001B[0m \u001B[0mbrexit\u001B[0m\u001B[0;34m,\u001B[0m \u001B[0mteam_work\u001B[0m\u001B[0;34m,\u001B[0m \u001B[0mfa1_sheep\u001B[0m\u001B[0;34m,\u001B[0m \u001B[0mfa1_cattle\u001B[0m\u001B[0;34m,\u001B[0m \u001B[0mfa1_c_forest\u001B[0m\u001B[0;34m,\u001B[0m \u001B[0mfa1_n_forest\u001B[0m\u001B[0;34m,\u001B[0m \u001B[0msheep_pp\u001B[0m\u001B[0;34m,\u001B[0m \u001B[0mcattle_pp\u001B[0m\u001B[0;34m,\u001B[0m \u001B[0mn_forest_pp\u001B[0m\u001B[0;34m,\u001B[0m \u001B[0mc_forest_pp\u001B[0m\u001B[0;34m,\u001B[0m \u001B[0mnf_to_s\u001B[0m\u001B[0;34m,\u001B[0m \u001B[0mnf_to_c\u001B[0m\u001B[0;34m,\u001B[0m \u001B[0ms_to_c\u001B[0m\u001B[0;34m,\u001B[0m \u001B[0ms_to_nf\u001B[0m\u001B[0;34m,\u001B[0m \u001B[0mc_to_s\u001B[0m\u001B[0;34m,\u001B[0m \u001B[0mc_to_nf\u001B[0m\u001B[0;34m,\u001B[0m \u001B[0msubsidies\u001B[0m\u001B[0;34m)\u001B[0m\u001B[0;34m\u001B[0m\u001B[0;34m\u001B[0m\u001B[0m\n\u001B[0;32m--> 109\u001B[0;31m         \u001B[0mmoney_fa2\u001B[0m \u001B[0;34m=\u001B[0m \u001B[0mmoney_pp_farmer\u001B[0m\u001B[0;34m(\u001B[0m\u001B[0mi\u001B[0m\u001B[0;34m,\u001B[0m \u001B[0mt\u001B[0m\u001B[0;34m,\u001B[0m \u001B[0mteams\u001B[0m\u001B[0;34m,\u001B[0m \u001B[0mbrexit\u001B[0m\u001B[0;34m,\u001B[0m \u001B[0mteam_work\u001B[0m\u001B[0;34m,\u001B[0m \u001B[0mfa2_sheep\u001B[0m\u001B[0;34m,\u001B[0m \u001B[0mfa2_cattle\u001B[0m\u001B[0;34m,\u001B[0m \u001B[0mfa2_c_forest\u001B[0m\u001B[0;34m,\u001B[0m \u001B[0mfa2_n_forest\u001B[0m\u001B[0;34m,\u001B[0m \u001B[0msheep_pp\u001B[0m\u001B[0;34m,\u001B[0m \u001B[0mcattle_pp\u001B[0m\u001B[0;34m,\u001B[0m \u001B[0mn_forest_pp\u001B[0m\u001B[0;34m,\u001B[0m \u001B[0mc_forest_pp\u001B[0m\u001B[0;34m,\u001B[0m \u001B[0mnf_to_s\u001B[0m\u001B[0;34m,\u001B[0m \u001B[0mnf_to_c\u001B[0m\u001B[0;34m,\u001B[0m \u001B[0ms_to_c\u001B[0m\u001B[0;34m,\u001B[0m \u001B[0ms_to_nf\u001B[0m\u001B[0;34m,\u001B[0m \u001B[0mc_to_s\u001B[0m\u001B[0;34m,\u001B[0m \u001B[0mc_to_nf\u001B[0m\u001B[0;34m,\u001B[0m \u001B[0msubsidies\u001B[0m\u001B[0;34m)\u001B[0m\u001B[0;34m\u001B[0m\u001B[0;34m\u001B[0m\u001B[0m\n\u001B[0m\u001B[1;32m    110\u001B[0m         \u001B[0mmoney_fo1\u001B[0m \u001B[0;34m=\u001B[0m \u001B[0mmoney_pp_forester\u001B[0m\u001B[0;34m(\u001B[0m\u001B[0mi\u001B[0m\u001B[0;34m,\u001B[0m \u001B[0mt\u001B[0m\u001B[0;34m,\u001B[0m \u001B[0mteams\u001B[0m\u001B[0;34m,\u001B[0m \u001B[0mbrexit\u001B[0m\u001B[0;34m,\u001B[0m \u001B[0mteam_work\u001B[0m\u001B[0;34m,\u001B[0m \u001B[0mfo1_sheep\u001B[0m\u001B[0;34m,\u001B[0m \u001B[0mfo1_c_forest\u001B[0m\u001B[0;34m,\u001B[0m \u001B[0mfo1_n_forest\u001B[0m\u001B[0;34m,\u001B[0m \u001B[0msheep_pp\u001B[0m\u001B[0;34m,\u001B[0m \u001B[0mn_forest_pp\u001B[0m\u001B[0;34m,\u001B[0m \u001B[0mc_forest_pp\u001B[0m\u001B[0;34m,\u001B[0m \u001B[0mnf_to_cf\u001B[0m\u001B[0;34m,\u001B[0m \u001B[0mcf_to_nf\u001B[0m\u001B[0;34m,\u001B[0m  \u001B[0msubsidies\u001B[0m\u001B[0;34m)\u001B[0m\u001B[0;34m\u001B[0m\u001B[0;34m\u001B[0m\u001B[0m\n\u001B[1;32m    111\u001B[0m         \u001B[0mmoney_fo2\u001B[0m \u001B[0;34m=\u001B[0m \u001B[0mmoney_pp_forester\u001B[0m\u001B[0;34m(\u001B[0m\u001B[0mi\u001B[0m\u001B[0;34m,\u001B[0m \u001B[0mt\u001B[0m\u001B[0;34m,\u001B[0m \u001B[0mteams\u001B[0m\u001B[0;34m,\u001B[0m \u001B[0mbrexit\u001B[0m\u001B[0;34m,\u001B[0m \u001B[0mteam_work\u001B[0m\u001B[0;34m,\u001B[0m \u001B[0mfo1_sheep\u001B[0m\u001B[0;34m,\u001B[0m \u001B[0mfo2_c_forest\u001B[0m\u001B[0;34m,\u001B[0m \u001B[0mfo2_n_forest\u001B[0m\u001B[0;34m,\u001B[0m \u001B[0msheep_pp\u001B[0m\u001B[0;34m,\u001B[0m \u001B[0mn_forest_pp\u001B[0m\u001B[0;34m,\u001B[0m \u001B[0mc_forest_pp\u001B[0m\u001B[0;34m,\u001B[0m \u001B[0mnf_to_cf\u001B[0m\u001B[0;34m,\u001B[0m \u001B[0mcf_to_nf\u001B[0m\u001B[0;34m,\u001B[0m  \u001B[0msubsidies\u001B[0m\u001B[0;34m)\u001B[0m\u001B[0;34m\u001B[0m\u001B[0;34m\u001B[0m\u001B[0m\n",
      "\u001B[0;32m<ipython-input-18-dd070187303c>\u001B[0m in \u001B[0;36mmoney_pp_farmer\u001B[0;34m(round, tourism, teams, brexit, teamwork, area_sheep, area_cattle, area_c_forest, area_n_forest, sheep_pp, cattle_pp, n_forest_pp, c_forest_pp, nf_to_s, nf_to_c, s_to_c, s_to_nf, c_to_s, c_to_nf, subsidies)\u001B[0m\n\u001B[1;32m      1\u001B[0m \u001B[0;32mdef\u001B[0m \u001B[0mmoney_pp_farmer\u001B[0m\u001B[0;34m(\u001B[0m\u001B[0mround\u001B[0m\u001B[0;34m,\u001B[0m \u001B[0mtourism\u001B[0m\u001B[0;34m,\u001B[0m \u001B[0mteams\u001B[0m\u001B[0;34m,\u001B[0m \u001B[0mbrexit\u001B[0m\u001B[0;34m,\u001B[0m \u001B[0mteamwork\u001B[0m\u001B[0;34m,\u001B[0m \u001B[0marea_sheep\u001B[0m\u001B[0;34m,\u001B[0m \u001B[0marea_cattle\u001B[0m\u001B[0;34m,\u001B[0m \u001B[0marea_c_forest\u001B[0m\u001B[0;34m,\u001B[0m \u001B[0marea_n_forest\u001B[0m\u001B[0;34m,\u001B[0m \u001B[0msheep_pp\u001B[0m\u001B[0;34m,\u001B[0m \u001B[0mcattle_pp\u001B[0m\u001B[0;34m,\u001B[0m \u001B[0mn_forest_pp\u001B[0m\u001B[0;34m,\u001B[0m \u001B[0mc_forest_pp\u001B[0m\u001B[0;34m,\u001B[0m \u001B[0mnf_to_s\u001B[0m\u001B[0;34m,\u001B[0m \u001B[0mnf_to_c\u001B[0m\u001B[0;34m,\u001B[0m \u001B[0ms_to_c\u001B[0m\u001B[0;34m,\u001B[0m \u001B[0ms_to_nf\u001B[0m\u001B[0;34m,\u001B[0m \u001B[0mc_to_s\u001B[0m\u001B[0;34m,\u001B[0m \u001B[0mc_to_nf\u001B[0m\u001B[0;34m,\u001B[0m \u001B[0msubsidies\u001B[0m\u001B[0;34m)\u001B[0m\u001B[0;34m:\u001B[0m\u001B[0;34m\u001B[0m\u001B[0;34m\u001B[0m\u001B[0m\n\u001B[1;32m      2\u001B[0m     \u001B[0;32mif\u001B[0m \u001B[0mround\u001B[0m \u001B[0;34m==\u001B[0m \u001B[0;36m0\u001B[0m\u001B[0;34m:\u001B[0m\u001B[0;34m\u001B[0m\u001B[0;34m\u001B[0m\u001B[0m\n\u001B[0;32m----> 3\u001B[0;31m         \u001B[0mmoney\u001B[0m \u001B[0;34m=\u001B[0m \u001B[0marea_sheep\u001B[0m\u001B[0;34m[\u001B[0m\u001B[0;36m0\u001B[0m\u001B[0;34m]\u001B[0m \u001B[0;34m*\u001B[0m \u001B[0msheep_pp\u001B[0m\u001B[0;34m[\u001B[0m\u001B[0;36m0\u001B[0m\u001B[0;34m]\u001B[0m\u001B[0;34m\u001B[0m\u001B[0;34m\u001B[0m\u001B[0m\n\u001B[0m\u001B[1;32m      4\u001B[0m     \u001B[0;32melse\u001B[0m\u001B[0;34m:\u001B[0m\u001B[0;34m\u001B[0m\u001B[0;34m\u001B[0m\u001B[0m\n\u001B[1;32m      5\u001B[0m          \u001B[0;31m# costs of landscape change\u001B[0m\u001B[0;34m\u001B[0m\u001B[0;34m\u001B[0m\u001B[0;34m\u001B[0m\u001B[0m\n",
      "\u001B[0;31mIndexError\u001B[0m: list index out of range"
     ]
    }
   ],
   "source": [
    "a,b,c,d = main(rounds, teams, brexit, lulc_matrix, tourism_matrix, n_blocks, rows)"
   ]
  },
  {
   "cell_type": "code",
   "execution_count": null,
   "metadata": {},
   "outputs": [],
   "source": []
  }
 ],
 "metadata": {
  "kernelspec": {
   "name": "pycharm-ba196790",
   "language": "python",
   "display_name": "PyCharm (gecm)"
  },
  "language_info": {
   "codemirror_mode": {
    "name": "ipython",
    "version": 3
   },
   "file_extension": ".py",
   "mimetype": "text/x-python",
   "name": "python",
   "nbconvert_exporter": "python",
   "pygments_lexer": "ipython3",
   "version": "3.7.3"
  }
 },
 "nbformat": 4,
 "nbformat_minor": 2
}