{
 "cells": [
  {
   "cell_type": "code",
   "execution_count": 1,
   "metadata": {},
   "outputs": [],
   "source": [
    "import numpy as np"
   ]
  },
  {
   "cell_type": "code",
   "execution_count": 2,
   "metadata": {},
   "outputs": [],
   "source": [
    "# create dummy matrix\n",
    "n_plots = 4\n",
    "rows = cols = 80\n",
    "\n",
    "plot_length = int(rows/n_plots)\n",
    "dummy_plot = np.ones(plot_length**2).reshape((plot_length, plot_length))\n",
    "A1 = dummy_plot\n",
    "A2 = dummy_plot * 2\n",
    "B1 = dummy_plot * 3\n",
    "B2 = dummy_plot * 4\n",
    "large_matrix = np.block([[A1, A2], [B1, B2]])\n",
    "large_dummy_matrix = np.ones_like(large_matrix)\n",
    "n = plot_length\n",
    "coef_matrix = np.array([[1, 2], [3, 4]])\n",
    "result = np.multiply(large_dummy_matrix, np.kron(coef_matrix, np.ones((n,n))))\n",
    "matrix_indizes = np.indices((n_plots, n_plots), dtype=\"uint8\") + 1\n",
    "row_indizes, column_indizes = matrix_indizes[0], matrix_indizes[1]\n",
    "plot_definition_matrix = np.char.add(row_indizes.astype(np.str), column_indizes.astype(np.str)).astype(np.uint8)\n",
    "dummy_playing_field_matrix = np.ones(shape=(rows, cols), dtype=np.uint8)\n",
    "large_plot_definition_matrix = np.multiply(\n",
    "    dummy_playing_field_matrix,\n",
    "    np.kron(plot_definition_matrix, np.ones(shape=(plot_length, plot_length)))\n",
    ")"
   ]
  },
  {
   "cell_type": "code",
   "execution_count": 3,
   "metadata": {},
   "outputs": [],
   "source": [
    "\n",
    "lulc_matrix = dummy_playing_field_matrix             # 80 x 80\n",
    "cooperation_matrix = dummy_playing_field_matrix      # 80 x 80\n",
    "plot_definition_matrix                               # 4 x 4\n",
    "tourism_matrix = plot_definition_matrix              # 4 x 4"
   ]
  },
  {
   "cell_type": "code",
   "execution_count": 5,
   "metadata": {},
   "outputs": [
    {
     "data": {
      "text/plain": [
       "array([[11, 12, 13, 14],\n",
       "       [21, 22, 23, 24],\n",
       "       [31, 32, 33, 34],\n",
       "       [41, 42, 43, 44]], dtype=uint8)"
      ]
     },
     "execution_count": 5,
     "metadata": {},
     "output_type": "execute_result"
    }
   ],
   "source": [
    "tourism_matrix"
   ]
  },
  {
   "cell_type": "code",
   "execution_count": 6,
   "metadata": {},
   "outputs": [],
   "source": [
    "\n",
    "def teamwork(cooperation_matrix):\n",
    "    \"\"\"\n",
    "    assumes four players.  if the four corner player say yes then it's true.\n",
    "\n",
    "    Args:\n",
    "        cooperation_matrix: a numpy matrix where the corner elements are a boolean that is true if the associated player wants teamwork.\n",
    "\n",
    "\n",
    "    Returns:\n",
    "        a boolean - true if each corner player wants teamwork.\n",
    "    \"\"\"\n",
    "    teamwork = False\n",
    "    row, col = cooperation_matrix.shape\n",
    "    if (\n",
    "        cooperation_matrix[0][0]\n",
    "        == cooperation_matrix[0][col - 1]\n",
    "        == cooperation_matrix[col - 1][0]\n",
    "        == cooperation_matrix[col - 1][col - 1]\n",
    "        == True\n",
    "    ):\n",
    "        teamwork = True\n",
    "    return teamwork\n"
   ]
  },
  {
   "cell_type": "code",
   "execution_count": 7,
   "metadata": {},
   "outputs": [
    {
     "data": {
      "text/plain": [
       "True"
      ]
     },
     "execution_count": 7,
     "metadata": {},
     "output_type": "execute_result"
    }
   ],
   "source": [
    "teamwork(cooperation_matrix)"
   ]
  },
  {
   "cell_type": "code",
   "execution_count": 8,
   "metadata": {},
   "outputs": [],
   "source": [
    "\n",
    "def unemployment_rate(earning, earning_new, unemployment):\n",
    "    '''\n",
    "    Args:\n",
    "        earning:          how much money the player earned last round\n",
    "        earning_new:      how much money the player earned this round\n",
    "        unemployment:   unemployment rate of the player had last round\n",
    "\n",
    "    Returns:            unemployment rate of the player has this round\n",
    "\n",
    "    '''\n",
    "    # based on okuns law  \n",
    "    delta_unemployment = ((earning-earning_new)/earning)/1.8 \n",
    "    new_unemployment = max(0,unemployment + delta_unemployment)\n",
    "    \n",
    "    return new_unemployment\n",
    "\n",
    "# get the total yield for the current map\n",
    "# not sure why this is necessary - the yield map function calculates the number of pixel for a matrix with values of simplified_lulc_mapping\n"
   ]
  },
  {
   "cell_type": "code",
   "execution_count": 9,
   "metadata": {},
   "outputs": [],
   "source": [
    "unempl = unemployment_rate(2500, 2400, 0.05)"
   ]
  },
  {
   "cell_type": "code",
   "execution_count": 10,
   "metadata": {},
   "outputs": [
    {
     "data": {
      "text/plain": [
       "0.07222222222222223"
      ]
     },
     "execution_count": 10,
     "metadata": {},
     "output_type": "execute_result"
    }
   ],
   "source": [
    "unempl"
   ]
  },
  {
   "cell_type": "code",
   "execution_count": 11,
   "metadata": {},
   "outputs": [
    {
     "data": {
      "text/plain": [
       "1.777777777777778"
      ]
     },
     "execution_count": 11,
     "metadata": {},
     "output_type": "execute_result"
    }
   ],
   "source": [
    "3.2/1.8"
   ]
  },
  {
   "cell_type": "code",
   "execution_count": 12,
   "metadata": {},
   "outputs": [],
   "source": [
    "def yield_map(field):\n",
    "    '''\n",
    "    Args:\n",
    "        field:  a matrix with values corresponding to simplified_lulc_mapping\n",
    "    Returns:    the number of pixel for each value of simplified_lulc_mapping\n",
    "\n",
    "    '''\n",
    "\n",
    "    tot_cattle = np.count_nonzero(field == simplified_lulc_mapping['Cattle Farming'])\n",
    "    tot_sheep = np.count_nonzero(field == simplified_lulc_mapping['Sheep Farming'])\n",
    "    tot_n_forest = np.count_nonzero(field == simplified_lulc_mapping['Commercial Forest'])\n",
    "    tot_c_forest = np.count_nonzero(field == simplified_lulc_mapping['Cattle Farming'])\n",
    "    return tot_cattle, tot_sheep, tot_n_forest, tot_c_forest\n",
    "\n",
    "simplified_lulc_mapping = {\n",
    "    \"Sheep Farming\": 1,\n",
    "    \"Native Forest\": 2,\n",
    "    \"Commercial Forest\": 3,\n",
    "    \"Cattle Farming\": 4,\n",
    "}"
   ]
  },
  {
   "cell_type": "code",
   "execution_count": 13,
   "metadata": {},
   "outputs": [],
   "source": [
    "c,s,n,c = yield_map (lulc_matrix)"
   ]
  },
  {
   "cell_type": "code",
   "execution_count": 14,
   "metadata": {},
   "outputs": [
    {
     "data": {
      "text/plain": [
       "6400"
      ]
     },
     "execution_count": 14,
     "metadata": {},
     "output_type": "execute_result"
    }
   ],
   "source": [
    "s"
   ]
  },
  {
   "cell_type": "code",
   "execution_count": 15,
   "metadata": {},
   "outputs": [],
   "source": [
    "m, n = tourism_matrix.shape"
   ]
  },
  {
   "cell_type": "code",
   "execution_count": 16,
   "metadata": {},
   "outputs": [],
   "source": [
    "def tourism(tourism_matrix, gdp_tourism):\n",
    "    '''\n",
    "    Args:\n",
    "        tourism_matrix:     part of lulc mapping in which tourism takes place (20x20)\n",
    "    Returns: number of tourists and a factor \"tourism\" that improves earnings.\n",
    "    '''\n",
    "\n",
    "    cattle, sheep, n_forest, c_forest = yield_map(tourism_matrix)\n",
    "    sum = cattle + sheep + n_forest + c_forest\n",
    "    m, n = tourism_matrix.shape\n",
    "    sum = max(sum, m*n) # that line was added for testing- it is needed because tourism_matrix isn't part of lulc_matrix\n",
    "\n",
    "    number_tourists = sheep * 2 + n_forest * 3 - c_forest * 5\n",
    "    # a minimum number of tourits always find their way\n",
    "    number_tourists = max(number_tourists, sum * 0.75)\n",
    "    # no more increased sale - tourists start thinking this is too expensive and full\n",
    "    tourism_factor = min(number_tourists/sum, 1 + gdp_tourism/100)\n",
    "    #beach bonus\n",
    "    if sum < m**2 - 10:\n",
    "        tourism_factor = max(0.95, tourism_factor*1.2)\n",
    "    return number_tourists, tourism_factor\n",
    "\n"
   ]
  },
  {
   "cell_type": "code",
   "execution_count": 17,
   "metadata": {},
   "outputs": [],
   "source": [
    "nt, tf = tourism(tourism_matrix, 40)"
   ]
  },
  {
   "cell_type": "code",
   "execution_count": 18,
   "metadata": {},
   "outputs": [
    {
     "data": {
      "text/plain": [
       "12.0"
      ]
     },
     "execution_count": 18,
     "metadata": {},
     "output_type": "execute_result"
    }
   ],
   "source": [
    "nt"
   ]
  },
  {
   "cell_type": "code",
   "execution_count": 19,
   "metadata": {},
   "outputs": [
    {
     "data": {
      "text/plain": [
       "0.75"
      ]
     },
     "execution_count": 19,
     "metadata": {},
     "output_type": "execute_result"
    }
   ],
   "source": [
    "tf"
   ]
  },
  {
   "cell_type": "code",
   "execution_count": 20,
   "metadata": {},
   "outputs": [],
   "source": [
    "def crop_field(field):\n",
    "    \"\"\"\n",
    "    Devides an 2D numpy array of quadratric form into four parts.\n",
    "    Args:\n",
    "        field: a 2D array\n",
    "\n",
    "    Returns: 4 2d arrays of 1/4 the size\n",
    "\n",
    "    \"\"\"\n",
    "    m, n = field.shape\n",
    "    indices1 = list(range(0, int(n / 2)))\n",
    "    indices2 = list(range(int(n / 2), n))\n",
    "    fa1 = field[np.ix_(indices1, indices1)]\n",
    "    fo1 = field[np.ix_(indices2, indices1)]\n",
    "    fa2 = field[np.ix_(indices1, indices2)]\n",
    "    fo2 = field[np.ix_(indices2, indices2)]\n",
    "    return fa1, fa2, fo1, fo2\n"
   ]
  },
  {
   "cell_type": "code",
   "execution_count": 21,
   "metadata": {},
   "outputs": [],
   "source": [
    "fa1, fa2, fo1, fo2 = crop_field(lulc_matrix)"
   ]
  },
  {
   "cell_type": "code",
   "execution_count": 22,
   "metadata": {},
   "outputs": [
    {
     "data": {
      "text/plain": [
       "(40, 40)"
      ]
     },
     "execution_count": 22,
     "metadata": {},
     "output_type": "execute_result"
    }
   ],
   "source": [
    "fa1.shape"
   ]
  },
  {
   "cell_type": "code",
   "execution_count": 23,
   "metadata": {},
   "outputs": [],
   "source": [
    "SUBSIDIES = 0.8"
   ]
  },
  {
   "cell_type": "code",
   "execution_count": 24,
   "metadata": {},
   "outputs": [],
   "source": [
    "\n",
    "# adapt the prices\n",
    "def price_per_pixel(\n",
    "    current_round,\n",
    "    brexit,\n",
    "    tot_sheep_0,\n",
    "    tot_cattle,\n",
    "    tot_n_forest,\n",
    "    tot_c_forest,\n",
    "    income_farmland_cattle,\n",
    "    income_farmland_sheep,\n",
    "    income_forest_native,\n",
    "    income_forest_commercial,\n",
    "\n",
    "):\n",
    "    \"\"\"\n",
    "    calculates current prices depending on demand based on an estimate on what's produced in the beginning.\n",
    "    Args:\n",
    "        current_round:                  timeline of the game\n",
    "        brexit:                         time at which brexit happens\n",
    "        tot_c_forest_0:                 total amount of pixel at the start\n",
    "        tot_n_forest_0:\n",
    "        tot_sheep_0\n",
    "                                        \n",
    "        tot_cattle:                     total amount of pixel for each the current round\n",
    "        tot_n_forest:\n",
    "        tot_c_forest:\n",
    "       \n",
    "        income_farmland_cattle,\n",
    "        income_farmland_sheep,\n",
    "        income_forest_native,\n",
    "        income_forest_commercial,\n",
    "    Returns: the price of the current round for cattle, sheep, native forest and commercial forest\n",
    "\n",
    "    \"\"\"\n",
    "    # doesn't take tourism_factor effects into account yet. and the equations are pretty random.\n",
    "    cattle_price_new = income_farmland_cattle + (tot_cattle/(income_farmland_cattle/income_farmland_sheep)/tot_sheep_0)*(income_farmland_sheep-income_farmland_cattle)\n",
    "    sheep_price_new = income_farmland_sheep  # assume sheep can go everywhere, eat everything and no degradation and its profit only influences cattle by competition\n",
    "    c_forest_price_new = income_forest_commercial + tot_c_forest /(income_forest_commercial/income_forest_native)/(tot_n_forest+tot_c_forest)*(income_forest_native - income_forest_commercial)\n",
    "    n_forest_price_new = income_forest_native  # assumes native forest can grow everywhere and its profit only influences the commercial forest through competition in the timber market\n",
    "\n",
    "    if brexit > current_round:\n",
    "        n_forest_price_new = n_forest_price_new/(1+SUBSIDIES)*2  # less import of wood.\n",
    "        c_forest_price_new = c_forest_price_new/SUBSIDIES\n",
    "\n",
    "    return cattle_price_new, sheep_price_new, n_forest_price_new, c_forest_price_new\n"
   ]
  },
  {
   "cell_type": "code",
   "execution_count": 25,
   "metadata": {},
   "outputs": [],
   "source": [
    "c, s, n, cf = price_per_pixel(2,3,40,10,10,10,100,30,50,200)"
   ]
  },
  {
   "cell_type": "code",
   "execution_count": 26,
   "metadata": {},
   "outputs": [
    {
     "data": {
      "text/plain": [
       "55.55555555555556"
      ]
     },
     "execution_count": 26,
     "metadata": {},
     "output_type": "execute_result"
    }
   ],
   "source": [
    "n"
   ]
  },
  {
   "cell_type": "code",
   "execution_count": 27,
   "metadata": {},
   "outputs": [],
   "source": [
    "LANDUSE_CHANGE = 0.25\n",
    "COSTS_LANDUSE_CHANGE = 10\n"
   ]
  },
  {
   "cell_type": "code",
   "execution_count": 28,
   "metadata": {},
   "outputs": [],
   "source": [
    "\n",
    "def money_farmer(\n",
    "    current_round,\n",
    "    tourism_factor,\n",
    "    teams,\n",
    "    brexit,\n",
    "    teamwork,\n",
    "    area_sheep,\n",
    "    area_cattle,\n",
    "    area_c_forest,\n",
    "    area_n_forest,\n",
    "    sheep_price,\n",
    "    cattle_price,\n",
    "    n_forest_price,\n",
    "    c_forest_price,\n",
    "    bank_account_farmer_1,\n",
    "    bank,\n",
    "    gdp_pc_scotland, \n",
    "):\n",
    "\n",
    "    \n",
    "    if current_round == 0:\n",
    "        earning = gdp_pc_scotland\n",
    "        bank_current = bank_account_farmer_1\n",
    "    else:\n",
    "        # costs of landscape change\n",
    "        try:\n",
    "            d_sheep = area_sheep[current_round] - area_sheep[current_round - 1]\n",
    "        except:\n",
    "            pass\n",
    "        d_cattle = area_cattle[current_round] - area_cattle[current_round - 1]\n",
    "        d_n_forest = (\n",
    "            area_n_forest[current_round] - area_n_forest[current_round - 1]\n",
    "        )  # necessary to potentially allow two changes (i.e. a rise or native forests and cattle on cost of sheep )\n",
    "        m_change = 0\n",
    "        m_brexit = 0\n",
    "        m_teamwork = 0\n",
    "        if d_n_forest < 0:\n",
    "            m_change += (\n",
    "                min([d_cattle, d_n_forest], key=abs)\n",
    "                * LANDUSE_CHANGE\n",
    "                * cattle_price[current_round]\n",
    "            )\n",
    "            m_change += (\n",
    "                min([d_sheep, d_n_forest], key=abs) * LANDUSE_CHANGE * sheep_price[current_round]\n",
    "            )\n",
    "        if d_sheep < 0:\n",
    "            m_change += (\n",
    "                min([d_cattle, d_sheep], key=abs) * LANDUSE_CHANGE * cattle_price[current_round]\n",
    "            )\n",
    "            m_change += (\n",
    "                min([d_sheep, d_n_forest], key=abs)\n",
    "                * LANDUSE_CHANGE\n",
    "                * n_forest_price[current_round]\n",
    "            )\n",
    "        if d_cattle < 0:\n",
    "            m_change += (\n",
    "                min([d_cattle, d_sheep], key=abs) * LANDUSE_CHANGE * sheep_price[current_round]\n",
    "            )\n",
    "            m_change += (\n",
    "                min([d_cattle, d_n_forest], key=abs)\n",
    "                * LANDUSE_CHANGE\n",
    "                * n_forest_price[current_round]\n",
    "            )\n",
    "        # earning from the area\n",
    "        m_area = (area_sheep[current_round] * sheep_price[current_round]) + (\n",
    "            area_cattle[current_round] * cattle_price[current_round]\n",
    "        )\n",
    "        #divided by 10 to reduce that profit\n",
    "        if teamwork == True and teams <= current_round:\n",
    "            m_teamwork = (\n",
    "                area_c_forest[current_round] * c_forest_price[current_round]/10\n",
    "                + area_n_forest[current_round] * n_forest_price[current_round]/10\n",
    "            )\n",
    "        if brexit <= current_round:\n",
    "            m_brexit = (SUBSIDIES - 1) * (area_sheep[current_round] * sheep_price[current_round])\n",
    "\n",
    "        m_tourism = tourism_factor * m_area - m_area\n",
    "\n",
    "        earning = (m_area + m_change + m_tourism + m_teamwork + m_brexit)*gdp_pc_scotland/(50*(area_sheep[current_round]+area_cattle[current_round]))\n",
    "\n",
    "        bank_current = bank - (d_cattle + d_n_forest + d_sheep)/2*COSTS_LANDUSE_CHANGE + earning - gdp_pc_scotland\n",
    "    return earning, bank_current, m_area, m_change, m_tourism, m_brexit, m_teamwork"
   ]
  },
  {
   "cell_type": "code",
   "execution_count": 29,
   "metadata": {},
   "outputs": [
    {
     "data": {
      "text/plain": [
       "(31650.0, 2660.0, 400, -160.0, 80.0, -79.99999999999999, 182.0)"
      ]
     },
     "execution_count": 29,
     "metadata": {},
     "output_type": "execute_result"
    }
   ],
   "source": [
    "money_farmer(\n",
    "    current_round = 2,\n",
    "    tourism_factor = 1.2,\n",
    "    teams=1,\n",
    "    brexit=1,\n",
    "    teamwork=True,\n",
    "    area_sheep=[6,2,8],\n",
    "    area_cattle=[2,6,0],\n",
    "    area_c_forest=[5,7,9],\n",
    "    area_n_forest=[5,3,1],\n",
    "    sheep_price=[3,3,50],\n",
    "    cattle_price=[3,3,100],\n",
    "    n_forest_price=[3,3,20],\n",
    "    c_forest_price=[3,3,200],\n",
    "    bank_account_farmer_1=1000,\n",
    "    bank=1000,\n",
    "    gdp_pc_scotland= 30000, \n",
    ")"
   ]
  },
  {
   "cell_type": "code",
   "execution_count": 30,
   "metadata": {},
   "outputs": [],
   "source": [
    "#if d_n_forest > 0:\n",
    "#    m_brexit += d_n_forest * (SUBSIDIES - 1)"
   ]
  },
  {
   "cell_type": "code",
   "execution_count": 31,
   "metadata": {},
   "outputs": [],
   "source": [
    "def money_forester(\n",
    "    current_round,\n",
    "    tourism_factor,\n",
    "    teams,\n",
    "    brexit,\n",
    "    teamwork,\n",
    "    area_sheep,\n",
    "    area_c_forest,\n",
    "    area_n_forest,\n",
    "    sheep_price,\n",
    "    n_forest_price,\n",
    "    c_forest_price,\n",
    "    bank_account_forestry_1,\n",
    "    bank,\n",
    "    gdp_pc_scotland\n",
    "):\n",
    "    '''\n",
    "\n",
    "    Args:\n",
    "        current_round:\n",
    "        tourism_factor:             tourism_factor (from tourism function\n",
    "        teams:                      in which round are teams allowed\n",
    "        brexit:                     in which round does brexit happen - doesn't include higher timber prices here. \n",
    "        teamwork:                   is teamwork true or false\n",
    "        area_sheep:                 number of pixel with the respective landuse\n",
    "        area_cattle:\n",
    "        area_c_forest:\n",
    "        area_n_forest:\n",
    "        sheep_price:                list of prices\n",
    "        cattle_price:\n",
    "        n_forest_price:\n",
    "        c_forest_price:\n",
    "        bank_account_farmer_1:      assumes same bank_account at the begining for both farmer\n",
    "        bank:                       how much money is in the bank-account (in round 0 bank_account_farmer_1\n",
    "        gdp_pc_scotland:\n",
    "\n",
    "    Returns:                        earnings and bank-account\n",
    "\n",
    "    '''\n",
    "\n",
    "    if current_round == 0:\n",
    "        earning = gdp_pc_scotland\n",
    "        bank_current = bank_account_forestry_1\n",
    "    else:\n",
    "        d_n_forest = (\n",
    "            area_n_forest[current_round] - area_n_forest[current_round - 1]\n",
    "        )  # necessary to potentially allow two changes (i.e. a rise or native forests and cattle on cost of sheep )\n",
    "        m_change = 0\n",
    "        m_brexit = 0\n",
    "        m_teamwork = 0\n",
    "        # ich habe momentan gemacht, dass man nur etwas verkleinern darf!\n",
    "        if d_n_forest < 0:\n",
    "            m_change += d_n_forest * LANDUSE_CHANGE * c_forest_price[current_round]\n",
    "        if d_n_forest > 0:\n",
    "            m_change += d_n_forest * LANDUSE_CHANGE * n_forest_price[current_round]\n",
    "        # earning from the area\n",
    "        m_area = (area_n_forest[current_round] * n_forest_price[current_round]) + (\n",
    "            (area_c_forest[current_round] * c_forest_price[current_round])\n",
    "        )\n",
    "        if teamwork == True and teams <= current_round:\n",
    "            m_teamwork = area_sheep[current_round] * sheep_price[current_round]\n",
    "            \n",
    "        \n",
    "        if brexit <= current_round:\n",
    "            if d_n_forest > 0:\n",
    "                m_brexit = d_n_forest * (SUBSIDIES - 1) \n",
    "            m_brexit += (SUBSIDIES - 1) * (area_sheep[current_round] * sheep_price[current_round])\n",
    "            \n",
    "        m_tourism_factor = tourism_factor * m_area\n",
    "        # maybe return later on the performance of each landuse/industrie --> append() so that its easy to plot?\n",
    "        # has to make more - maybe beacause he has less land? has still much more...\n",
    "        earning = (m_area + m_change + m_tourism_factor + m_teamwork + m_brexit)*gdp_pc_scotland/(100*(area_n_forest[current_round]+area_c_forest[current_round]))\n",
    "        bank_current = bank - abs(d_n_forest)*COSTS_LANDUSE_CHANGE + earning - gdp_pc_scotland\n",
    "\n",
    "    return earning, bank_current#, m_area, m_change, m_tourism_factor, m_teamwork, m_brexit\n"
   ]
  },
  {
   "cell_type": "code",
   "execution_count": 32,
   "metadata": {},
   "outputs": [
    {
     "data": {
      "text/plain": [
       "(82488.0, 53468.0)"
      ]
     },
     "execution_count": 32,
     "metadata": {},
     "output_type": "execute_result"
    }
   ],
   "source": [
    "money_forester(\n",
    "    current_round = 2,\n",
    "    tourism_factor = 1.2,\n",
    "    teams=1,\n",
    "    brexit=1,\n",
    "    teamwork=True,\n",
    "    area_sheep=[6,2,8],\n",
    "    area_c_forest=[5,7,5],\n",
    "    area_n_forest=[5,3,5],\n",
    "    sheep_price=[3,3,50],\n",
    "    n_forest_price=[3,3,20],\n",
    "    c_forest_price=[3,3,200],\n",
    "    bank_account_forestry_1=1000,\n",
    "    bank=1000,\n",
    "    gdp_pc_scotland= 30000, \n",
    ")"
   ]
  },
  {
   "cell_type": "code",
   "execution_count": 33,
   "metadata": {},
   "outputs": [],
   "source": [
    "\n",
    "# maps = {}\n",
    "# maps[\"round_0\"] = sumplified_maps\n",
    "#new_simplified_map = ...\n",
    "#map[\"round_2\"]= new_simplified_map\n",
    "#field.simplified_maps[\"roudn_2\"]\n",
    "\n",
    "# assumes four players only / if the four corner player say yes then it's true.\n",
    "\n",
    "#field.map_simplified\n",
    "# cm = ConceptualModel()\n",
    "#cm.bank_accound_farmer1[\"roudn:2\"]\n",
    "#game_model.model_parameters.loc[5, value]\n",
    "#game_model.bank_account_farmers1[\"round_1\"]\n"
   ]
  },
  {
   "cell_type": "code",
   "execution_count": null,
   "metadata": {},
   "outputs": [],
   "source": []
  }
 ],
 "metadata": {
  "kernelspec": {
   "display_name": "Python 3",
   "language": "python",
   "name": "python3"
  },
  "language_info": {
   "codemirror_mode": {
    "name": "ipython",
    "version": 3
   },
   "file_extension": ".py",
   "mimetype": "text/x-python",
   "name": "python",
   "nbconvert_exporter": "python",
   "pygments_lexer": "ipython3",
   "version": "3.8.6"
  }
 },
 "nbformat": 4,
 "nbformat_minor": 4
}
