{
 "cells": [
  {
   "cell_type": "markdown",
   "metadata": {
    "collapsed": true,
    "pycharm": {
     "name": "#%% md\n"
    }
   },
   "source": [
    "# Data structure interface and matrix algebra examples\n",
    "Felix Zaussinger | 13.11.2020\n",
    "\n",
    "## Core Analysis Goal(s)\n",
    "1. Settle for a data structure that can well represent the playing field at all times of the game.\n",
    "2. Find a suitable data structure for defining the \"plots\" or \"blocks\" on which\n",
    "players can manage their land\n",
    "3. Define the interface: what are the dimensions (x, y, z)\n",
    "\n",
    "## Key Insight(s)\n",
    "1. Numpy masked arrays (np.ma) are perfectly fine. We should use those.\n",
    "2. A simple numpy function (np.block) may be enough to work with these blocks\n",
    "\n",
    "## Explanations\n",
    "1. Matrix Algebra >> Python for-loops\n",
    "2. Python itself can be quite slow, which is why numpy is written in a lower-level\n",
    "language (C). If you use the numpy matrix computations, for-loops still need to be\n",
    "used to calculate things, but they will be executed in C, which is MUCH faster.\n",
    "This is the crucial difference. Does not matter much for 80 x 80 matrix,\n",
    "but I would wish to not close the door to being able to the game on a 800 x 800\n",
    "matrix as well! (:"
   ]
  },
  {
   "cell_type": "code",
   "execution_count": 8,
   "outputs": [
    {
     "name": "stdout",
     "output_type": "stream",
     "text": [
      "The autoreload extension is already loaded. To reload it, use:\n",
      "  %reload_ext autoreload\n"
     ]
    }
   ],
   "source": [
    "import os\n",
    "import numpy as np\n",
    "import numpy.ma as ma\n",
    "\n",
    "%load_ext autoreload\n",
    "%autoreload 2\n",
    "\n",
    "import matplotlib as mpl\n",
    "import matplotlib.pyplot as plt\n",
    "%matplotlib inline\n",
    "%config InlineBackend.figure_format = 'retina'\n",
    "\n",
    "import seaborn as sns\n",
    "sns.set_context(\"poster\")\n",
    "sns.set(rc={'figure.figsize': (16, 9.)})\n",
    "sns.set_style(\"ticks\")\n",
    "\n",
    "import pandas as pd\n",
    "pd.set_option(\"display.max_rows\", 120)\n",
    "pd.set_option(\"display.max_columns\", 120)"
   ],
   "metadata": {
    "collapsed": false,
    "pycharm": {
     "name": "#%%\n"
    }
   }
  },
  {
   "cell_type": "markdown",
   "source": [
    "Define matrix size"
   ],
   "metadata": {
    "collapsed": false
   }
  },
  {
   "cell_type": "code",
   "execution_count": 21,
   "outputs": [],
   "source": [
    "n_plots = 4\n",
    "rows = cols = 80\n",
    "\n",
    "# check if playing field size and plot number works together\n",
    "try:\n",
    "    # modulo must be zero\n",
    "    assert rows % n_plots == 0\n",
    "except AssertionError as e:\n",
    "    print(\"playing field size and plot number dont work together. field size must be divideable by plot number without rest.\")"
   ],
   "metadata": {
    "collapsed": false,
    "pycharm": {
     "name": "#%%\n"
    }
   }
  },
  {
   "cell_type": "markdown",
   "source": [
    "Create a dummy block matrix (suggestions for a different, maybe clearer synonym for plot)"
   ],
   "metadata": {
    "collapsed": false,
    "pycharm": {
     "name": "#%% md\n"
    }
   }
  },
  {
   "cell_type": "code",
   "execution_count": 29,
   "outputs": [
    {
     "data": {
      "text/plain": "(20, 20)"
     },
     "execution_count": 29,
     "metadata": {},
     "output_type": "execute_result"
    }
   ],
   "source": [
    "block_length = int(rows/n_plots)\n",
    "block_dummy = np.ones(block_length**2).reshape((block_length, block_length))\n",
    "block_dummy.shape"
   ],
   "metadata": {
    "collapsed": false,
    "pycharm": {
     "name": "#%%\n"
    }
   }
  },
  {
   "cell_type": "markdown",
   "source": [
    "Create a few meaningful block matrixes\n",
    "\n",
    "Example matrix:\n",
    "\n",
    "  1 2\n",
    "\n",
    "A x y\n",
    "\n",
    "B z x"
   ],
   "metadata": {
    "collapsed": false,
    "pycharm": {
     "name": "#%% md\n"
    }
   }
  },
  {
   "cell_type": "code",
   "execution_count": 30,
   "outputs": [],
   "source": [
    "A1 = block_dummy\n",
    "A2 = block_dummy * 2\n",
    "B1 = block_dummy * 3\n",
    "B2 = block_dummy * 4"
   ],
   "metadata": {
    "collapsed": false,
    "pycharm": {
     "name": "#%%\n"
    }
   }
  },
  {
   "cell_type": "markdown",
   "source": [
    "Create a bigger (40 x 40) matrix from the 4 smaller block matrices"
   ],
   "metadata": {
    "collapsed": false,
    "pycharm": {
     "name": "#%% md\n"
    }
   }
  },
  {
   "cell_type": "code",
   "execution_count": 31,
   "outputs": [
    {
     "data": {
      "text/plain": "array([[1., 1., 1., ..., 2., 2., 2.],\n       [1., 1., 1., ..., 2., 2., 2.],\n       [1., 1., 1., ..., 2., 2., 2.],\n       ...,\n       [3., 3., 3., ..., 4., 4., 4.],\n       [3., 3., 3., ..., 4., 4., 4.],\n       [3., 3., 3., ..., 4., 4., 4.]])"
     },
     "execution_count": 31,
     "metadata": {},
     "output_type": "execute_result"
    }
   ],
   "source": [
    "large_matrix = np.block([[A1, A2], [B1, B2]])\n",
    "large_matrix"
   ],
   "metadata": {
    "collapsed": false,
    "pycharm": {
     "name": "#%%\n"
    }
   }
  },
  {
   "cell_type": "code",
   "execution_count": 32,
   "outputs": [
    {
     "data": {
      "text/plain": "(40, 40)"
     },
     "execution_count": 32,
     "metadata": {},
     "output_type": "execute_result"
    }
   ],
   "source": [
    "large_matrix.shape\n"
   ],
   "metadata": {
    "collapsed": false,
    "pycharm": {
     "name": "#%%\n"
    }
   }
  }
 ],
 "metadata": {
  "kernelspec": {
   "display_name": "Python 3",
   "language": "python",
   "name": "python3"
  },
  "language_info": {
   "codemirror_mode": {
    "name": "ipython",
    "version": 2
   },
   "file_extension": ".py",
   "mimetype": "text/x-python",
   "name": "python",
   "nbconvert_exporter": "python",
   "pygments_lexer": "ipython2",
   "version": "2.7.6"
  }
 },
 "nbformat": 4,
 "nbformat_minor": 0
}