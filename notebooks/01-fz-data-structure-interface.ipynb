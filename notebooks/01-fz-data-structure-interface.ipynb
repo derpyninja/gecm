{
 "cells": [
  {
   "cell_type": "markdown",
   "metadata": {
    "collapsed": true,
    "pycharm": {
     "name": "#%% md\n"
    }
   },
   "source": [
    "# Data structure interface and matrix algebra examples\n",
    "Felix Zaussinger | 13.11.2020\n",
    "\n",
    "## Core Analysis Goal(s)\n",
    "1. Settle for a data structure that can well represent the playing field at all times of the game.\n",
    "2. Find a suitable data structure for defining the \"plots\" or \"blocks\" on which\n",
    "players can manage their land\n",
    "3. Define the interface: what are the dimensions (x, y, z)\n",
    "\n",
    "## Key Insight(s)\n",
    "1. Numpy masked arrays (np.ma) are perfectly fine. We should use those.\n",
    "2. A simple numpy function (np.block) may be enough to work with these blocks\n",
    "\n",
    "## Explanations\n",
    "1. in python, numpy matrix algebra should always be preferred to hard-coded for-loops\n",
    "2. Python itself can be quite slow, which is why numpy is written in a lower-level\n",
    "languages (i think the most prominent one is written in C). If you use the numpy matrix computations, for-loops still need to be\n",
    "used to calculate things, but they will be executed in C, which is MUCH faster.\n",
    "This is the crucial difference. Does not matter much for 80 x 80 matrix,\n",
    "but I would wish to not close the door to being able to the game on a 800 x 800\n",
    "matrix as well! (:"
   ]
  },
  {
   "cell_type": "code",
   "execution_count": 46,
   "outputs": [
    {
     "name": "stdout",
     "output_type": "stream",
     "text": [
      "The autoreload extension is already loaded. To reload it, use:\n",
      "  %reload_ext autoreload\n"
     ]
    }
   ],
   "source": [
    "import os\n",
    "import numpy as np\n",
    "import numpy.ma as ma\n",
    "\n",
    "%load_ext autoreload\n",
    "%autoreload 2\n",
    "\n",
    "import matplotlib as mpl\n",
    "import matplotlib.pyplot as plt\n",
    "%matplotlib inline\n",
    "%config InlineBackend.figure_format = 'retina'\n",
    "\n",
    "import seaborn as sns\n",
    "sns.set_context(\"poster\")\n",
    "sns.set(rc={'figure.figsize': (16, 9.)})\n",
    "sns.set_style(\"ticks\")\n",
    "\n",
    "import pandas as pd\n",
    "pd.set_option(\"display.max_rows\", 120)\n",
    "pd.set_option(\"display.max_columns\", 120)"
   ],
   "metadata": {
    "collapsed": false,
    "pycharm": {
     "name": "#%%\n"
    }
   }
  },
  {
   "cell_type": "markdown",
   "source": [
    "Define size of playing field as a function of the number of plots"
   ],
   "metadata": {
    "collapsed": false
   }
  },
  {
   "cell_type": "code",
   "execution_count": 47,
   "outputs": [],
   "source": [
    "n_plots = 4\n",
    "rows = cols = 80\n",
    "\n",
    "# check if playing field size and plot number works together\n",
    "try:\n",
    "    # modulo must be zero\n",
    "    assert rows % n_plots == 0\n",
    "except AssertionError as e:\n",
    "    print(\"playing field size and plot number dont work together. field size must be divideable by plot number without rest.\")"
   ],
   "metadata": {
    "collapsed": false,
    "pycharm": {
     "name": "#%%\n"
    }
   }
  },
  {
   "cell_type": "markdown",
   "source": [
    "Create a dummy \"plot\" matrix"
   ],
   "metadata": {
    "collapsed": false,
    "pycharm": {
     "name": "#%% md\n"
    }
   }
  },
  {
   "cell_type": "code",
   "execution_count": 48,
   "outputs": [
    {
     "data": {
      "text/plain": "(20, 20)"
     },
     "execution_count": 48,
     "metadata": {},
     "output_type": "execute_result"
    }
   ],
   "source": [
    "plot_length = int(rows/n_plots)\n",
    "dummy_plot = np.ones(plot_length**2).reshape((plot_length, plot_length))\n",
    "dummy_plot.shape"
   ],
   "metadata": {
    "collapsed": false,
    "pycharm": {
     "name": "#%%\n"
    }
   }
  },
  {
   "cell_type": "markdown",
   "source": [
    "Create a few meaningful block matrixes\n",
    "\n",
    "Example matrix:\n",
    "\n",
    "  1 2\n",
    "\n",
    "A x y\n",
    "\n",
    "B z x"
   ],
   "metadata": {
    "collapsed": false,
    "pycharm": {
     "name": "#%% md\n"
    }
   }
  },
  {
   "cell_type": "code",
   "execution_count": 49,
   "outputs": [],
   "source": [
    "A1 = dummy_plot\n",
    "A2 = dummy_plot * 2\n",
    "B1 = dummy_plot * 3\n",
    "B2 = dummy_plot * 4"
   ],
   "metadata": {
    "collapsed": false,
    "pycharm": {
     "name": "#%%\n"
    }
   }
  },
  {
   "cell_type": "markdown",
   "source": [
    "Create a bigger (40 x 40) matrix from the 4 smaller block matrices"
   ],
   "metadata": {
    "collapsed": false,
    "pycharm": {
     "name": "#%% md\n"
    }
   }
  },
  {
   "cell_type": "code",
   "execution_count": 50,
   "outputs": [
    {
     "data": {
      "text/plain": "array([[1., 1., 1., ..., 2., 2., 2.],\n       [1., 1., 1., ..., 2., 2., 2.],\n       [1., 1., 1., ..., 2., 2., 2.],\n       ...,\n       [3., 3., 3., ..., 4., 4., 4.],\n       [3., 3., 3., ..., 4., 4., 4.],\n       [3., 3., 3., ..., 4., 4., 4.]])"
     },
     "execution_count": 50,
     "metadata": {},
     "output_type": "execute_result"
    }
   ],
   "source": [
    "large_matrix = np.block([[A1, A2], [B1, B2]])\n",
    "large_matrix"
   ],
   "metadata": {
    "collapsed": false,
    "pycharm": {
     "name": "#%%\n"
    }
   }
  },
  {
   "cell_type": "code",
   "execution_count": 51,
   "outputs": [
    {
     "data": {
      "text/plain": "(40, 40)"
     },
     "execution_count": 51,
     "metadata": {},
     "output_type": "execute_result"
    }
   ],
   "source": [
    "large_matrix.shape"
   ],
   "metadata": {
    "collapsed": false,
    "pycharm": {
     "name": "#%%\n"
    }
   }
  },
  {
   "cell_type": "markdown",
   "source": [
    "Works like a charm! We can now distinguish the various plots on our playing field\n",
    "by using np.block.\n",
    "\n",
    "Now, let's figure out how to manipulate the blocks separately. For this, I found\n",
    "some suggestions here: https://stackoverflow.com/questions/39104999/multiply-each-block-of-a-block-matrix-with-different-coefficient-in-numpy.\n",
    "I will follow those and will try to use numpy's Kronecker Delta function to solve our problem.\n",
    "\n",
    "1. The number of plots is determined by $n_{plots}$, in our case, $n_{plots} := 4$.\n",
    "\n",
    "2. Assuming our playing field is a $(n * n)$ quadratic matrix, we also need to define $n$. For now, let $n := 80$.\n",
    "\n",
    "3. We can define $length_{plot}$ as $\\frac{n_{plots}}{n}$, in our case, $length_{plot} = 20$.\n",
    "\n",
    "4. For updating the blocks/plots separately, we need to define a $n_{plots} * n_{plots}$ coefficient matrix\n",
    "and from thereon construct a $(length_{plot} * n) * (length_{plot} * n)$ block coefficient matrix.\n",
    "\n",
    "5. We can then exploit the Kronecker Delta function, and multiply the small, $n_{plots} * n_{plots}$ coefficient matrix\n",
    "with a $length_{plot} * length_{plot}$ unit matrix (create with np.ones).\n",
    "\n",
    "6. In the end, we use this $(length_{plot} * n) * (length_{plot} * n)$ block coefficient matrix\n",
    "to update our $(n * n)$ playing field matrix.\n",
    "\n",
    "Et voila! Is this understandable?"
   ],
   "metadata": {
    "collapsed": false
   }
  },
  {
   "cell_type": "code",
   "execution_count": 52,
   "outputs": [
    {
     "data": {
      "text/plain": "(40, 40)"
     },
     "execution_count": 52,
     "metadata": {},
     "output_type": "execute_result"
    }
   ],
   "source": [
    "large_dummy_matrix = np.ones_like(large_matrix)\n",
    "large_dummy_matrix.shape"
   ],
   "metadata": {
    "collapsed": false,
    "pycharm": {
     "name": "#%%\n"
    }
   }
  },
  {
   "cell_type": "code",
   "execution_count": 53,
   "outputs": [
    {
     "data": {
      "text/plain": "array([[1., 1., 1., ..., 2., 2., 2.],\n       [1., 1., 1., ..., 2., 2., 2.],\n       [1., 1., 1., ..., 2., 2., 2.],\n       ...,\n       [3., 3., 3., ..., 4., 4., 4.],\n       [3., 3., 3., ..., 4., 4., 4.],\n       [3., 3., 3., ..., 4., 4., 4.]])"
     },
     "execution_count": 53,
     "metadata": {},
     "output_type": "execute_result"
    }
   ],
   "source": [
    "n = plot_length\n",
    "coef_matrix = np.array([[1, 2], [3, 4]])\n",
    "\n",
    "result = np.multiply(large_dummy_matrix, np.kron(coef_matrix, np.ones((n,n))))\n",
    "result\n"
   ],
   "metadata": {
    "collapsed": false,
    "pycharm": {
     "name": "#%%\n"
    }
   }
  },
  {
   "cell_type": "markdown",
   "source": [
    "Again, works like a charm! Let's now put everything together in a neat data\n",
    "structure tailored to our playing field problem.\n",
    "\n",
    "Unfortunately, mixing characters (A-D) and numbers (1-4) is pretty bad\n",
    "for the coding team for many reasons, so let's please just use numbers\n",
    "(just like in linalg courses) to specify plots/blocks on our map.\n",
    "\n",
    "Both Rows and Columns are characterised by numbers from 1-4 which when combined\n",
    "uniquely identify each block/plot as follows:\n",
    "\n",
    "\n",
    "| - | 1   | 2   | 3   | 4  |\n",
    "--- | --- | --- | --- | ---\n",
    "| 1 | 11  | 12  | 13  | 14 |\n",
    "| 2 | 21  | 22  | 23  | 24 |\n",
    "| 3 | 31  | 32  | 33  | 34 |\n",
    "| 4 | 41  | 42  | 43  | 44 |\n",
    "\n",
    "Hope that is fine - thanks!"
   ],
   "metadata": {
    "collapsed": false
   }
  },
  {
   "cell_type": "markdown",
   "source": [
    "Use index matrix and value concatenation to dynamically create plot/block\n",
    "definitions based on playing field size and plot number (ideally, we want to\n",
    "stay flexible here).\n",
    "\n",
    "https://stackoverflow.com/questions/36700914/how-to-merge-2-numpy-arrays-and-concatenate-their-values"
   ],
   "metadata": {
    "collapsed": false,
    "pycharm": {
     "name": "#%% md\n"
    }
   }
  },
  {
   "cell_type": "code",
   "execution_count": 54,
   "outputs": [],
   "source": [
    "n_plots\n",
    "plot_length\n",
    "n = rows"
   ],
   "metadata": {
    "collapsed": false,
    "pycharm": {
     "name": "#%%\n"
    }
   }
  },
  {
   "cell_type": "code",
   "execution_count": 55,
   "outputs": [
    {
     "data": {
      "text/plain": "array([[11, 12, 13, 14],\n       [21, 22, 23, 24],\n       [31, 32, 33, 34],\n       [41, 42, 43, 44]], dtype=uint8)"
     },
     "execution_count": 55,
     "metadata": {},
     "output_type": "execute_result"
    }
   ],
   "source": [
    "# define blocks/plots via unique integers\n",
    "matrix_indizes = np.indices((n_plots, n_plots), dtype=\"uint8\") + 1\n",
    "row_indizes, column_indizes = matrix_indizes[0], matrix_indizes[1]\n",
    "plot_definition_matrix = np.char.add(row_indizes.astype(np.str), column_indizes.astype(np.str)).astype(np.uint8)\n",
    "plot_definition_matrix"
   ],
   "metadata": {
    "collapsed": false,
    "pycharm": {
     "name": "#%%\n"
    }
   }
  },
  {
   "cell_type": "markdown",
   "source": [
    "Now, let's use the small \"plot_definition_matrix\" to create the definitions\n",
    "for the real world, large playing field matrix consisting of many small block\n",
    "matrices."
   ],
   "metadata": {
    "collapsed": false,
    "pycharm": {
     "name": "#%% md\n"
    }
   }
  },
  {
   "cell_type": "code",
   "execution_count": 56,
   "outputs": [
    {
     "data": {
      "text/plain": "(80, 80)"
     },
     "execution_count": 56,
     "metadata": {},
     "output_type": "execute_result"
    }
   ],
   "source": [
    "dummy_playing_field_matrix = np.ones(shape=(rows, cols), dtype=np.uint8)\n",
    "dummy_playing_field_matrix.shape"
   ],
   "metadata": {
    "collapsed": false,
    "pycharm": {
     "name": "#%%\n"
    }
   }
  },
  {
   "cell_type": "code",
   "execution_count": 57,
   "outputs": [
    {
     "data": {
      "text/plain": "array([[11., 11., 11., ..., 14., 14., 14.],\n       [11., 11., 11., ..., 14., 14., 14.],\n       [11., 11., 11., ..., 14., 14., 14.],\n       ...,\n       [41., 41., 41., ..., 44., 44., 44.],\n       [41., 41., 41., ..., 44., 44., 44.],\n       [41., 41., 41., ..., 44., 44., 44.]])"
     },
     "execution_count": 57,
     "metadata": {},
     "output_type": "execute_result"
    }
   ],
   "source": [
    "large_plot_definition_matrix = np.multiply(\n",
    "    dummy_playing_field_matrix,\n",
    "    np.kron(plot_definition_matrix, np.ones(shape=(plot_length, plot_length)))\n",
    ")\n",
    "\n",
    "large_plot_definition_matrix"
   ],
   "metadata": {
    "collapsed": false,
    "pycharm": {
     "name": "#%%\n"
    }
   }
  },
  {
   "cell_type": "code",
   "execution_count": 58,
   "outputs": [
    {
     "data": {
      "text/plain": "(80, 80)"
     },
     "execution_count": 58,
     "metadata": {},
     "output_type": "execute_result"
    }
   ],
   "source": [
    "large_plot_definition_matrix.shape"
   ],
   "metadata": {
    "collapsed": false,
    "pycharm": {
     "name": "#%%\n"
    }
   }
  },
  {
   "cell_type": "markdown",
   "source": [
    "## Bringing it all together\n",
    "\n",
    "Let's now define the common, underlying data structure/interface needed to\n",
    "play our game. It consists of a set of matrices, which in turn can (but don't\n",
    "necessarily need) be combined (\"stacked\") into a 3D array representation (\"data cube\").\n",
    "\n",
    "To be flexible, I would suggest we stick with 2D arrays for now as they are\n",
    "easier to change/adjust/adapt and less prone to errors. I would only transition\n",
    "towards a 3D representation later on, given there is time and motivation to do so.\n",
    "\n",
    "We probably need the following 2D matrices/arrays of equal shape (same number of\n",
    "rows and columns, always!!) to be able to play our game. Note that all of them\n",
    "should be numpy masked arrays (np.ma), because we crop out all LULC data\n",
    "outside of our area of interest (the biosphere park boundary).\n",
    "\n",
    "This table summarizes all parameters needed to describe the game's playing field,\n",
    "(given that a raster map describing the LULC already exists).\n",
    "\n",
    "Parameter | Data structure | Data type | Shape | Description\n",
    "--- | --- | --- | --- | ---\n",
    "n_pixels | int | np.uint16 | (1,) | The size of the quadratic playing field along one dimension, where n_pixels = rows = cols.\n",
    "n_blocks | int | np.uint8 | (1,) | The number of plots/blocks to be created.\n",
    "\n",
    "From these initial parameters, we create a few more \"derived\" parameters:\n",
    "\n",
    "Parameter | Data structure | Data type | Shape | Description\n",
    "--- | --- | --- | --- | ---\n",
    "n_pixels_block | int | np.uint8 | (1,) | n_blocks / n_pixels\n",
    "\n",
    "\n",
    "This table summarizes all matrices necessary for creating the game's back-end:\n",
    "\n",
    "Matrix | Variable name | Data structure | Data type | Shape | General description | Mapping description\n",
    "--- | --- | --- | --- | --- | --- | ---\n",
    "**Land-use and land-cover (LULC) types** | lulc_matrix | np.ma | np.unit8 | (n_pixels, n_pixels) | defines the land-cover and land-use types of the playing field | each integer maps to a unique LULC class.\n",
    "**Plot/Block Definitions** | plot_definition_matrix | np.ma | np.unit8 | (n_blocks, n_blocks) or (n_pixels, n_pixels) |  defines the plots/blocks the players can manipulate | each integer maps to a unique plot/block identifier. this \"small\" matrix is brought into (n_pixels, n_pixels) shape via the kronecker delta function.\n",
    "**Cooperation/Teamwork** | cooperation_matrix | np.ma | np.bool | (n_pixels, n_pixels) |  defines in which block players from a certain stakeholder group are open for cooperation with players from other stakeholder groups.\n",
    "**Tourism/SSDA** | tourism_matrix | np.ma | np.bool | (n_pixels, n_pixels) |  defines the plot which SSDA designates as being particularly valuable for tourism based on biodiversity, etc.\n"
   ],
   "metadata": {
    "collapsed": false
   }
  }
 ],
 "metadata": {
  "kernelspec": {
   "name": "pycharm-ba196790",
   "language": "python",
   "display_name": "PyCharm (gecm)"
  },
  "language_info": {
   "codemirror_mode": {
    "name": "ipython",
    "version": 2
   },
   "file_extension": ".py",
   "mimetype": "text/x-python",
   "name": "python",
   "nbconvert_exporter": "python",
   "pygments_lexer": "ipython2",
   "version": "2.7.6"
  }
 },
 "nbformat": 4,
 "nbformat_minor": 0
}